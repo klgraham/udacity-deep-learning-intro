{
 "cells": [
  {
   "cell_type": "code",
   "execution_count": 1,
   "metadata": {
    "collapsed": true
   },
   "outputs": [],
   "source": [
    "import pandas as pd\n",
    "import numpy as np\n",
    "import matplotlib.pyplot as plt\n",
    "import tensorflow as tf"
   ]
  },
  {
   "cell_type": "code",
   "execution_count": 88,
   "metadata": {
    "collapsed": false
   },
   "outputs": [
    {
     "data": {
      "text/html": [
       "<div>\n",
       "<table border=\"1\" class=\"dataframe\">\n",
       "  <thead>\n",
       "    <tr style=\"text-align: right;\">\n",
       "      <th></th>\n",
       "      <th>area</th>\n",
       "      <th>bathrooms</th>\n",
       "    </tr>\n",
       "  </thead>\n",
       "  <tbody>\n",
       "    <tr>\n",
       "      <th>0</th>\n",
       "      <td>2104.0</td>\n",
       "      <td>3.0</td>\n",
       "    </tr>\n",
       "    <tr>\n",
       "      <th>1</th>\n",
       "      <td>1600.0</td>\n",
       "      <td>3.0</td>\n",
       "    </tr>\n",
       "    <tr>\n",
       "      <th>2</th>\n",
       "      <td>2400.0</td>\n",
       "      <td>3.0</td>\n",
       "    </tr>\n",
       "    <tr>\n",
       "      <th>3</th>\n",
       "      <td>1416.0</td>\n",
       "      <td>2.0</td>\n",
       "    </tr>\n",
       "    <tr>\n",
       "      <th>4</th>\n",
       "      <td>3000.0</td>\n",
       "      <td>4.0</td>\n",
       "    </tr>\n",
       "    <tr>\n",
       "      <th>5</th>\n",
       "      <td>1985.0</td>\n",
       "      <td>4.0</td>\n",
       "    </tr>\n",
       "    <tr>\n",
       "      <th>6</th>\n",
       "      <td>1534.0</td>\n",
       "      <td>3.0</td>\n",
       "    </tr>\n",
       "    <tr>\n",
       "      <th>7</th>\n",
       "      <td>1427.0</td>\n",
       "      <td>3.0</td>\n",
       "    </tr>\n",
       "    <tr>\n",
       "      <th>8</th>\n",
       "      <td>1380.0</td>\n",
       "      <td>3.0</td>\n",
       "    </tr>\n",
       "    <tr>\n",
       "      <th>9</th>\n",
       "      <td>1494.0</td>\n",
       "      <td>3.0</td>\n",
       "    </tr>\n",
       "  </tbody>\n",
       "</table>\n",
       "</div>"
      ],
      "text/plain": [
       "     area  bathrooms\n",
       "0  2104.0        3.0\n",
       "1  1600.0        3.0\n",
       "2  2400.0        3.0\n",
       "3  1416.0        2.0\n",
       "4  3000.0        4.0\n",
       "5  1985.0        4.0\n",
       "6  1534.0        3.0\n",
       "7  1427.0        3.0\n",
       "8  1380.0        3.0\n",
       "9  1494.0        3.0"
      ]
     },
     "execution_count": 88,
     "metadata": {},
     "output_type": "execute_result"
    }
   ],
   "source": [
    "# step 1: load data\n",
    "data = pd.read_csv('data.csv')\n",
    "\n",
    "## remove unwanted features\n",
    "data = data.drop(['index', 'price', 'sq_price'], axis=1)\n",
    "\n",
    "# only use first 10 lines\n",
    "data = data[:10] # could have written data[0:10] also\n",
    "data"
   ]
  },
  {
   "cell_type": "markdown",
   "metadata": {},
   "source": [
    "Probably want to normalize the area data."
   ]
  },
  {
   "cell_type": "code",
   "execution_count": 90,
   "metadata": {
    "collapsed": false
   },
   "outputs": [
    {
     "data": {
      "text/html": [
       "<div>\n",
       "<table border=\"1\" class=\"dataframe\">\n",
       "  <thead>\n",
       "    <tr style=\"text-align: right;\">\n",
       "      <th></th>\n",
       "      <th>area</th>\n",
       "      <th>bathrooms</th>\n",
       "      <th>y1</th>\n",
       "      <th>y2</th>\n",
       "    </tr>\n",
       "  </thead>\n",
       "  <tbody>\n",
       "    <tr>\n",
       "      <th>0</th>\n",
       "      <td>2104.0</td>\n",
       "      <td>3.0</td>\n",
       "      <td>1</td>\n",
       "      <td>0</td>\n",
       "    </tr>\n",
       "    <tr>\n",
       "      <th>1</th>\n",
       "      <td>1600.0</td>\n",
       "      <td>3.0</td>\n",
       "      <td>1</td>\n",
       "      <td>0</td>\n",
       "    </tr>\n",
       "    <tr>\n",
       "      <th>2</th>\n",
       "      <td>2400.0</td>\n",
       "      <td>3.0</td>\n",
       "      <td>1</td>\n",
       "      <td>0</td>\n",
       "    </tr>\n",
       "    <tr>\n",
       "      <th>3</th>\n",
       "      <td>1416.0</td>\n",
       "      <td>2.0</td>\n",
       "      <td>0</td>\n",
       "      <td>1</td>\n",
       "    </tr>\n",
       "    <tr>\n",
       "      <th>4</th>\n",
       "      <td>3000.0</td>\n",
       "      <td>4.0</td>\n",
       "      <td>0</td>\n",
       "      <td>1</td>\n",
       "    </tr>\n",
       "    <tr>\n",
       "      <th>5</th>\n",
       "      <td>1985.0</td>\n",
       "      <td>4.0</td>\n",
       "      <td>1</td>\n",
       "      <td>0</td>\n",
       "    </tr>\n",
       "    <tr>\n",
       "      <th>6</th>\n",
       "      <td>1534.0</td>\n",
       "      <td>3.0</td>\n",
       "      <td>0</td>\n",
       "      <td>1</td>\n",
       "    </tr>\n",
       "    <tr>\n",
       "      <th>7</th>\n",
       "      <td>1427.0</td>\n",
       "      <td>3.0</td>\n",
       "      <td>1</td>\n",
       "      <td>0</td>\n",
       "    </tr>\n",
       "    <tr>\n",
       "      <th>8</th>\n",
       "      <td>1380.0</td>\n",
       "      <td>3.0</td>\n",
       "      <td>1</td>\n",
       "      <td>0</td>\n",
       "    </tr>\n",
       "    <tr>\n",
       "      <th>9</th>\n",
       "      <td>1494.0</td>\n",
       "      <td>3.0</td>\n",
       "      <td>1</td>\n",
       "      <td>0</td>\n",
       "    </tr>\n",
       "  </tbody>\n",
       "</table>\n",
       "</div>"
      ],
      "text/plain": [
       "     area  bathrooms  y1  y2\n",
       "0  2104.0        3.0   1   0\n",
       "1  1600.0        3.0   1   0\n",
       "2  2400.0        3.0   1   0\n",
       "3  1416.0        2.0   0   1\n",
       "4  3000.0        4.0   0   1\n",
       "5  1985.0        4.0   1   0\n",
       "6  1534.0        3.0   0   1\n",
       "7  1427.0        3.0   1   0\n",
       "8  1380.0        3.0   1   0\n",
       "9  1494.0        3.0   1   0"
      ]
     },
     "execution_count": 90,
     "metadata": {},
     "output_type": "execute_result"
    }
   ],
   "source": [
    "# the dataset has no truth labels, so we need to make some up and add them\n",
    "# step 2: add labels (to the 10 we're using)\n",
    "# 1 is good buy, 0 is bad buy\n",
    "data.loc[:, ('y1')] = [1,1,1,0,0,1,0,1,1,1]\n",
    "\n",
    "# adding column negating the y1 column (this seems totally unnecessary)\n",
    "data.loc[:, ('y2')] = data['y1'] == 0\n",
    "\n",
    "# True/False => 1/0\n",
    "data.loc[:, ('y2')] = data['y2'].astype(int)\n",
    "data"
   ]
  },
  {
   "cell_type": "code",
   "execution_count": 91,
   "metadata": {
    "collapsed": false
   },
   "outputs": [
    {
     "name": "stdout",
     "output_type": "stream",
     "text": [
      "inputX shape:  (10, 2)\n",
      "inputY shape:  (10, 2)\n"
     ]
    }
   ],
   "source": [
    "# step 3: prepare data for Tensorflow\n",
    "# this means we need to make tensors\n",
    "\n",
    "#input\n",
    "inputX = data.loc[:, ['area', 'bathrooms']].as_matrix()\n",
    "print('inputX shape: ', inputX.shape)\n",
    "\n",
    "# labels\n",
    "inputY = data.loc[:, ['y1', 'y2']].as_matrix()\n",
    "print('inputY shape: ', inputY.shape)"
   ]
  },
  {
   "cell_type": "code",
   "execution_count": 86,
   "metadata": {
    "collapsed": false
   },
   "outputs": [
    {
     "data": {
      "text/plain": [
       "array([[  2.10400000e+03,   3.00000000e+00],\n",
       "       [  1.60000000e+03,   3.00000000e+00],\n",
       "       [  2.40000000e+03,   3.00000000e+00],\n",
       "       [  1.41600000e+03,   2.00000000e+00],\n",
       "       [  3.00000000e+03,   4.00000000e+00],\n",
       "       [  1.98500000e+03,   4.00000000e+00],\n",
       "       [  1.53400000e+03,   3.00000000e+00],\n",
       "       [  1.42700000e+03,   3.00000000e+00],\n",
       "       [  1.38000000e+03,   3.00000000e+00],\n",
       "       [  1.49400000e+03,   3.00000000e+00]])"
      ]
     },
     "execution_count": 86,
     "metadata": {},
     "output_type": "execute_result"
    }
   ],
   "source": [
    "inputX"
   ]
  },
  {
   "cell_type": "code",
   "execution_count": 92,
   "metadata": {
    "collapsed": false
   },
   "outputs": [
    {
     "data": {
      "text/plain": [
       "array([[1, 0],\n",
       "       [1, 0],\n",
       "       [1, 0],\n",
       "       [0, 1],\n",
       "       [0, 1],\n",
       "       [1, 0],\n",
       "       [0, 1],\n",
       "       [1, 0],\n",
       "       [1, 0],\n",
       "       [1, 0]])"
      ]
     },
     "execution_count": 92,
     "metadata": {},
     "output_type": "execute_result"
    }
   ],
   "source": [
    "inputY"
   ]
  },
  {
   "cell_type": "code",
   "execution_count": 93,
   "metadata": {
    "collapsed": false
   },
   "outputs": [],
   "source": [
    "# step 4: hyperparameters\n",
    "learning_rate = 0.000001\n",
    "epochs = 2000\n",
    "display_every = 50\n",
    "n_samples = inputY.size\n",
    "n_features = inputX.shape[1]\n",
    "n_outputs = inputY.shape[1]"
   ]
  },
  {
   "cell_type": "code",
   "execution_count": 94,
   "metadata": {
    "collapsed": false
   },
   "outputs": [],
   "source": [
    "# step 5: define network graph\n",
    "\n",
    "# input feature tensor, None = any number of examples\n",
    "# 2 is number of features\n",
    "x = tf.placeholder(tf.float32, [None, n_features])\n",
    "\n",
    "# weights\n",
    "# 2x2 float matrix, 2 because number of features\n",
    "W = tf.Variable(tf.zeros([n_features,n_features]))\n",
    "tf.zeros\n",
    "\n",
    "# bias\n",
    "b = tf.Variable(tf.zeros([n_features]))\n",
    "\n",
    "# forward pass\n",
    "y = tf.add(tf.matmul(x, W), b)\n",
    "\n",
    "# activation: softmax \n",
    "# softmax converts output to a probability\n",
    "y = tf.nn.softmax(y)\n",
    "\n",
    "# labels, needed for training loss\n",
    "y_target = tf.placeholder(tf.float32, [None, n_outputs])"
   ]
  },
  {
   "cell_type": "code",
   "execution_count": 95,
   "metadata": {
    "collapsed": true
   },
   "outputs": [],
   "source": [
    "# step 6: training\n",
    "\n",
    "# MSE cost function\n",
    "cost = tf.reduce_sum(tf.pow(y_target - y, 2) / (2 * n_samples))\n",
    "\n",
    "# gradient descent\n",
    "optimizer = tf.train.GradientDescentOptimizer(learning_rate).minimize(cost)"
   ]
  },
  {
   "cell_type": "code",
   "execution_count": 96,
   "metadata": {
    "collapsed": false
   },
   "outputs": [],
   "source": [
    "# step 7: initialize session\n",
    "init = tf.global_variables_initializer()\n",
    "sess = tf.Session()\n",
    "sess.run(init)"
   ]
  },
  {
   "cell_type": "code",
   "execution_count": 97,
   "metadata": {
    "collapsed": false
   },
   "outputs": [
    {
     "name": "stdout",
     "output_type": "stream",
     "text": [
      "epoch:  0 , cost:  0.114958666\n",
      "epoch:  50 , cost:  0.109539941\n",
      "epoch:  100 , cost:  0.109539881\n",
      "epoch:  150 , cost:  0.109539807\n",
      "epoch:  200 , cost:  0.109539732\n",
      "epoch:  250 , cost:  0.109539673\n",
      "epoch:  300 , cost:  0.109539606\n",
      "epoch:  350 , cost:  0.109539539\n",
      "epoch:  400 , cost:  0.109539472\n",
      "epoch:  450 , cost:  0.109539405\n",
      "epoch:  500 , cost:  0.109539330\n",
      "epoch:  550 , cost:  0.109539263\n",
      "epoch:  600 , cost:  0.109539196\n",
      "epoch:  650 , cost:  0.109539129\n",
      "epoch:  700 , cost:  0.109539062\n",
      "epoch:  750 , cost:  0.109538995\n",
      "epoch:  800 , cost:  0.109538920\n",
      "epoch:  850 , cost:  0.109538853\n",
      "epoch:  900 , cost:  0.109538779\n",
      "epoch:  950 , cost:  0.109538719\n",
      "epoch:  1000 , cost:  0.109538652\n",
      "epoch:  1050 , cost:  0.109538570\n",
      "epoch:  1100 , cost:  0.109538503\n",
      "epoch:  1150 , cost:  0.109538451\n",
      "epoch:  1200 , cost:  0.109538369\n",
      "epoch:  1250 , cost:  0.109538317\n",
      "epoch:  1300 , cost:  0.109538242\n",
      "epoch:  1350 , cost:  0.109538175\n",
      "epoch:  1400 , cost:  0.109538093\n",
      "epoch:  1450 , cost:  0.109538034\n",
      "epoch:  1500 , cost:  0.109537967\n",
      "epoch:  1550 , cost:  0.109537899\n",
      "epoch:  1600 , cost:  0.109537832\n",
      "epoch:  1650 , cost:  0.109537765\n",
      "epoch:  1700 , cost:  0.109537676\n",
      "epoch:  1750 , cost:  0.109537616\n",
      "epoch:  1800 , cost:  0.109537549\n",
      "epoch:  1850 , cost:  0.109537490\n",
      "epoch:  1900 , cost:  0.109537423\n",
      "epoch:  1950 , cost:  0.109537356\n",
      "training complete\n",
      "training cost:  0.109537 , W:  [[  2.14149564e-04  -2.14149914e-04]\n",
      " [  5.12748193e-05  -5.12747974e-05]] , b:  [  1.19155184e-05  -1.19155284e-05]\n"
     ]
    }
   ],
   "source": [
    "# step 8: define training loop\n",
    "\n",
    "for i in range(epochs):\n",
    "    sess.run(optimizer, feed_dict={x: inputX, y_target: inputY})\n",
    "    \n",
    "    # progress of training\n",
    "    if (i % display_every) == 0:\n",
    "        cc = sess.run(cost, feed_dict={x: inputX, y_target: inputY})\n",
    "        print('epoch: ', i, ', cost: ', \"{:.9f}\".format(cc))\n",
    "        \n",
    "print('training complete')\n",
    "training_cost = sess.run(cost, feed_dict={x: inputX, y_target: inputY})\n",
    "print('training cost: ', training_cost, ', W: ', sess.run(W), ', b: ', sess.run(b))"
   ]
  },
  {
   "cell_type": "code",
   "execution_count": 99,
   "metadata": {
    "collapsed": false
   },
   "outputs": [
    {
     "data": {
      "text/plain": [
       "array([[ 0.71125221,  0.28874779],\n",
       "       [ 0.66498977,  0.33501023],\n",
       "       [ 0.73657656,  0.26342347],\n",
       "       [ 0.64718789,  0.35281211],\n",
       "       [ 0.78335613,  0.2166439 ],\n",
       "       [ 0.70069474,  0.29930523],\n",
       "       [ 0.65866327,  0.34133676],\n",
       "       [ 0.64828628,  0.35171372],\n",
       "       [ 0.64368278,  0.35631716],\n",
       "       [ 0.65480113,  0.3451989 ]], dtype=float32)"
      ]
     },
     "execution_count": 99,
     "metadata": {},
     "output_type": "execute_result"
    }
   ],
   "source": [
    "# looking at probabilitites of predictions\n",
    "# the softmax converts these from probability to classification label\n",
    "sess.run(y, feed_dict = {x:inputX})"
   ]
  },
  {
   "cell_type": "markdown",
   "metadata": {},
   "source": [
    "The predictions are not so great, so the next step would be to add a hidden layer."
   ]
  },
  {
   "cell_type": "code",
   "execution_count": null,
   "metadata": {
    "collapsed": true
   },
   "outputs": [],
   "source": []
  }
 ],
 "metadata": {
  "anaconda-cloud": {},
  "kernelspec": {
   "display_name": "Python [conda env:tensorflow]",
   "language": "python",
   "name": "conda-env-tensorflow-py"
  },
  "language_info": {
   "codemirror_mode": {
    "name": "ipython",
    "version": 3
   },
   "file_extension": ".py",
   "mimetype": "text/x-python",
   "name": "python",
   "nbconvert_exporter": "python",
   "pygments_lexer": "ipython3",
   "version": "3.5.2"
  }
 },
 "nbformat": 4,
 "nbformat_minor": 2
}
