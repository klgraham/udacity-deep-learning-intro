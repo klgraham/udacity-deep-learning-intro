{
 "cells": [
  {
   "cell_type": "markdown",
   "metadata": {
    "collapsed": true,
    "deletable": true,
    "editable": true
   },
   "source": [
    "# Image Classification\n",
    "In this project, you'll classify images from the [CIFAR-10 dataset](https://www.cs.toronto.edu/~kriz/cifar.html).  The dataset consists of airplanes, dogs, cats, and other objects. You'll preprocess the images, then train a convolutional neural network on all the samples. The images need to be normalized and the labels need to be one-hot encoded.  You'll get to apply what you learned and build a convolutional, max pooling, dropout, and fully connected layers.  At the end, you'll get to see your neural network's predictions on the sample images.\n",
    "## Get the Data\n",
    "Run the following cell to download the [CIFAR-10 dataset for python](https://www.cs.toronto.edu/~kriz/cifar-10-python.tar.gz)."
   ]
  },
  {
   "cell_type": "code",
   "execution_count": 1,
   "metadata": {
    "collapsed": false,
    "deletable": true,
    "editable": true
   },
   "outputs": [
    {
     "name": "stdout",
     "output_type": "stream",
     "text": [
      "All files found!\n"
     ]
    }
   ],
   "source": [
    "\"\"\"\n",
    "DON'T MODIFY ANYTHING IN THIS CELL THAT IS BELOW THIS LINE\n",
    "\"\"\"\n",
    "from urllib.request import urlretrieve\n",
    "from os.path import isfile, isdir\n",
    "from tqdm import tqdm\n",
    "import problem_unittests as tests\n",
    "import tarfile\n",
    "\n",
    "cifar10_dataset_folder_path = 'cifar-10-batches-py'\n",
    "\n",
    "class DLProgress(tqdm):\n",
    "    last_block = 0\n",
    "\n",
    "    def hook(self, block_num=1, block_size=1, total_size=None):\n",
    "        self.total = total_size\n",
    "        self.update((block_num - self.last_block) * block_size)\n",
    "        self.last_block = block_num\n",
    "\n",
    "if not isfile('cifar-10-python.tar.gz'):\n",
    "    with DLProgress(unit='B', unit_scale=True, miniters=1, desc='CIFAR-10 Dataset') as pbar:\n",
    "        urlretrieve(\n",
    "            'https://www.cs.toronto.edu/~kriz/cifar-10-python.tar.gz',\n",
    "            'cifar-10-python.tar.gz',\n",
    "            pbar.hook)\n",
    "\n",
    "if not isdir(cifar10_dataset_folder_path):\n",
    "    with tarfile.open('cifar-10-python.tar.gz') as tar:\n",
    "        tar.extractall()\n",
    "        tar.close()\n",
    "\n",
    "\n",
    "tests.test_folder_path(cifar10_dataset_folder_path)"
   ]
  },
  {
   "cell_type": "markdown",
   "metadata": {
    "deletable": true,
    "editable": true
   },
   "source": [
    "## Explore the Data\n",
    "The dataset is broken into batches to prevent your machine from running out of memory.  The CIFAR-10 dataset consists of 5 batches, named `data_batch_1`, `data_batch_2`, etc.. Each batch contains the labels and images that are one of the following:\n",
    "* airplane\n",
    "* automobile\n",
    "* bird\n",
    "* cat\n",
    "* deer\n",
    "* dog\n",
    "* frog\n",
    "* horse\n",
    "* ship\n",
    "* truck\n",
    "\n",
    "Understanding a dataset is part of making predictions on the data.  Play around with the code cell below by changing the `batch_id` and `sample_id`. The `batch_id` is the id for a batch (1-5). The `sample_id` is the id for a image and label pair in the batch.\n",
    "\n",
    "Ask yourself \"What are all possible labels?\", \"What is the range of values for the image data?\", \"Are the labels in order or random?\".  Answers to questions like these will help you preprocess the data and end up with better predictions."
   ]
  },
  {
   "cell_type": "code",
   "execution_count": 2,
   "metadata": {
    "collapsed": false,
    "deletable": true,
    "editable": true
   },
   "outputs": [
    {
     "name": "stdout",
     "output_type": "stream",
     "text": [
      "\n",
      "Stats of batch 1:\n",
      "Samples: 10000\n",
      "Label Counts: {0: 1005, 1: 974, 2: 1032, 3: 1016, 4: 999, 5: 937, 6: 1030, 7: 1001, 8: 1025, 9: 981}\n",
      "First 20 Labels: [6, 9, 9, 4, 1, 1, 2, 7, 8, 3, 4, 7, 7, 2, 9, 9, 9, 3, 2, 6]\n",
      "\n",
      "Example of Image 5:\n",
      "Image - Min Value: 0 Max Value: 252\n",
      "Image - Shape: (32, 32, 3)\n",
      "Label - Label Id: 1 Name: automobile\n"
     ]
    },
    {
     "data": {
      "image/png": "[encoded data removed]",
      "text/plain": [
       "<matplotlib.figure.Figure at 0x7fece1549f98>"
      ]
     },
     "metadata": {
      "image/png": {
       "height": 250,
       "width": 253
      }
     },
     "output_type": "display_data"
    }
   ],
   "source": [
    "%matplotlib inline\n",
    "%config InlineBackend.figure_format = 'retina'\n",
    "\n",
    "import helper\n",
    "import numpy as np\n",
    "\n",
    "# Explore the dataset\n",
    "batch_id = 1\n",
    "sample_id = 5\n",
    "helper.display_stats(cifar10_dataset_folder_path, batch_id, sample_id)"
   ]
  },
  {
   "cell_type": "code",
   "execution_count": 3,
   "metadata": {
    "collapsed": false,
    "deletable": true,
    "editable": true
   },
   "outputs": [
    {
     "name": "stdout",
     "output_type": "stream",
     "text": [
      "\n",
      "Stats of batch 2:\n",
      "Samples: 10000\n",
      "Label Counts: {0: 984, 1: 1007, 2: 1010, 3: 995, 4: 1010, 5: 988, 6: 1008, 7: 1026, 8: 987, 9: 985}\n",
      "First 20 Labels: [1, 6, 6, 8, 8, 3, 4, 6, 0, 6, 0, 3, 6, 6, 5, 4, 8, 3, 2, 6]\n",
      "\n",
      "Example of Image 7:\n",
      "Image - Min Value: 4 Max Value: 226\n",
      "Image - Shape: (32, 32, 3)\n",
      "Label - Label Id: 6 Name: frog\n"
     ]
    },
    {
     "data": {
      "image/png": "[encoded data removed]",
      "text/plain": [
       "<matplotlib.figure.Figure at 0x7fece1549630>"
      ]
     },
     "metadata": {
      "image/png": {
       "height": 250,
       "width": 253
      }
     },
     "output_type": "display_data"
    }
   ],
   "source": [
    "batch_id = 2\n",
    "sample_id = 7\n",
    "helper.display_stats(cifar10_dataset_folder_path, batch_id, sample_id)"
   ]
  },
  {
   "cell_type": "code",
   "execution_count": 4,
   "metadata": {
    "collapsed": false,
    "deletable": true,
    "editable": true
   },
   "outputs": [
    {
     "name": "stdout",
     "output_type": "stream",
     "text": [
      "\n",
      "Stats of batch 3:\n",
      "Samples: 10000\n",
      "Label Counts: {0: 994, 1: 1042, 2: 965, 3: 997, 4: 990, 5: 1029, 6: 978, 7: 1015, 8: 961, 9: 1029}\n",
      "First 20 Labels: [8, 5, 0, 6, 9, 2, 8, 3, 6, 2, 7, 4, 6, 9, 0, 0, 7, 3, 7, 2]\n",
      "\n",
      "Example of Image 9:\n",
      "Image - Min Value: 11 Max Value: 254\n",
      "Image - Shape: (32, 32, 3)\n",
      "Label - Label Id: 2 Name: bird\n"
     ]
    },
    {
     "data": {
      "image/png": "[encoded data removed]",
      "text/plain": [
       "<matplotlib.figure.Figure at 0x7fec8503a4a8>"
      ]
     },
     "metadata": {
      "image/png": {
       "height": 250,
       "width": 253
      }
     },
     "output_type": "display_data"
    }
   ],
   "source": [
    "batch_id = 3\n",
    "sample_id = 9\n",
    "helper.display_stats(cifar10_dataset_folder_path, batch_id, sample_id)"
   ]
  },
  {
   "cell_type": "code",
   "execution_count": 5,
   "metadata": {
    "collapsed": false,
    "deletable": true,
    "editable": true
   },
   "outputs": [
    {
     "name": "stdout",
     "output_type": "stream",
     "text": [
      "\n",
      "Stats of batch 4:\n",
      "Samples: 10000\n",
      "Label Counts: {0: 1003, 1: 963, 2: 1041, 3: 976, 4: 1004, 5: 1021, 6: 1004, 7: 981, 8: 1024, 9: 983}\n",
      "First 20 Labels: [0, 6, 0, 2, 7, 2, 1, 2, 4, 1, 5, 6, 6, 3, 1, 3, 5, 5, 8, 1]\n",
      "\n",
      "Example of Image 1456:\n",
      "Image - Min Value: 34 Max Value: 255\n",
      "Image - Shape: (32, 32, 3)\n",
      "Label - Label Id: 8 Name: ship\n"
     ]
    },
    {
     "data": {
      "image/png": "[encoded data removed]",
      "text/plain": [
       "<matplotlib.figure.Figure at 0x7fec84f9ce48>"
      ]
     },
     "metadata": {
      "image/png": {
       "height": 250,
       "width": 253
      }
     },
     "output_type": "display_data"
    }
   ],
   "source": [
    "batch_id = 4\n",
    "sample_id = 1456\n",
    "helper.display_stats(cifar10_dataset_folder_path, batch_id, sample_id)"
   ]
  },
  {
   "cell_type": "code",
   "execution_count": 6,
   "metadata": {
    "collapsed": false,
    "deletable": true,
    "editable": true
   },
   "outputs": [
    {
     "name": "stdout",
     "output_type": "stream",
     "text": [
      "\n",
      "Stats of batch 5:\n",
      "Samples: 10000\n",
      "Label Counts: {0: 1014, 1: 1014, 2: 952, 3: 1016, 4: 997, 5: 1025, 6: 980, 7: 977, 8: 1003, 9: 1022}\n",
      "First 20 Labels: [1, 8, 5, 1, 5, 7, 4, 3, 8, 2, 7, 2, 0, 1, 5, 9, 6, 2, 0, 8]\n",
      "\n",
      "Example of Image 9999:\n",
      "Image - Min Value: 4 Max Value: 255\n",
      "Image - Shape: (32, 32, 3)\n",
      "Label - Label Id: 1 Name: automobile\n"
     ]
    },
    {
     "data": {
      "image/png": "[encoded data removed]",
      "text/plain": [
       "<matplotlib.figure.Figure at 0x7fec84f89d30>"
      ]
     },
     "metadata": {
      "image/png": {
       "height": 250,
       "width": 253
      }
     },
     "output_type": "display_data"
    }
   ],
   "source": [
    "batch_id = 5\n",
    "sample_id = 9999\n",
    "helper.display_stats(cifar10_dataset_folder_path, batch_id, sample_id)"
   ]
  },
  {
   "cell_type": "markdown",
   "metadata": {
    "deletable": true,
    "editable": true
   },
   "source": [
    "### What are all possible labels?"
   ]
  },
  {
   "cell_type": "code",
   "execution_count": 7,
   "metadata": {
    "collapsed": false,
    "deletable": true,
    "editable": true
   },
   "outputs": [
    {
     "name": "stdout",
     "output_type": "stream",
     "text": [
      "airplane :  0\n",
      "automobile :  1\n",
      "bird :  2\n",
      "cat :  3\n",
      "deer :  4\n",
      "dog :  5\n",
      "frog :  6\n",
      "horse :  7\n",
      "ship :  8\n",
      "truck :  9\n"
     ]
    }
   ],
   "source": [
    "for label, name in enumerate(helper._load_label_names()):\n",
    "    print(name, ': ', label)\n",
    "    \n",
    "num_labels = len(helper._load_label_names())"
   ]
  },
  {
   "cell_type": "markdown",
   "metadata": {
    "deletable": true,
    "editable": true
   },
   "source": [
    "### Are the labels in order or random?\n",
    "\n",
    "Based on the cells above that display the output of ```helper.display_stats```, I'd say that the labels appear to be randomly distributed throughout the batches. There are approximately 1000 images of each label in each batch."
   ]
  },
  {
   "cell_type": "markdown",
   "metadata": {
    "deletable": true,
    "editable": true
   },
   "source": [
    "### What is the range of values for the image data?\n",
    "\n",
    "Each image is sized (32 x 32 x 3). Each element (out of 3,072) in the 3-d array representation of the image takes a value on $[0,255]$. The third image dimension is for the color channel (R, G, or B), so each element tells us how much red, green, or blue (dependinging on which matrix slice we're working with) is present in that pixel."
   ]
  },
  {
   "cell_type": "markdown",
   "metadata": {
    "deletable": true,
    "editable": true
   },
   "source": [
    "## Implement Preprocess Functions\n",
    "### Normalize\n",
    "In the cell below, implement the `normalize` function to take in image data, `x`, and return it as a normalized Numpy array. The values should be in the range of 0 to 1, inclusive.  The return object should be the same shape as `x`."
   ]
  },
  {
   "cell_type": "code",
   "execution_count": 8,
   "metadata": {
    "collapsed": false,
    "deletable": true,
    "editable": true
   },
   "outputs": [
    {
     "name": "stdout",
     "output_type": "stream",
     "text": [
      "Tests Passed\n"
     ]
    }
   ],
   "source": [
    "def normalize(x):\n",
    "    \"\"\"\n",
    "    Normalize a list of sample image data in the range of 0 to 1\n",
    "    : x: List of image data.  The image shape is (32, 32, 3)\n",
    "    : return: Numpy array of normalize data\n",
    "    \"\"\"\n",
    "    # TODO: Implement Function\n",
    "    return x/255\n",
    "\n",
    "\n",
    "\"\"\"\n",
    "DON'T MODIFY ANYTHING IN THIS CELL THAT IS BELOW THIS LINE\n",
    "\"\"\"\n",
    "tests.test_normalize(normalize)"
   ]
  },
  {
   "cell_type": "code",
   "execution_count": 9,
   "metadata": {
    "collapsed": false,
    "deletable": true,
    "editable": true
   },
   "outputs": [
    {
     "name": "stdout",
     "output_type": "stream",
     "text": [
      "[ 72 110 220]\n",
      "[ 0.28235294  0.43137255  0.8627451 ]\n"
     ]
    },
    {
     "data": {
      "text/plain": [
       "1.0"
      ]
     },
     "execution_count": 9,
     "metadata": {},
     "output_type": "execute_result"
    }
   ],
   "source": [
    "import numpy as np\n",
    "import random\n",
    "\n",
    "# check that normalize is implemented correctly\n",
    "x = np.random.randint(0, 255 + 1, (32, 32, 3))\n",
    "print(x[0][0])\n",
    "\n",
    "x_normed = normalize(x)\n",
    "print(x_normed[0][0])\n",
    "np.max(x_normed)"
   ]
  },
  {
   "cell_type": "markdown",
   "metadata": {
    "deletable": true,
    "editable": true
   },
   "source": [
    "### One-hot encode\n",
    "Just like the previous code cell, you'll be implementing a function for preprocessing.  This time, you'll implement the `one_hot_encode` function. The input, `x`, are a list of labels.  Implement the function to return the list of labels as One-Hot encoded Numpy array.  The possible values for labels are 0 to 9. The one-hot encoding function should return the same encoding for each value between each call to `one_hot_encode`.  Make sure to save the map of encodings outside the function.\n",
    "\n",
    "Hint: Don't reinvent the wheel."
   ]
  },
  {
   "cell_type": "code",
   "execution_count": 10,
   "metadata": {
    "collapsed": false,
    "deletable": true,
    "editable": true
   },
   "outputs": [
    {
     "name": "stdout",
     "output_type": "stream",
     "text": [
      "Tests Passed\n"
     ]
    }
   ],
   "source": [
    "from sklearn.preprocessing import LabelBinarizer\n",
    "\n",
    "label_encoder = None\n",
    "\n",
    "def one_hot_encode(x):\n",
    "    \"\"\"\n",
    "    One hot encode a list of sample labels. Return a one-hot encoded vector for each label.\n",
    "    : x: List of sample Labels\n",
    "    : return: Numpy array of one-hot encoded labels\n",
    "    \"\"\"\n",
    "    # TODO: Implement Function\n",
    "    global label_encoder\n",
    "    \n",
    "    if label_encoder == None:\n",
    "        encoder = LabelBinarizer()\n",
    "        encoder.fit(x)\n",
    "        label_encoder = encoder\n",
    "\n",
    "    return label_encoder.transform(x)\n",
    "\n",
    "\"\"\"\n",
    "DON'T MODIFY ANYTHING IN THIS CELL THAT IS BELOW THIS LINE\n",
    "\"\"\"\n",
    "tests.test_one_hot_encode(one_hot_encode)"
   ]
  },
  {
   "cell_type": "markdown",
   "metadata": {
    "deletable": true,
    "editable": true
   },
   "source": [
    "### Randomize Data\n",
    "As you saw from exploring the data above, the order of the samples are randomized.  It doesn't hurt to randomize it again, but you don't need to for this dataset."
   ]
  },
  {
   "cell_type": "markdown",
   "metadata": {
    "deletable": true,
    "editable": true
   },
   "source": [
    "## Preprocess all the data and save it\n",
    "Running the code cell below will preprocess all the CIFAR-10 data and save it to file. The code below also uses 10% of the training data for validation."
   ]
  },
  {
   "cell_type": "code",
   "execution_count": 11,
   "metadata": {
    "collapsed": false,
    "deletable": true,
    "editable": true
   },
   "outputs": [],
   "source": [
    "\"\"\"\n",
    "DON'T MODIFY ANYTHING IN THIS CELL\n",
    "\"\"\"\n",
    "# Preprocess Training, Validation, and Testing Data\n",
    "helper.preprocess_and_save_data(cifar10_dataset_folder_path, normalize, one_hot_encode)"
   ]
  },
  {
   "cell_type": "markdown",
   "metadata": {
    "deletable": true,
    "editable": true
   },
   "source": [
    "# Check Point\n",
    "This is your first checkpoint.  If you ever decide to come back to this notebook or have to restart the notebook, you can start from here.  The preprocessed data has been saved to disk."
   ]
  },
  {
   "cell_type": "code",
   "execution_count": 12,
   "metadata": {
    "collapsed": false,
    "deletable": true,
    "editable": true
   },
   "outputs": [],
   "source": [
    "\"\"\"\n",
    "DON'T MODIFY ANYTHING IN THIS CELL\n",
    "\"\"\"\n",
    "import pickle\n",
    "import problem_unittests as tests\n",
    "import helper\n",
    "\n",
    "# Load the Preprocessed Validation data\n",
    "valid_features, valid_labels = pickle.load(open('preprocess_validation.p', mode='rb'))"
   ]
  },
  {
   "cell_type": "code",
   "execution_count": 13,
   "metadata": {
    "collapsed": true,
    "deletable": true,
    "editable": true
   },
   "outputs": [],
   "source": [
    "num_labels = len(helper._load_label_names())"
   ]
  },
  {
   "cell_type": "markdown",
   "metadata": {
    "deletable": true,
    "editable": true
   },
   "source": [
    "## Build the network\n",
    "For the neural network, you'll build each layer into a function.  Most of the code you've seen has been outside of functions. To test your code more thoroughly, we require that you put each layer in a function.  This allows us to give you better feedback and test for simple mistakes using our unittests before you submit your project.\n",
    "\n",
    ">**Note:** If you're finding it hard to dedicate enough time for this course each week, we've provided a small shortcut to this part of the project. In the next couple of problems, you'll have the option to use classes from the [TensorFlow Layers](https://www.tensorflow.org/api_docs/python/tf/layers) or [TensorFlow Layers (contrib)](https://www.tensorflow.org/api_guides/python/contrib.layers) packages to build each layer, except the layers you build in the \"Convolutional and Max Pooling Layer\" section.  TF Layers is similar to Keras's and TFLearn's abstraction to layers, so it's easy to pickup.\n",
    "\n",
    ">However, if you would like to get the most out of this course, try to solve all the problems _without_ using anything from the TF Layers packages. You **can** still use classes from other packages that happen to have the same name as ones you find in TF Layers! For example, instead of using the TF Layers version of the `conv2d` class, [tf.layers.conv2d](https://www.tensorflow.org/api_docs/python/tf/layers/conv2d), you would want to use the TF Neural Network version of `conv2d`, [tf.nn.conv2d](https://www.tensorflow.org/api_docs/python/tf/nn/conv2d). \n",
    "\n",
    "Let's begin!\n",
    "\n",
    "### Input\n",
    "The neural network needs to read the image data, one-hot encoded labels, and dropout keep probability. Implement the following functions\n",
    "* Implement `neural_net_image_input`\n",
    " * Return a [TF Placeholder](https://www.tensorflow.org/api_docs/python/tf/placeholder)\n",
    " * Set the shape using `image_shape` with batch size set to `None`.\n",
    " * Name the TensorFlow placeholder \"x\" using the TensorFlow `name` parameter in the [TF Placeholder](https://www.tensorflow.org/api_docs/python/tf/placeholder).\n",
    "* Implement `neural_net_label_input`\n",
    " * Return a [TF Placeholder](https://www.tensorflow.org/api_docs/python/tf/placeholder)\n",
    " * Set the shape using `n_classes` with batch size set to `None`.\n",
    " * Name the TensorFlow placeholder \"y\" using the TensorFlow `name` parameter in the [TF Placeholder](https://www.tensorflow.org/api_docs/python/tf/placeholder).\n",
    "* Implement `neural_net_keep_prob_input`\n",
    " * Return a [TF Placeholder](https://www.tensorflow.org/api_docs/python/tf/placeholder) for dropout keep probability.\n",
    " * Name the TensorFlow placeholder \"keep_prob\" using the TensorFlow `name` parameter in the [TF Placeholder](https://www.tensorflow.org/api_docs/python/tf/placeholder).\n",
    "\n",
    "These names will be used at the end of the project to load your saved model.\n",
    "\n",
    "Note: `None` for shapes in TensorFlow allow for a dynamic size."
   ]
  },
  {
   "cell_type": "code",
   "execution_count": 14,
   "metadata": {
    "collapsed": false,
    "deletable": true,
    "editable": true
   },
   "outputs": [
    {
     "name": "stdout",
     "output_type": "stream",
     "text": [
      "Image Input Tests Passed.\n",
      "Label Input Tests Passed.\n",
      "Keep Prob Tests Passed.\n"
     ]
    }
   ],
   "source": [
    "import tensorflow as tf\n",
    "\n",
    "def neural_net_image_input(image_shape):\n",
    "    \"\"\"\n",
    "    Return a Tensor for a bach of image input\n",
    "    : image_shape: Shape of the images, 3D Tuple\n",
    "    : return: Tensor for image input.\n",
    "    \"\"\"\n",
    "    # TODO: Implement Function\n",
    "    shape = [None]\n",
    "    shape.extend(image_shape)\n",
    "    \n",
    "    x = tf.placeholder(tf.float32, shape=shape, name='x')\n",
    "    return x\n",
    "\n",
    "\n",
    "def neural_net_label_input(n_classes):\n",
    "    \"\"\"\n",
    "    Return a Tensor for a batch of label input\n",
    "    : n_classes: Number of classes\n",
    "    : return: Tensor for label input.\n",
    "    \"\"\"\n",
    "    # TODO: Implement Function\n",
    "    y = tf.placeholder(tf.float32, shape=[None, n_classes], name='y')\n",
    "    return y\n",
    "\n",
    "\n",
    "def neural_net_keep_prob_input():\n",
    "    \"\"\"\n",
    "    Return a Tensor for keep probability\n",
    "    : return: Tensor for keep probability.\n",
    "    \"\"\"\n",
    "    # TODO: Implement Function\n",
    "    return tf.placeholder(tf.float32, name='keep_prob')\n",
    "\n",
    "\n",
    "\"\"\"\n",
    "DON'T MODIFY ANYTHING IN THIS CELL THAT IS BELOW THIS LINE\n",
    "\"\"\"\n",
    "tf.reset_default_graph()\n",
    "tests.test_nn_image_inputs(neural_net_image_input)\n",
    "tests.test_nn_label_inputs(neural_net_label_input)\n",
    "tests.test_nn_keep_prob_inputs(neural_net_keep_prob_input)"
   ]
  },
  {
   "cell_type": "markdown",
   "metadata": {
    "deletable": true,
    "editable": true
   },
   "source": [
    "### Convolution and Max Pooling Layer\n",
    "Convolution layers have a lot of success with images. For this code cell, you should implement the function `conv2d_maxpool` to apply convolution then max pooling:\n",
    "* Create the weight and bias using `conv_ksize`, `conv_num_outputs` and the shape of `x_tensor`.\n",
    "* Apply a convolution to `x_tensor` using weight and `conv_strides`.\n",
    " * We recommend you use same padding, but you're welcome to use any padding.\n",
    "* Add bias\n",
    "* Add a nonlinear activation to the convolution.\n",
    "* Apply Max Pooling using `pool_ksize` and `pool_strides`.\n",
    " * We recommend you use same padding, but you're welcome to use any padding.\n",
    "\n",
    "**Note:** You **can't** use [TensorFlow Layers](https://www.tensorflow.org/api_docs/python/tf/layers) or [TensorFlow Layers (contrib)](https://www.tensorflow.org/api_guides/python/contrib.layers) for **this** layer, but you can still use TensorFlow's [Neural Network](https://www.tensorflow.org/api_docs/python/tf/nn) package. You may still use the shortcut option for all the **other** layers."
   ]
  },
  {
   "cell_type": "code",
   "execution_count": 15,
   "metadata": {
    "collapsed": false,
    "deletable": true,
    "editable": true
   },
   "outputs": [
    {
     "name": "stdout",
     "output_type": "stream",
     "text": [
      "Tests Passed\n"
     ]
    }
   ],
   "source": [
    "def conv2d_maxpool(x_tensor, conv_num_outputs, conv_ksize, conv_strides, pool_ksize, pool_strides):\n",
    "    \"\"\"\n",
    "    Apply convolution then max pooling to x_tensor\n",
    "    :param x_tensor: TensorFlow Tensor\n",
    "    :param conv_num_outputs: Number of outputs for the convolutional layer\n",
    "    :param conv_ksize: kernel size 2-D Tuple for the convolutional layer\n",
    "    :param conv_strides: Stride 2-D Tuple for convolution\n",
    "    :param pool_ksize: kernel size 2-D Tuple for pool\n",
    "    :param pool_strides: Stride 2-D Tuple for pool\n",
    "    : return: A tensor that represents convolution and max pooling of x_tensor\n",
    "    \"\"\"\n",
    "    # TODO: Implement Function\n",
    "\n",
    "    # The naming of input parameters does NOT track with the names we've seen in \n",
    "    # the class so far. Slightly confusing\n",
    "    \n",
    "    # input dimensions\n",
    "    input_shape = x_tensor.get_shape().as_list() # as_list() was important\n",
    "    depth = input_shape[3] # color channels\n",
    "    \n",
    "    # filter hyperparameters\n",
    "    num_filters = conv_num_outputs\n",
    "    f_width = conv_ksize[0]\n",
    "    f_height = conv_ksize[1]\n",
    "    # filter depth = number of color channels\n",
    "\n",
    "    weights = tf.Variable(tf.truncated_normal([f_width, f_height, depth, num_filters], stddev=0.1))\n",
    "    bias = tf.Variable(tf.zeros([num_filters]))\n",
    "    \n",
    "    stride = [1, conv_strides[0], conv_strides[1], 1]\n",
    "    \n",
    "    conv = tf.nn.conv2d(x_tensor, weights, strides=stride, padding='SAME')\n",
    "    conv = tf.nn.bias_add(conv, bias)\n",
    "    conv = tf.nn.relu(conv)\n",
    "    \n",
    "    conv = tf.nn.max_pool(\n",
    "        conv,\n",
    "        ksize=[1, pool_ksize[0], pool_ksize[1], 1],\n",
    "        strides=[1, pool_strides[0], pool_strides[1], 1],\n",
    "        padding='SAME')\n",
    "    return conv\n",
    "\n",
    "\n",
    "\"\"\"\n",
    "DON'T MODIFY ANYTHING IN THIS CELL THAT IS BELOW THIS LINE\n",
    "\"\"\"\n",
    "tests.test_con_pool(conv2d_maxpool)"
   ]
  },
  {
   "cell_type": "markdown",
   "metadata": {
    "deletable": true,
    "editable": true
   },
   "source": [
    "### Flatten Layer\n",
    "Implement the `flatten` function to change the dimension of `x_tensor` from a 4-D tensor to a 2-D tensor.  The output should be the shape (*Batch Size*, *Flattened Image Size*). Shortcut option: you can use classes from the [TensorFlow Layers](https://www.tensorflow.org/api_docs/python/tf/layers) or [TensorFlow Layers (contrib)](https://www.tensorflow.org/api_guides/python/contrib.layers) packages for this layer. For more of a challenge, only use other TensorFlow packages."
   ]
  },
  {
   "cell_type": "code",
   "execution_count": 16,
   "metadata": {
    "collapsed": false,
    "deletable": true,
    "editable": true
   },
   "outputs": [
    {
     "name": "stdout",
     "output_type": "stream",
     "text": [
      "Tests Passed\n"
     ]
    }
   ],
   "source": [
    "def flatten(x_tensor):\n",
    "    \"\"\"\n",
    "    Flatten x_tensor to (Batch Size, Flattened Image Size)\n",
    "    : x_tensor: A tensor of size (Batch Size, ...), where ... are the image dimensions.\n",
    "    : return: A tensor of size (Batch Size, Flattened Image Size).\n",
    "    \"\"\"\n",
    "    # TODO: Implement Function\n",
    "    # this is so we can pass the output of the convolution layer to the fully-connected layer\n",
    "    \n",
    "    # input dimensions\n",
    "    input_shape = x_tensor.get_shape().as_list() # as_list() was important\n",
    "    batch_size = input_shape[0]\n",
    "    width = input_shape[1]\n",
    "    height = input_shape[2]\n",
    "    depth = input_shape[3] \n",
    "    \n",
    "    # really not sure why this has to be -1 instead of None\n",
    "    flattened = tf.reshape(x_tensor, [-1, width * height * depth])\n",
    "    \n",
    "    return flattened\n",
    "\n",
    "\n",
    "\"\"\"\n",
    "DON'T MODIFY ANYTHING IN THIS CELL THAT IS BELOW THIS LINE\n",
    "\"\"\"\n",
    "tests.test_flatten(flatten)"
   ]
  },
  {
   "cell_type": "markdown",
   "metadata": {
    "deletable": true,
    "editable": true
   },
   "source": [
    "### Fully-Connected Layer\n",
    "Implement the `fully_conn` function to apply a fully connected layer to `x_tensor` with the shape (*Batch Size*, *num_outputs*). Shortcut option: you can use classes from the [TensorFlow Layers](https://www.tensorflow.org/api_docs/python/tf/layers) or [TensorFlow Layers (contrib)](https://www.tensorflow.org/api_guides/python/contrib.layers) packages for this layer. For more of a challenge, only use other TensorFlow packages."
   ]
  },
  {
   "cell_type": "code",
   "execution_count": 17,
   "metadata": {
    "collapsed": false,
    "deletable": true,
    "editable": true
   },
   "outputs": [
    {
     "name": "stdout",
     "output_type": "stream",
     "text": [
      "Tests Passed\n"
     ]
    }
   ],
   "source": [
    "def fully_conn(x_tensor, num_outputs):\n",
    "    \"\"\"\n",
    "    Apply a fully connected layer to x_tensor using weight and bias\n",
    "    : x_tensor: A 2-D tensor where the first dimension is batch size.\n",
    "    : num_outputs: The number of output that the new tensor should be.\n",
    "    : return: A 2-D tensor where the second dimension is num_outputs.\n",
    "    \"\"\"\n",
    "    # TODO: Implement Function\n",
    "    shape = x_tensor.get_shape().as_list()\n",
    "    batch_size = shape[0]\n",
    "    flattened_image_size = shape[1]\n",
    "    \n",
    "    weights = tf.Variable(tf.truncated_normal([flattened_image_size, num_outputs], stddev=0.1))\n",
    "    bias = tf.Variable(tf.zeros([num_outputs]))\n",
    "    output = tf.add(tf.matmul(x_tensor, weights), bias)\n",
    "    \n",
    "    return tf.nn.relu(output)\n",
    "\n",
    "\n",
    "\"\"\"\n",
    "DON'T MODIFY ANYTHING IN THIS CELL THAT IS BELOW THIS LINE\n",
    "\"\"\"\n",
    "tests.test_fully_conn(fully_conn)"
   ]
  },
  {
   "cell_type": "markdown",
   "metadata": {
    "deletable": true,
    "editable": true
   },
   "source": [
    "### Output Layer\n",
    "Implement the `output` function to apply a fully connected layer to `x_tensor` with the shape (*Batch Size*, *num_outputs*). Shortcut option: you can use classes from the [TensorFlow Layers](https://www.tensorflow.org/api_docs/python/tf/layers) or [TensorFlow Layers (contrib)](https://www.tensorflow.org/api_guides/python/contrib.layers) packages for this layer. For more of a challenge, only use other TensorFlow packages.\n",
    "\n",
    "**Note:** Activation, softmax, or cross entropy should **not** be applied to this."
   ]
  },
  {
   "cell_type": "code",
   "execution_count": 18,
   "metadata": {
    "collapsed": false,
    "deletable": true,
    "editable": true
   },
   "outputs": [
    {
     "name": "stdout",
     "output_type": "stream",
     "text": [
      "Tests Passed\n"
     ]
    }
   ],
   "source": [
    "def output(x_tensor, num_outputs):\n",
    "    \"\"\"\n",
    "    Apply a output layer to x_tensor using weight and bias\n",
    "    : x_tensor: A 2-D tensor where the first dimension is batch size.\n",
    "    : num_outputs: The number of output that the new tensor should be.\n",
    "    : return: A 2-D tensor where the second dimension is num_outputs.\n",
    "    \"\"\"\n",
    "    # TODO: Implement Function\n",
    "    shape = x_tensor.get_shape().as_list()\n",
    "    batch_size = shape[0]\n",
    "    previous_layer_output_dim = shape[1]\n",
    "    \n",
    "    weights = tf.Variable(tf.truncated_normal([previous_layer_output_dim, num_outputs], stddev=0.1))\n",
    "    bias = tf.Variable(tf.zeros([num_outputs]))\n",
    "    \n",
    "    return tf.add(tf.matmul(x_tensor, weights), bias)\n",
    "\n",
    "\n",
    "\"\"\"\n",
    "DON'T MODIFY ANYTHING IN THIS CELL THAT IS BELOW THIS LINE\n",
    "\"\"\"\n",
    "tests.test_output(output)"
   ]
  },
  {
   "cell_type": "markdown",
   "metadata": {
    "deletable": true,
    "editable": true
   },
   "source": [
    "### Create Convolutional Model\n",
    "Implement the function `conv_net` to create a convolutional neural network model. The function takes in a batch of images, `x`, and outputs logits.  Use the layers you created above to create this model:\n",
    "\n",
    "* Apply 1, 2, or 3 Convolution and Max Pool layers\n",
    "* Apply a Flatten Layer\n",
    "* Apply 1, 2, or 3 Fully Connected Layers\n",
    "* Apply an Output Layer\n",
    "* Return the output\n",
    "* Apply [TensorFlow's Dropout](https://www.tensorflow.org/api_docs/python/tf/nn/dropout) to one or more layers in the model using `keep_prob`. "
   ]
  },
  {
   "cell_type": "code",
   "execution_count": 19,
   "metadata": {
    "collapsed": false,
    "deletable": true,
    "editable": true
   },
   "outputs": [
    {
     "name": "stdout",
     "output_type": "stream",
     "text": [
      "Neural Network Built!\n"
     ]
    }
   ],
   "source": [
    "def conv_net(x, keep_prob):\n",
    "    \"\"\"\n",
    "    Create a convolutional neural network model\n",
    "    : x: Placeholder tensor that holds image data.\n",
    "    : keep_prob: Placeholder tensor that hold dropout keep probability.\n",
    "    : return: Tensor that represents logits\n",
    "    \"\"\"\n",
    "    # TODO: Apply 1, 2, or 3 Convolution and Max Pool layers\n",
    "    #    Play around with different number of outputs, kernel size and stride\n",
    "    # Function Definition from Above:\n",
    "    #    conv2d_maxpool(x_tensor, conv_num_outputs, conv_ksize, conv_strides, pool_ksize, pool_strides)\n",
    "\n",
    "    # filter params\n",
    "    k1 = [5,5]\n",
    "    stride1 = [1,1]\n",
    "    num_filters1 = 18\n",
    "    \n",
    "    # max pool params\n",
    "    k1_pool = [3,3]\n",
    "    stride1_pool = [2,2]\n",
    "    \n",
    "    # layer 1\n",
    "    conv1 = conv2d_maxpool(x, num_filters1, k1, stride1, k1_pool, stride1_pool)\n",
    "    conv1 = tf.nn.dropout(conv1, keep_prob)\n",
    "    \n",
    "    ### layer 2\n",
    "    \n",
    "    # filter\n",
    "    k2 = [5,5]\n",
    "    stride2 = [1,1]\n",
    "    num_filters2 = 18\n",
    "    \n",
    "    # pooling layer\n",
    "    k2_pool = [3,3]\n",
    "    stride2_pool = [2,2]\n",
    "    \n",
    "    conv2 = conv2d_maxpool(conv1, num_filters2, k2, stride2, k2_pool, stride2_pool)\n",
    "    conv2 = tf.nn.dropout(conv2, keep_prob)\n",
    "    \n",
    "    ### layer 3 = layer 2  \n",
    "    # filter\n",
    "    k3 = [3,3]\n",
    "    stride3 = [1,1]\n",
    "    num_filters3 = 18\n",
    "    \n",
    "    # pooling layer\n",
    "    k3_pool = [1,1]\n",
    "    stride3_pool = [1,1]\n",
    "    conv3 = conv2d_maxpool(conv2, num_filters3, k3, stride3, k3_pool, stride3_pool)\n",
    "    \n",
    "#     conv3 = tf.nn.dropout(conv3, keep_prob)\n",
    "    \n",
    "\n",
    "    # TODO: Apply a Flatten Layer\n",
    "    # Function Definition from Above:\n",
    "    #   flatten(x_tensor)\n",
    "    flat = flatten(conv3)\n",
    "    \n",
    "\n",
    "    # TODO: Apply 1, 2, or 3 Fully Connected Layers\n",
    "    #    Play around with different number of outputs\n",
    "    # Function Definition from Above:\n",
    "    #   fully_conn(x_tensor, num_outputs)\n",
    "    \n",
    "    fc1 = fully_conn(flat, 384)\n",
    "#     fc1 = tf.nn.dropout(fc1, keep_prob)\n",
    "#     fc2 = fully_conn(fc1, 32)\n",
    "#     fc3 = fully_conn(fc2, 16)    \n",
    "    \n",
    "    # TODO: Apply an Output Layer\n",
    "    #    Set this to the number of classes\n",
    "    # Function Definition from Above:\n",
    "    #   output(x_tensor, num_outputs)\n",
    "    \n",
    "    result = output(fc1, num_labels)\n",
    "    \n",
    "    \n",
    "    # TODO: return output\n",
    "    return result\n",
    "\n",
    "\n",
    "\"\"\"\n",
    "DON'T MODIFY ANYTHING IN THIS CELL THAT IS BELOW THIS LINE\n",
    "\"\"\"\n",
    "\n",
    "##############################\n",
    "## Build the Neural Network ##\n",
    "##############################\n",
    "\n",
    "# Remove previous weights, bias, inputs, etc..\n",
    "tf.reset_default_graph()\n",
    "\n",
    "# Inputs\n",
    "x = neural_net_image_input((32, 32, 3))\n",
    "y = neural_net_label_input(10)\n",
    "keep_prob = neural_net_keep_prob_input()\n",
    "\n",
    "# Model\n",
    "logits = conv_net(x, keep_prob)\n",
    "\n",
    "# Name logits Tensor, so that is can be loaded from disk after training\n",
    "logits = tf.identity(logits, name='logits')\n",
    "\n",
    "# Loss and Optimizer\n",
    "cost = tf.reduce_mean(tf.nn.softmax_cross_entropy_with_logits(logits=logits, labels=y))\n",
    "optimizer = tf.train.AdamOptimizer().minimize(cost)\n",
    "\n",
    "# Accuracy\n",
    "correct_pred = tf.equal(tf.argmax(logits, 1), tf.argmax(y, 1))\n",
    "accuracy = tf.reduce_mean(tf.cast(correct_pred, tf.float32), name='accuracy')\n",
    "\n",
    "tests.test_conv_net(conv_net)"
   ]
  },
  {
   "cell_type": "markdown",
   "metadata": {
    "deletable": true,
    "editable": true
   },
   "source": [
    "## Train the Neural Network\n",
    "### Single Optimization\n",
    "Implement the function `train_neural_network` to do a single optimization.  The optimization should use `optimizer` to optimize in `session` with a `feed_dict` of the following:\n",
    "* `x` for image input\n",
    "* `y` for labels\n",
    "* `keep_prob` for keep probability for dropout\n",
    "\n",
    "This function will be called for each batch, so `tf.global_variables_initializer()` has already been called.\n",
    "\n",
    "Note: Nothing needs to be returned. This function is only optimizing the neural network."
   ]
  },
  {
   "cell_type": "code",
   "execution_count": 20,
   "metadata": {
    "collapsed": false,
    "deletable": true,
    "editable": true
   },
   "outputs": [
    {
     "name": "stdout",
     "output_type": "stream",
     "text": [
      "Tests Passed\n"
     ]
    }
   ],
   "source": [
    "def train_neural_network(session, optimizer, keep_probability, feature_batch, label_batch):\n",
    "    \"\"\"\n",
    "    Optimize the session on a batch of images and labels\n",
    "    : session: Current TensorFlow session\n",
    "    : optimizer: TensorFlow optimizer function\n",
    "    : keep_probability: keep probability\n",
    "    : feature_batch: Batch of Numpy image data\n",
    "    : label_batch: Batch of Numpy label data\n",
    "    \"\"\"\n",
    "    # TODO: Implement Function    \n",
    "    \n",
    "    session.run(optimizer, feed_dict={\n",
    "        x: feature_batch, \n",
    "        y: label_batch, \n",
    "        keep_prob: keep_probability})\n",
    "\n",
    "    pass\n",
    "\n",
    "\n",
    "\"\"\"\n",
    "DON'T MODIFY ANYTHING IN THIS CELL THAT IS BELOW THIS LINE\n",
    "\"\"\"\n",
    "tests.test_train_nn(train_neural_network)"
   ]
  },
  {
   "cell_type": "markdown",
   "metadata": {
    "deletable": true,
    "editable": true
   },
   "source": [
    "### Show Stats\n",
    "Implement the function `print_stats` to print loss and validation accuracy.  Use the global variables `valid_features` and `valid_labels` to calculate validation accuracy.  Use a keep probability of `1.0` to calculate the loss and validation accuracy."
   ]
  },
  {
   "cell_type": "code",
   "execution_count": 21,
   "metadata": {
    "collapsed": false,
    "deletable": true,
    "editable": true
   },
   "outputs": [],
   "source": [
    "def print_stats(session, feature_batch, label_batch, cost, accuracy):\n",
    "    \"\"\"\n",
    "    Print information about loss and validation accuracy\n",
    "    : session: Current TensorFlow session\n",
    "    : feature_batch: Batch of Numpy image data\n",
    "    : label_batch: Batch of Numpy label data\n",
    "    : cost: TensorFlow cost function\n",
    "    : accuracy: TensorFlow accuracy function\n",
    "    \"\"\"\n",
    "    # TODO: Implement Function\n",
    "    \n",
    "    loss = sess.run(cost, feed_dict={\n",
    "        x: feature_batch,\n",
    "        y: label_batch,\n",
    "        keep_prob: 1.0})\n",
    "    \n",
    "    global valid_features\n",
    "    global valid_labels\n",
    "    \n",
    "    valid_acc = sess.run(accuracy, feed_dict={\n",
    "        x: valid_features,\n",
    "        y: valid_labels,\n",
    "        keep_prob: 1.0})\n",
    "\n",
    "    print('Loss: {:>10.4f} Validation Accuracy: {:.6f}'.format(loss,valid_acc))\n",
    "    \n",
    "    pass"
   ]
  },
  {
   "cell_type": "markdown",
   "metadata": {
    "deletable": true,
    "editable": true
   },
   "source": [
    "### Hyperparameters\n",
    "Tune the following parameters:\n",
    "* Set `epochs` to the number of iterations until the network stops learning or start overfitting\n",
    "* Set `batch_size` to the highest number that your machine has memory for.  Most people set them to common sizes of memory:\n",
    " * 64\n",
    " * 128\n",
    " * 256\n",
    " * ...\n",
    "* Set `keep_probability` to the probability of keeping a node using dropout"
   ]
  },
  {
   "cell_type": "code",
   "execution_count": 24,
   "metadata": {
    "collapsed": true,
    "deletable": true,
    "editable": true
   },
   "outputs": [],
   "source": [
    "# TODO: Tune Parameters\n",
    "epochs = 30\n",
    "batch_size = 64\n",
    "keep_probability = 0.75"
   ]
  },
  {
   "cell_type": "markdown",
   "metadata": {
    "deletable": true,
    "editable": true
   },
   "source": [
    "### Train on a Single CIFAR-10 Batch\n",
    "Instead of training the neural network on all the CIFAR-10 batches of data, let's use a single batch. This should save time while you iterate on the model to get a better accuracy.  Once the final validation accuracy is 50% or greater, run the model on all the data in the next section."
   ]
  },
  {
   "cell_type": "code",
   "execution_count": 25,
   "metadata": {
    "collapsed": false,
    "deletable": true,
    "editable": true
   },
   "outputs": [
    {
     "name": "stdout",
     "output_type": "stream",
     "text": [
      "Checking the Training on a Single Batch...\n",
      "Epoch  1, CIFAR-10 Batch 1:  Loss:     2.0558 Validation Accuracy: 0.301600\n",
      "Epoch  2, CIFAR-10 Batch 1:  Loss:     1.8050 Validation Accuracy: 0.378600\n",
      "Epoch  3, CIFAR-10 Batch 1:  Loss:     1.6338 Validation Accuracy: 0.440000\n",
      "Epoch  4, CIFAR-10 Batch 1:  Loss:     1.5499 Validation Accuracy: 0.464000\n",
      "Epoch  5, CIFAR-10 Batch 1:  Loss:     1.4456 Validation Accuracy: 0.488200\n",
      "Epoch  6, CIFAR-10 Batch 1:  Loss:     1.3948 Validation Accuracy: 0.498400\n",
      "Epoch  7, CIFAR-10 Batch 1:  Loss:     1.1948 Validation Accuracy: 0.522800\n",
      "Epoch  8, CIFAR-10 Batch 1:  Loss:     1.1391 Validation Accuracy: 0.508200\n",
      "Epoch  9, CIFAR-10 Batch 1:  Loss:     0.9073 Validation Accuracy: 0.534000\n",
      "Epoch 10, CIFAR-10 Batch 1:  Loss:     0.8962 Validation Accuracy: 0.525800\n",
      "Epoch 11, CIFAR-10 Batch 1:  Loss:     0.8614 Validation Accuracy: 0.548600\n",
      "Epoch 12, CIFAR-10 Batch 1:  Loss:     0.7494 Validation Accuracy: 0.550400\n",
      "Epoch 13, CIFAR-10 Batch 1:  Loss:     0.6006 Validation Accuracy: 0.551600\n",
      "Epoch 14, CIFAR-10 Batch 1:  Loss:     0.5828 Validation Accuracy: 0.556600\n",
      "Epoch 15, CIFAR-10 Batch 1:  Loss:     0.5283 Validation Accuracy: 0.553000\n",
      "Epoch 16, CIFAR-10 Batch 1:  Loss:     0.4753 Validation Accuracy: 0.548600\n",
      "Epoch 17, CIFAR-10 Batch 1:  Loss:     0.3947 Validation Accuracy: 0.551000\n",
      "Epoch 18, CIFAR-10 Batch 1:  Loss:     0.3220 Validation Accuracy: 0.557000\n",
      "Epoch 19, CIFAR-10 Batch 1:  Loss:     0.3119 Validation Accuracy: 0.558400\n",
      "Epoch 20, CIFAR-10 Batch 1:  Loss:     0.2939 Validation Accuracy: 0.555200\n",
      "Epoch 21, CIFAR-10 Batch 1:  Loss:     0.2795 Validation Accuracy: 0.567800\n",
      "Epoch 22, CIFAR-10 Batch 1:  Loss:     0.1881 Validation Accuracy: 0.559000\n",
      "Epoch 23, CIFAR-10 Batch 1:  Loss:     0.2008 Validation Accuracy: 0.551800\n",
      "Epoch 24, CIFAR-10 Batch 1:  Loss:     0.1322 Validation Accuracy: 0.555800\n",
      "Epoch 25, CIFAR-10 Batch 1:  Loss:     0.0785 Validation Accuracy: 0.556800\n",
      "Epoch 26, CIFAR-10 Batch 1:  Loss:     0.0911 Validation Accuracy: 0.547400\n",
      "Epoch 27, CIFAR-10 Batch 1:  Loss:     0.0665 Validation Accuracy: 0.556000\n",
      "Epoch 28, CIFAR-10 Batch 1:  Loss:     0.0716 Validation Accuracy: 0.546600\n",
      "Epoch 29, CIFAR-10 Batch 1:  Loss:     0.0875 Validation Accuracy: 0.552000\n",
      "Epoch 30, CIFAR-10 Batch 1:  Loss:     0.0493 Validation Accuracy: 0.552000\n"
     ]
    }
   ],
   "source": [
    "\"\"\"\n",
    "DON'T MODIFY ANYTHING IN THIS CELL\n",
    "\"\"\"\n",
    "print('Checking the Training on a Single Batch...')\n",
    "with tf.Session() as sess:\n",
    "    # Initializing the variables\n",
    "    sess.run(tf.global_variables_initializer())\n",
    "    \n",
    "    # Training cycle\n",
    "    for epoch in range(epochs):\n",
    "        batch_i = 1\n",
    "        for batch_features, batch_labels in helper.load_preprocess_training_batch(batch_i, batch_size):\n",
    "            train_neural_network(sess, optimizer, keep_probability, batch_features, batch_labels)\n",
    "        print('Epoch {:>2}, CIFAR-10 Batch {}:  '.format(epoch + 1, batch_i), end='')\n",
    "        print_stats(sess, batch_features, batch_labels, cost, accuracy)"
   ]
  },
  {
   "cell_type": "markdown",
   "metadata": {
    "deletable": true,
    "editable": true
   },
   "source": [
    "### Fully Train the Model\n",
    "Now that you got a good accuracy with a single CIFAR-10 batch, try it with all five batches."
   ]
  },
  {
   "cell_type": "code",
   "execution_count": 26,
   "metadata": {
    "collapsed": false,
    "deletable": true,
    "editable": true
   },
   "outputs": [
    {
     "name": "stdout",
     "output_type": "stream",
     "text": [
      "Training...\n",
      "Epoch  1, CIFAR-10 Batch 1:  Loss:     1.9691 Validation Accuracy: 0.325200\n",
      "Epoch  1, CIFAR-10 Batch 2:  Loss:     1.6894 Validation Accuracy: 0.404000\n",
      "Epoch  1, CIFAR-10 Batch 3:  Loss:     1.4522 Validation Accuracy: 0.476600\n",
      "Epoch  1, CIFAR-10 Batch 4:  Loss:     1.5127 Validation Accuracy: 0.492000\n",
      "Epoch  1, CIFAR-10 Batch 5:  Loss:     1.4944 Validation Accuracy: 0.504000\n",
      "Epoch  2, CIFAR-10 Batch 1:  Loss:     1.5647 Validation Accuracy: 0.515000\n",
      "Epoch  2, CIFAR-10 Batch 2:  Loss:     1.2563 Validation Accuracy: 0.513000\n",
      "Epoch  2, CIFAR-10 Batch 3:  Loss:     1.3104 Validation Accuracy: 0.505400\n",
      "Epoch  2, CIFAR-10 Batch 4:  Loss:     1.1714 Validation Accuracy: 0.565600\n",
      "Epoch  2, CIFAR-10 Batch 5:  Loss:     1.3139 Validation Accuracy: 0.564600\n",
      "Epoch  3, CIFAR-10 Batch 1:  Loss:     1.2307 Validation Accuracy: 0.590800\n",
      "Epoch  3, CIFAR-10 Batch 2:  Loss:     1.1063 Validation Accuracy: 0.590200\n",
      "Epoch  3, CIFAR-10 Batch 3:  Loss:     1.0101 Validation Accuracy: 0.587400\n",
      "Epoch  3, CIFAR-10 Batch 4:  Loss:     0.9945 Validation Accuracy: 0.614600\n",
      "Epoch  3, CIFAR-10 Batch 5:  Loss:     1.1498 Validation Accuracy: 0.600200\n",
      "Epoch  4, CIFAR-10 Batch 1:  Loss:     1.0035 Validation Accuracy: 0.626600\n",
      "Epoch  4, CIFAR-10 Batch 2:  Loss:     0.9764 Validation Accuracy: 0.596000\n",
      "Epoch  4, CIFAR-10 Batch 3:  Loss:     0.8289 Validation Accuracy: 0.626000\n",
      "Epoch  4, CIFAR-10 Batch 4:  Loss:     0.8287 Validation Accuracy: 0.637400\n",
      "Epoch  4, CIFAR-10 Batch 5:  Loss:     0.9704 Validation Accuracy: 0.637400\n",
      "Epoch  5, CIFAR-10 Batch 1:  Loss:     0.8664 Validation Accuracy: 0.658800\n",
      "Epoch  5, CIFAR-10 Batch 2:  Loss:     0.7770 Validation Accuracy: 0.634200\n",
      "Epoch  5, CIFAR-10 Batch 3:  Loss:     0.7100 Validation Accuracy: 0.644200\n",
      "Epoch  5, CIFAR-10 Batch 4:  Loss:     0.7629 Validation Accuracy: 0.662000\n",
      "Epoch  5, CIFAR-10 Batch 5:  Loss:     0.8506 Validation Accuracy: 0.656000\n",
      "Epoch  6, CIFAR-10 Batch 1:  Loss:     0.8120 Validation Accuracy: 0.669600\n",
      "Epoch  6, CIFAR-10 Batch 2:  Loss:     0.7396 Validation Accuracy: 0.643400\n",
      "Epoch  6, CIFAR-10 Batch 3:  Loss:     0.6061 Validation Accuracy: 0.665600\n",
      "Epoch  6, CIFAR-10 Batch 4:  Loss:     0.5804 Validation Accuracy: 0.663000\n",
      "Epoch  6, CIFAR-10 Batch 5:  Loss:     0.7679 Validation Accuracy: 0.682000\n",
      "Epoch  7, CIFAR-10 Batch 1:  Loss:     0.8599 Validation Accuracy: 0.666600\n",
      "Epoch  7, CIFAR-10 Batch 2:  Loss:     0.6239 Validation Accuracy: 0.664400\n",
      "Epoch  7, CIFAR-10 Batch 3:  Loss:     0.4489 Validation Accuracy: 0.681000\n",
      "Epoch  7, CIFAR-10 Batch 4:  Loss:     0.5801 Validation Accuracy: 0.661200\n",
      "Epoch  7, CIFAR-10 Batch 5:  Loss:     0.6536 Validation Accuracy: 0.686800\n",
      "Epoch  8, CIFAR-10 Batch 1:  Loss:     0.6220 Validation Accuracy: 0.688800\n",
      "Epoch  8, CIFAR-10 Batch 2:  Loss:     0.5803 Validation Accuracy: 0.678200\n",
      "Epoch  8, CIFAR-10 Batch 3:  Loss:     0.4082 Validation Accuracy: 0.685400\n",
      "Epoch  8, CIFAR-10 Batch 4:  Loss:     0.4015 Validation Accuracy: 0.685000\n",
      "Epoch  8, CIFAR-10 Batch 5:  Loss:     0.5783 Validation Accuracy: 0.699400\n",
      "Epoch  9, CIFAR-10 Batch 1:  Loss:     0.6213 Validation Accuracy: 0.686000\n",
      "Epoch  9, CIFAR-10 Batch 2:  Loss:     0.4866 Validation Accuracy: 0.690600\n",
      "Epoch  9, CIFAR-10 Batch 3:  Loss:     0.3567 Validation Accuracy: 0.695200\n",
      "Epoch  9, CIFAR-10 Batch 4:  Loss:     0.3561 Validation Accuracy: 0.676400\n",
      "Epoch  9, CIFAR-10 Batch 5:  Loss:     0.5253 Validation Accuracy: 0.702800\n",
      "Epoch 10, CIFAR-10 Batch 1:  Loss:     0.5343 Validation Accuracy: 0.694600\n",
      "Epoch 10, CIFAR-10 Batch 2:  Loss:     0.4878 Validation Accuracy: 0.677600\n",
      "Epoch 10, CIFAR-10 Batch 3:  Loss:     0.3698 Validation Accuracy: 0.696800\n",
      "Epoch 10, CIFAR-10 Batch 4:  Loss:     0.3165 Validation Accuracy: 0.700600\n",
      "Epoch 10, CIFAR-10 Batch 5:  Loss:     0.4409 Validation Accuracy: 0.707200\n",
      "Epoch 11, CIFAR-10 Batch 1:  Loss:     0.5169 Validation Accuracy: 0.683600\n",
      "Epoch 11, CIFAR-10 Batch 2:  Loss:     0.4691 Validation Accuracy: 0.686400\n",
      "Epoch 11, CIFAR-10 Batch 3:  Loss:     0.3244 Validation Accuracy: 0.695000\n",
      "Epoch 11, CIFAR-10 Batch 4:  Loss:     0.2750 Validation Accuracy: 0.691200\n",
      "Epoch 11, CIFAR-10 Batch 5:  Loss:     0.5645 Validation Accuracy: 0.686200\n",
      "Epoch 12, CIFAR-10 Batch 1:  Loss:     0.4897 Validation Accuracy: 0.685600\n",
      "Epoch 12, CIFAR-10 Batch 2:  Loss:     0.3939 Validation Accuracy: 0.694600\n",
      "Epoch 12, CIFAR-10 Batch 3:  Loss:     0.2673 Validation Accuracy: 0.702600\n",
      "Epoch 12, CIFAR-10 Batch 4:  Loss:     0.2841 Validation Accuracy: 0.695400\n",
      "Epoch 12, CIFAR-10 Batch 5:  Loss:     0.3893 Validation Accuracy: 0.704000\n",
      "Epoch 13, CIFAR-10 Batch 1:  Loss:     0.4434 Validation Accuracy: 0.689800\n",
      "Epoch 13, CIFAR-10 Batch 2:  Loss:     0.2626 Validation Accuracy: 0.697600\n",
      "Epoch 13, CIFAR-10 Batch 3:  Loss:     0.2202 Validation Accuracy: 0.705000\n",
      "Epoch 13, CIFAR-10 Batch 4:  Loss:     0.2882 Validation Accuracy: 0.689400\n",
      "Epoch 13, CIFAR-10 Batch 5:  Loss:     0.3618 Validation Accuracy: 0.692600\n",
      "Epoch 14, CIFAR-10 Batch 1:  Loss:     0.3314 Validation Accuracy: 0.692600\n",
      "Epoch 14, CIFAR-10 Batch 2:  Loss:     0.2357 Validation Accuracy: 0.712200\n",
      "Epoch 14, CIFAR-10 Batch 3:  Loss:     0.2293 Validation Accuracy: 0.705000\n",
      "Epoch 14, CIFAR-10 Batch 4:  Loss:     0.2821 Validation Accuracy: 0.691400\n",
      "Epoch 14, CIFAR-10 Batch 5:  Loss:     0.3624 Validation Accuracy: 0.696800\n",
      "Epoch 15, CIFAR-10 Batch 1:  Loss:     0.4179 Validation Accuracy: 0.679000\n",
      "Epoch 15, CIFAR-10 Batch 2:  Loss:     0.2056 Validation Accuracy: 0.712600\n",
      "Epoch 15, CIFAR-10 Batch 3:  Loss:     0.1657 Validation Accuracy: 0.709200\n",
      "Epoch 15, CIFAR-10 Batch 4:  Loss:     0.2467 Validation Accuracy: 0.694800\n",
      "Epoch 15, CIFAR-10 Batch 5:  Loss:     0.3023 Validation Accuracy: 0.711800\n",
      "Epoch 16, CIFAR-10 Batch 1:  Loss:     0.3945 Validation Accuracy: 0.687800\n",
      "Epoch 16, CIFAR-10 Batch 2:  Loss:     0.2254 Validation Accuracy: 0.712200\n",
      "Epoch 16, CIFAR-10 Batch 3:  Loss:     0.1450 Validation Accuracy: 0.705200\n",
      "Epoch 16, CIFAR-10 Batch 4:  Loss:     0.2057 Validation Accuracy: 0.697000\n",
      "Epoch 16, CIFAR-10 Batch 5:  Loss:     0.2353 Validation Accuracy: 0.697800\n",
      "Epoch 17, CIFAR-10 Batch 1:  Loss:     0.3088 Validation Accuracy: 0.701200\n",
      "Epoch 17, CIFAR-10 Batch 2:  Loss:     0.1826 Validation Accuracy: 0.715400\n",
      "Epoch 17, CIFAR-10 Batch 3:  Loss:     0.1868 Validation Accuracy: 0.706000\n",
      "Epoch 17, CIFAR-10 Batch 4:  Loss:     0.1690 Validation Accuracy: 0.681200\n",
      "Epoch 17, CIFAR-10 Batch 5:  Loss:     0.2761 Validation Accuracy: 0.694400\n",
      "Epoch 18, CIFAR-10 Batch 1:  Loss:     0.2944 Validation Accuracy: 0.703400\n",
      "Epoch 18, CIFAR-10 Batch 2:  Loss:     0.2213 Validation Accuracy: 0.707400\n",
      "Epoch 18, CIFAR-10 Batch 3:  Loss:     0.1044 Validation Accuracy: 0.695800\n",
      "Epoch 18, CIFAR-10 Batch 4:  Loss:     0.1110 Validation Accuracy: 0.699600\n",
      "Epoch 18, CIFAR-10 Batch 5:  Loss:     0.2655 Validation Accuracy: 0.691800\n",
      "Epoch 19, CIFAR-10 Batch 1:  Loss:     0.3194 Validation Accuracy: 0.710000\n",
      "Epoch 19, CIFAR-10 Batch 2:  Loss:     0.1222 Validation Accuracy: 0.704200\n",
      "Epoch 19, CIFAR-10 Batch 3:  Loss:     0.1071 Validation Accuracy: 0.703200\n",
      "Epoch 19, CIFAR-10 Batch 4:  Loss:     0.1185 Validation Accuracy: 0.676000\n",
      "Epoch 19, CIFAR-10 Batch 5:  Loss:     0.2287 Validation Accuracy: 0.694800\n",
      "Epoch 20, CIFAR-10 Batch 1:  Loss:     0.3779 Validation Accuracy: 0.686800\n",
      "Epoch 20, CIFAR-10 Batch 2:  Loss:     0.1530 Validation Accuracy: 0.700400\n",
      "Epoch 20, CIFAR-10 Batch 3:  Loss:     0.1142 Validation Accuracy: 0.708200\n",
      "Epoch 20, CIFAR-10 Batch 4:  Loss:     0.1826 Validation Accuracy: 0.677800\n",
      "Epoch 20, CIFAR-10 Batch 5:  Loss:     0.2404 Validation Accuracy: 0.695200\n",
      "Epoch 21, CIFAR-10 Batch 1:  Loss:     0.2882 Validation Accuracy: 0.704400\n",
      "Epoch 21, CIFAR-10 Batch 2:  Loss:     0.1206 Validation Accuracy: 0.701600\n",
      "Epoch 21, CIFAR-10 Batch 3:  Loss:     0.0897 Validation Accuracy: 0.702000\n",
      "Epoch 21, CIFAR-10 Batch 4:  Loss:     0.1078 Validation Accuracy: 0.688200\n",
      "Epoch 21, CIFAR-10 Batch 5:  Loss:     0.2980 Validation Accuracy: 0.687000\n",
      "Epoch 22, CIFAR-10 Batch 1:  Loss:     0.2998 Validation Accuracy: 0.705800\n",
      "Epoch 22, CIFAR-10 Batch 2:  Loss:     0.1182 Validation Accuracy: 0.689600\n",
      "Epoch 22, CIFAR-10 Batch 3:  Loss:     0.0871 Validation Accuracy: 0.709400\n",
      "Epoch 22, CIFAR-10 Batch 4:  Loss:     0.1029 Validation Accuracy: 0.693600\n",
      "Epoch 22, CIFAR-10 Batch 5:  Loss:     0.2197 Validation Accuracy: 0.699000\n",
      "Epoch 23, CIFAR-10 Batch 1:  Loss:     0.2405 Validation Accuracy: 0.694400\n",
      "Epoch 23, CIFAR-10 Batch 2:  Loss:     0.1086 Validation Accuracy: 0.698600\n",
      "Epoch 23, CIFAR-10 Batch 3:  Loss:     0.0937 Validation Accuracy: 0.702000\n",
      "Epoch 23, CIFAR-10 Batch 4:  Loss:     0.0709 Validation Accuracy: 0.700200\n",
      "Epoch 23, CIFAR-10 Batch 5:  Loss:     0.1617 Validation Accuracy: 0.692000\n",
      "Epoch 24, CIFAR-10 Batch 1:  Loss:     0.2735 Validation Accuracy: 0.701200\n",
      "Epoch 24, CIFAR-10 Batch 2:  Loss:     0.0835 Validation Accuracy: 0.705400\n",
      "Epoch 24, CIFAR-10 Batch 3:  Loss:     0.0722 Validation Accuracy: 0.708400\n",
      "Epoch 24, CIFAR-10 Batch 4:  Loss:     0.1804 Validation Accuracy: 0.691400\n",
      "Epoch 24, CIFAR-10 Batch 5:  Loss:     0.2368 Validation Accuracy: 0.691600\n",
      "Epoch 25, CIFAR-10 Batch 1:  Loss:     0.1930 Validation Accuracy: 0.701400\n",
      "Epoch 25, CIFAR-10 Batch 2:  Loss:     0.1096 Validation Accuracy: 0.697400\n",
      "Epoch 25, CIFAR-10 Batch 3:  Loss:     0.0762 Validation Accuracy: 0.696400\n",
      "Epoch 25, CIFAR-10 Batch 4:  Loss:     0.0919 Validation Accuracy: 0.695800\n",
      "Epoch 25, CIFAR-10 Batch 5:  Loss:     0.1648 Validation Accuracy: 0.690800\n",
      "Epoch 26, CIFAR-10 Batch 1:  Loss:     0.2449 Validation Accuracy: 0.701200\n",
      "Epoch 26, CIFAR-10 Batch 2:  Loss:     0.0522 Validation Accuracy: 0.695600\n",
      "Epoch 26, CIFAR-10 Batch 3:  Loss:     0.0755 Validation Accuracy: 0.689400\n",
      "Epoch 26, CIFAR-10 Batch 4:  Loss:     0.1493 Validation Accuracy: 0.697600\n",
      "Epoch 26, CIFAR-10 Batch 5:  Loss:     0.0899 Validation Accuracy: 0.700200\n",
      "Epoch 27, CIFAR-10 Batch 1:  Loss:     0.1358 Validation Accuracy: 0.703600\n",
      "Epoch 27, CIFAR-10 Batch 2:  Loss:     0.0406 Validation Accuracy: 0.708600\n",
      "Epoch 27, CIFAR-10 Batch 3:  Loss:     0.0915 Validation Accuracy: 0.694400\n",
      "Epoch 27, CIFAR-10 Batch 4:  Loss:     0.1013 Validation Accuracy: 0.687600\n",
      "Epoch 27, CIFAR-10 Batch 5:  Loss:     0.1011 Validation Accuracy: 0.696000\n",
      "Epoch 28, CIFAR-10 Batch 1:  Loss:     0.1793 Validation Accuracy: 0.709600\n",
      "Epoch 28, CIFAR-10 Batch 2:  Loss:     0.0865 Validation Accuracy: 0.683000\n",
      "Epoch 28, CIFAR-10 Batch 3:  Loss:     0.0544 Validation Accuracy: 0.701800\n",
      "Epoch 28, CIFAR-10 Batch 4:  Loss:     0.2124 Validation Accuracy: 0.690200\n",
      "Epoch 28, CIFAR-10 Batch 5:  Loss:     0.0785 Validation Accuracy: 0.697200\n",
      "Epoch 29, CIFAR-10 Batch 1:  Loss:     0.1873 Validation Accuracy: 0.705800\n",
      "Epoch 29, CIFAR-10 Batch 2:  Loss:     0.0992 Validation Accuracy: 0.693400\n",
      "Epoch 29, CIFAR-10 Batch 3:  Loss:     0.0488 Validation Accuracy: 0.685200\n",
      "Epoch 29, CIFAR-10 Batch 4:  Loss:     0.1183 Validation Accuracy: 0.693600\n",
      "Epoch 29, CIFAR-10 Batch 5:  Loss:     0.1582 Validation Accuracy: 0.693600\n",
      "Epoch 30, CIFAR-10 Batch 1:  Loss:     0.1523 Validation Accuracy: 0.711400\n",
      "Epoch 30, CIFAR-10 Batch 2:  Loss:     0.0319 Validation Accuracy: 0.697800\n",
      "Epoch 30, CIFAR-10 Batch 3:  Loss:     0.0688 Validation Accuracy: 0.677400\n",
      "Epoch 30, CIFAR-10 Batch 4:  Loss:     0.0458 Validation Accuracy: 0.684400\n",
      "Epoch 30, CIFAR-10 Batch 5:  Loss:     0.0836 Validation Accuracy: 0.696800\n"
     ]
    }
   ],
   "source": [
    "\"\"\"\n",
    "DON'T MODIFY ANYTHING IN THIS CELL\n",
    "\"\"\"\n",
    "save_model_path = './image_classification'\n",
    "\n",
    "print('Training...')\n",
    "with tf.Session() as sess:\n",
    "    # Initializing the variables\n",
    "    sess.run(tf.global_variables_initializer())\n",
    "    \n",
    "    # Training cycle\n",
    "    for epoch in range(epochs):\n",
    "        # Loop over all batches\n",
    "        n_batches = 5\n",
    "        for batch_i in range(1, n_batches + 1):\n",
    "            for batch_features, batch_labels in helper.load_preprocess_training_batch(batch_i, batch_size):\n",
    "                train_neural_network(sess, optimizer, keep_probability, batch_features, batch_labels)\n",
    "            print('Epoch {:>2}, CIFAR-10 Batch {}:  '.format(epoch + 1, batch_i), end='')\n",
    "            print_stats(sess, batch_features, batch_labels, cost, accuracy)\n",
    "            \n",
    "    # Save Model\n",
    "    saver = tf.train.Saver()\n",
    "    save_path = saver.save(sess, save_model_path)"
   ]
  },
  {
   "cell_type": "markdown",
   "metadata": {
    "deletable": true,
    "editable": true
   },
   "source": [
    "# Checkpoint\n",
    "The model has been saved to disk.\n",
    "## Test Model\n",
    "Test your model against the test dataset.  This will be your final accuracy. You should have an accuracy greater than 50%. If you don't, keep tweaking the model architecture and parameters."
   ]
  },
  {
   "cell_type": "code",
   "execution_count": 27,
   "metadata": {
    "collapsed": false,
    "deletable": true,
    "editable": true
   },
   "outputs": [
    {
     "name": "stdout",
     "output_type": "stream",
     "text": [
      "Testing Accuracy: 0.6855095541401274\n",
      "\n"
     ]
    },
    {
     "data": {
      "image/png": "[encoded data removed]",
      "text/plain": [
       "<matplotlib.figure.Figure at 0x7fececb9ff60>"
      ]
     },
     "metadata": {
      "image/png": {
       "height": 319,
       "width": 355
      }
     },
     "output_type": "display_data"
    }
   ],
   "source": [
    "\"\"\"\n",
    "DON'T MODIFY ANYTHING IN THIS CELL\n",
    "\"\"\"\n",
    "%matplotlib inline\n",
    "%config InlineBackend.figure_format = 'retina'\n",
    "\n",
    "import tensorflow as tf\n",
    "import pickle\n",
    "import helper\n",
    "import random\n",
    "\n",
    "# Set batch size if not already set\n",
    "try:\n",
    "    if batch_size:\n",
    "        pass\n",
    "except NameError:\n",
    "    batch_size = 64\n",
    "\n",
    "save_model_path = './image_classification'\n",
    "n_samples = 4\n",
    "top_n_predictions = 3\n",
    "\n",
    "def test_model():\n",
    "    \"\"\"\n",
    "    Test the saved model against the test dataset\n",
    "    \"\"\"\n",
    "\n",
    "    test_features, test_labels = pickle.load(open('preprocess_training.p', mode='rb'))\n",
    "    loaded_graph = tf.Graph()\n",
    "\n",
    "    with tf.Session(graph=loaded_graph) as sess:\n",
    "        # Load model\n",
    "        loader = tf.train.import_meta_graph(save_model_path + '.meta')\n",
    "        loader.restore(sess, save_model_path)\n",
    "\n",
    "        # Get Tensors from loaded model\n",
    "        loaded_x = loaded_graph.get_tensor_by_name('x:0')\n",
    "        loaded_y = loaded_graph.get_tensor_by_name('y:0')\n",
    "        loaded_keep_prob = loaded_graph.get_tensor_by_name('keep_prob:0')\n",
    "        loaded_logits = loaded_graph.get_tensor_by_name('logits:0')\n",
    "        loaded_acc = loaded_graph.get_tensor_by_name('accuracy:0')\n",
    "        \n",
    "        # Get accuracy in batches for memory limitations\n",
    "        test_batch_acc_total = 0\n",
    "        test_batch_count = 0\n",
    "        \n",
    "        for train_feature_batch, train_label_batch in helper.batch_features_labels(test_features, test_labels, batch_size):\n",
    "            test_batch_acc_total += sess.run(\n",
    "                loaded_acc,\n",
    "                feed_dict={loaded_x: train_feature_batch, loaded_y: train_label_batch, loaded_keep_prob: 1.0})\n",
    "            test_batch_count += 1\n",
    "\n",
    "        print('Testing Accuracy: {}\\n'.format(test_batch_acc_total/test_batch_count))\n",
    "\n",
    "        # Print Random Samples\n",
    "        random_test_features, random_test_labels = tuple(zip(*random.sample(list(zip(test_features, test_labels)), n_samples)))\n",
    "        random_test_predictions = sess.run(\n",
    "            tf.nn.top_k(tf.nn.softmax(loaded_logits), top_n_predictions),\n",
    "            feed_dict={loaded_x: random_test_features, loaded_y: random_test_labels, loaded_keep_prob: 1.0})\n",
    "        helper.display_image_predictions(random_test_features, random_test_labels, random_test_predictions)\n",
    "\n",
    "\n",
    "test_model()"
   ]
  },
  {
   "cell_type": "markdown",
   "metadata": {
    "deletable": true,
    "editable": true
   },
   "source": [
    "## Why 50-70% Accuracy?\n",
    "You might be wondering why you can't get an accuracy any higher. First things first, 50% isn't bad for a simple CNN.  Pure guessing would get you 10% accuracy. However, you might notice people are getting scores [well above 70%](http://rodrigob.github.io/are_we_there_yet/build/classification_datasets_results.html#43494641522d3130).  That's because we haven't taught you all there is to know about neural networks. We still need to cover a few more techniques.\n",
    "## Submitting This Project\n",
    "When submitting this project, make sure to run all the cells before saving the notebook.  Save the notebook file as \"dlnd_image_classification.ipynb\" and save it as a HTML file under \"File\" -> \"Download as\".  Include the \"helper.py\" and \"problem_unittests.py\" files in your submission."
   ]
  }
 ],
 "metadata": {
  "kernelspec": {
   "display_name": "Python [conda env:dl]",
   "language": "python",
   "name": "conda-env-dl-py"
  },
  "language_info": {
   "codemirror_mode": {
    "name": "ipython",
    "version": 3
   },
   "file_extension": ".py",
   "mimetype": "text/x-python",
   "name": "python",
   "nbconvert_exporter": "python",
   "pygments_lexer": "ipython3",
   "version": "3.5.2"
  },
  "widgets": {
   "state": {},
   "version": "1.1.2"
  }
 },
 "nbformat": 4,
 "nbformat_minor": 0
}
