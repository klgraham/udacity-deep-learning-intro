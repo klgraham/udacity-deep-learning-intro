{
 "cells": [
  {
   "cell_type": "markdown",
   "metadata": {
    "collapsed": true,
    "deletable": true,
    "editable": true
   },
   "source": [
    "# Image Classification\n",
    "In this project, you'll classify images from the [CIFAR-10 dataset](https://www.cs.toronto.edu/~kriz/cifar.html).  The dataset consists of airplanes, dogs, cats, and other objects. You'll preprocess the images, then train a convolutional neural network on all the samples. The images need to be normalized and the labels need to be one-hot encoded.  You'll get to apply what you learned and build a convolutional, max pooling, dropout, and fully connected layers.  At the end, you'll get to see your neural network's predictions on the sample images.\n",
    "## Get the Data\n",
    "Run the following cell to download the [CIFAR-10 dataset for python](https://www.cs.toronto.edu/~kriz/cifar-10-python.tar.gz)."
   ]
  },
  {
   "cell_type": "code",
   "execution_count": null,
   "metadata": {
    "collapsed": false,
    "deletable": true,
    "editable": true
   },
   "outputs": [],
   "source": [
    "\"\"\"\n",
    "DON'T MODIFY ANYTHING IN THIS CELL THAT IS BELOW THIS LINE\n",
    "\"\"\"\n",
    "from urllib.request import urlretrieve\n",
    "from os.path import isfile, isdir\n",
    "from tqdm import tqdm\n",
    "import problem_unittests as tests\n",
    "import tarfile\n",
    "\n",
    "cifar10_dataset_folder_path = 'cifar-10-batches-py'\n",
    "\n",
    "class DLProgress(tqdm):\n",
    "    last_block = 0\n",
    "\n",
    "    def hook(self, block_num=1, block_size=1, total_size=None):\n",
    "        self.total = total_size\n",
    "        self.update((block_num - self.last_block) * block_size)\n",
    "        self.last_block = block_num\n",
    "\n",
    "if not isfile('cifar-10-python.tar.gz'):\n",
    "    with DLProgress(unit='B', unit_scale=True, miniters=1, desc='CIFAR-10 Dataset') as pbar:\n",
    "        urlretrieve(\n",
    "            'https://www.cs.toronto.edu/~kriz/cifar-10-python.tar.gz',\n",
    "            'cifar-10-python.tar.gz',\n",
    "            pbar.hook)\n",
    "\n",
    "if not isdir(cifar10_dataset_folder_path):\n",
    "    with tarfile.open('cifar-10-python.tar.gz') as tar:\n",
    "        tar.extractall()\n",
    "        tar.close()\n",
    "\n",
    "\n",
    "tests.test_folder_path(cifar10_dataset_folder_path)"
   ]
  },
  {
   "cell_type": "markdown",
   "metadata": {
    "deletable": true,
    "editable": true
   },
   "source": [
    "## Explore the Data\n",
    "The dataset is broken into batches to prevent your machine from running out of memory.  The CIFAR-10 dataset consists of 5 batches, named `data_batch_1`, `data_batch_2`, etc.. Each batch contains the labels and images that are one of the following:\n",
    "* airplane\n",
    "* automobile\n",
    "* bird\n",
    "* cat\n",
    "* deer\n",
    "* dog\n",
    "* frog\n",
    "* horse\n",
    "* ship\n",
    "* truck\n",
    "\n",
    "Understanding a dataset is part of making predictions on the data.  Play around with the code cell below by changing the `batch_id` and `sample_id`. The `batch_id` is the id for a batch (1-5). The `sample_id` is the id for a image and label pair in the batch.\n",
    "\n",
    "Ask yourself \"What are all possible labels?\", \"What is the range of values for the image data?\", \"Are the labels in order or random?\".  Answers to questions like these will help you preprocess the data and end up with better predictions."
   ]
  },
  {
   "cell_type": "code",
   "execution_count": null,
   "metadata": {
    "collapsed": false,
    "deletable": true,
    "editable": true
   },
   "outputs": [],
   "source": [
    "%matplotlib inline\n",
    "%config InlineBackend.figure_format = 'retina'\n",
    "\n",
    "import helper\n",
    "import numpy as np\n",
    "\n",
    "# Explore the dataset\n",
    "batch_id = 1\n",
    "sample_id = 5\n",
    "helper.display_stats(cifar10_dataset_folder_path, batch_id, sample_id)"
   ]
  },
  {
   "cell_type": "code",
   "execution_count": null,
   "metadata": {
    "collapsed": false,
    "deletable": true,
    "editable": true
   },
   "outputs": [],
   "source": [
    "batch_id = 2\n",
    "sample_id = 7\n",
    "helper.display_stats(cifar10_dataset_folder_path, batch_id, sample_id)"
   ]
  },
  {
   "cell_type": "code",
   "execution_count": null,
   "metadata": {
    "collapsed": false,
    "deletable": true,
    "editable": true
   },
   "outputs": [],
   "source": [
    "batch_id = 3\n",
    "sample_id = 9\n",
    "helper.display_stats(cifar10_dataset_folder_path, batch_id, sample_id)"
   ]
  },
  {
   "cell_type": "code",
   "execution_count": null,
   "metadata": {
    "collapsed": false,
    "deletable": true,
    "editable": true
   },
   "outputs": [],
   "source": [
    "batch_id = 4\n",
    "sample_id = 1456\n",
    "helper.display_stats(cifar10_dataset_folder_path, batch_id, sample_id)"
   ]
  },
  {
   "cell_type": "code",
   "execution_count": null,
   "metadata": {
    "collapsed": false,
    "deletable": true,
    "editable": true
   },
   "outputs": [],
   "source": [
    "batch_id = 5\n",
    "sample_id = 9999\n",
    "helper.display_stats(cifar10_dataset_folder_path, batch_id, sample_id)"
   ]
  },
  {
   "cell_type": "markdown",
   "metadata": {
    "deletable": true,
    "editable": true
   },
   "source": [
    "### What are all possible labels?"
   ]
  },
  {
   "cell_type": "code",
   "execution_count": null,
   "metadata": {
    "collapsed": false,
    "deletable": true,
    "editable": true
   },
   "outputs": [],
   "source": [
    "for label, name in enumerate(helper._load_label_names()):\n",
    "    print(name, ': ', label)\n",
    "    \n",
    "num_labels = len(helper._load_label_names())"
   ]
  },
  {
   "cell_type": "markdown",
   "metadata": {
    "deletable": true,
    "editable": true
   },
   "source": [
    "### Are the labels in order or random?\n",
    "\n",
    "Based on the cells above that display the output of ```helper.display_stats```, I'd say that the labels appear to be randomly distributed throughout the batches. There are approximately 1000 images of each label in each batch."
   ]
  },
  {
   "cell_type": "markdown",
   "metadata": {
    "deletable": true,
    "editable": true
   },
   "source": [
    "### What is the range of values for the image data?\n",
    "\n",
    "Each image is sized (32 x 32 x 3). Each element (out of 3,072) in the 3-d array representation of the image takes a value on $[0,255]$. The third image dimension is for the color channel (R, G, or B), so each element tells us how much red, green, or blue (dependinging on which matrix slice we're working with) is present in that pixel."
   ]
  },
  {
   "cell_type": "markdown",
   "metadata": {
    "deletable": true,
    "editable": true
   },
   "source": [
    "## Implement Preprocess Functions\n",
    "### Normalize\n",
    "In the cell below, implement the `normalize` function to take in image data, `x`, and return it as a normalized Numpy array. The values should be in the range of 0 to 1, inclusive.  The return object should be the same shape as `x`."
   ]
  },
  {
   "cell_type": "code",
   "execution_count": null,
   "metadata": {
    "collapsed": false,
    "deletable": true,
    "editable": true
   },
   "outputs": [],
   "source": [
    "def normalize(x):\n",
    "    \"\"\"\n",
    "    Normalize a list of sample image data in the range of 0 to 1\n",
    "    : x: List of image data.  The image shape is (32, 32, 3)\n",
    "    : return: Numpy array of normalize data\n",
    "    \"\"\"\n",
    "    # TODO: Implement Function\n",
    "    return x/255\n",
    "\n",
    "\n",
    "\"\"\"\n",
    "DON'T MODIFY ANYTHING IN THIS CELL THAT IS BELOW THIS LINE\n",
    "\"\"\"\n",
    "tests.test_normalize(normalize)"
   ]
  },
  {
   "cell_type": "markdown",
   "metadata": {
    "deletable": true,
    "editable": true
   },
   "source": [
    "### One-hot encode\n",
    "Just like the previous code cell, you'll be implementing a function for preprocessing.  This time, you'll implement the `one_hot_encode` function. The input, `x`, are a list of labels.  Implement the function to return the list of labels as One-Hot encoded Numpy array.  The possible values for labels are 0 to 9. The one-hot encoding function should return the same encoding for each value between each call to `one_hot_encode`.  Make sure to save the map of encodings outside the function.\n",
    "\n",
    "Hint: Don't reinvent the wheel."
   ]
  },
  {
   "cell_type": "code",
   "execution_count": null,
   "metadata": {
    "collapsed": false,
    "deletable": true,
    "editable": true
   },
   "outputs": [],
   "source": [
    "from sklearn.preprocessing import LabelBinarizer\n",
    "\n",
    "label_encoder = None\n",
    "\n",
    "def one_hot_encode(x):\n",
    "    \"\"\"\n",
    "    One hot encode a list of sample labels. Return a one-hot encoded vector for each label.\n",
    "    : x: List of sample Labels\n",
    "    : return: Numpy array of one-hot encoded labels\n",
    "    \"\"\"\n",
    "    # TODO: Implement Function\n",
    "    global label_encoder\n",
    "    \n",
    "    if label_encoder == None:\n",
    "        encoder = LabelBinarizer()\n",
    "        encoder.fit(x)\n",
    "        label_encoder = encoder\n",
    "\n",
    "    return label_encoder.transform(x)\n",
    "\n",
    "\"\"\"\n",
    "DON'T MODIFY ANYTHING IN THIS CELL THAT IS BELOW THIS LINE\n",
    "\"\"\"\n",
    "tests.test_one_hot_encode(one_hot_encode)"
   ]
  },
  {
   "cell_type": "markdown",
   "metadata": {
    "deletable": true,
    "editable": true
   },
   "source": [
    "### Randomize Data\n",
    "As you saw from exploring the data above, the order of the samples are randomized.  It doesn't hurt to randomize it again, but you don't need to for this dataset."
   ]
  },
  {
   "cell_type": "markdown",
   "metadata": {
    "deletable": true,
    "editable": true
   },
   "source": [
    "## Preprocess all the data and save it\n",
    "Running the code cell below will preprocess all the CIFAR-10 data and save it to file. The code below also uses 10% of the training data for validation."
   ]
  },
  {
   "cell_type": "code",
   "execution_count": null,
   "metadata": {
    "collapsed": false,
    "deletable": true,
    "editable": true
   },
   "outputs": [],
   "source": [
    "\"\"\"\n",
    "DON'T MODIFY ANYTHING IN THIS CELL\n",
    "\"\"\"\n",
    "# Preprocess Training, Validation, and Testing Data\n",
    "helper.preprocess_and_save_data(cifar10_dataset_folder_path, normalize, one_hot_encode)"
   ]
  },
  {
   "cell_type": "markdown",
   "metadata": {
    "deletable": true,
    "editable": true
   },
   "source": [
    "# Check Point\n",
    "This is your first checkpoint.  If you ever decide to come back to this notebook or have to restart the notebook, you can start from here.  The preprocessed data has been saved to disk."
   ]
  },
  {
   "cell_type": "code",
   "execution_count": 2,
   "metadata": {
    "collapsed": false,
    "deletable": true,
    "editable": true
   },
   "outputs": [],
   "source": [
    "\"\"\"\n",
    "DON'T MODIFY ANYTHING IN THIS CELL\n",
    "\"\"\"\n",
    "import pickle\n",
    "import problem_unittests as tests\n",
    "import helper\n",
    "\n",
    "# Load the Preprocessed Validation data\n",
    "valid_features, valid_labels = pickle.load(open('preprocess_validation.p', mode='rb'))"
   ]
  },
  {
   "cell_type": "code",
   "execution_count": 3,
   "metadata": {
    "collapsed": true
   },
   "outputs": [],
   "source": [
    "num_labels = len(helper._load_label_names())"
   ]
  },
  {
   "cell_type": "markdown",
   "metadata": {
    "deletable": true,
    "editable": true
   },
   "source": [
    "## Build the network\n",
    "For the neural network, you'll build each layer into a function.  Most of the code you've seen has been outside of functions. To test your code more thoroughly, we require that you put each layer in a function.  This allows us to give you better feedback and test for simple mistakes using our unittests before you submit your project.\n",
    "\n",
    ">**Note:** If you're finding it hard to dedicate enough time for this course each week, we've provided a small shortcut to this part of the project. In the next couple of problems, you'll have the option to use classes from the [TensorFlow Layers](https://www.tensorflow.org/api_docs/python/tf/layers) or [TensorFlow Layers (contrib)](https://www.tensorflow.org/api_guides/python/contrib.layers) packages to build each layer, except the layers you build in the \"Convolutional and Max Pooling Layer\" section.  TF Layers is similar to Keras's and TFLearn's abstraction to layers, so it's easy to pickup.\n",
    "\n",
    ">However, if you would like to get the most out of this course, try to solve all the problems _without_ using anything from the TF Layers packages. You **can** still use classes from other packages that happen to have the same name as ones you find in TF Layers! For example, instead of using the TF Layers version of the `conv2d` class, [tf.layers.conv2d](https://www.tensorflow.org/api_docs/python/tf/layers/conv2d), you would want to use the TF Neural Network version of `conv2d`, [tf.nn.conv2d](https://www.tensorflow.org/api_docs/python/tf/nn/conv2d). \n",
    "\n",
    "Let's begin!\n",
    "\n",
    "### Input\n",
    "The neural network needs to read the image data, one-hot encoded labels, and dropout keep probability. Implement the following functions\n",
    "* Implement `neural_net_image_input`\n",
    " * Return a [TF Placeholder](https://www.tensorflow.org/api_docs/python/tf/placeholder)\n",
    " * Set the shape using `image_shape` with batch size set to `None`.\n",
    " * Name the TensorFlow placeholder \"x\" using the TensorFlow `name` parameter in the [TF Placeholder](https://www.tensorflow.org/api_docs/python/tf/placeholder).\n",
    "* Implement `neural_net_label_input`\n",
    " * Return a [TF Placeholder](https://www.tensorflow.org/api_docs/python/tf/placeholder)\n",
    " * Set the shape using `n_classes` with batch size set to `None`.\n",
    " * Name the TensorFlow placeholder \"y\" using the TensorFlow `name` parameter in the [TF Placeholder](https://www.tensorflow.org/api_docs/python/tf/placeholder).\n",
    "* Implement `neural_net_keep_prob_input`\n",
    " * Return a [TF Placeholder](https://www.tensorflow.org/api_docs/python/tf/placeholder) for dropout keep probability.\n",
    " * Name the TensorFlow placeholder \"keep_prob\" using the TensorFlow `name` parameter in the [TF Placeholder](https://www.tensorflow.org/api_docs/python/tf/placeholder).\n",
    "\n",
    "These names will be used at the end of the project to load your saved model.\n",
    "\n",
    "Note: `None` for shapes in TensorFlow allow for a dynamic size."
   ]
  },
  {
   "cell_type": "code",
   "execution_count": 4,
   "metadata": {
    "collapsed": false,
    "deletable": true,
    "editable": true
   },
   "outputs": [
    {
     "name": "stdout",
     "output_type": "stream",
     "text": [
      "Image Input Tests Passed.\n",
      "Label Input Tests Passed.\n",
      "Keep Prob Tests Passed.\n"
     ]
    }
   ],
   "source": [
    "import tensorflow as tf\n",
    "\n",
    "def neural_net_image_input(image_shape):\n",
    "    \"\"\"\n",
    "    Return a Tensor for a bach of image input\n",
    "    : image_shape: Shape of the images, 3D Tuple\n",
    "    : return: Tensor for image input.\n",
    "    \"\"\"\n",
    "    # TODO: Implement Function\n",
    "    shape = [None]\n",
    "    shape.extend(image_shape)\n",
    "    \n",
    "    x = tf.placeholder(tf.float32, shape=shape, name='x')\n",
    "    return x\n",
    "\n",
    "\n",
    "def neural_net_label_input(n_classes):\n",
    "    \"\"\"\n",
    "    Return a Tensor for a batch of label input\n",
    "    : n_classes: Number of classes\n",
    "    : return: Tensor for label input.\n",
    "    \"\"\"\n",
    "    # TODO: Implement Function\n",
    "    y = tf.placeholder(tf.float32, shape=[None, n_classes], name='y')\n",
    "    return y\n",
    "\n",
    "\n",
    "def neural_net_keep_prob_input():\n",
    "    \"\"\"\n",
    "    Return a Tensor for keep probability\n",
    "    : return: Tensor for keep probability.\n",
    "    \"\"\"\n",
    "    # TODO: Implement Function\n",
    "    return tf.placeholder(tf.float32, name='keep_prob')\n",
    "\n",
    "\n",
    "\"\"\"\n",
    "DON'T MODIFY ANYTHING IN THIS CELL THAT IS BELOW THIS LINE\n",
    "\"\"\"\n",
    "tf.reset_default_graph()\n",
    "tests.test_nn_image_inputs(neural_net_image_input)\n",
    "tests.test_nn_label_inputs(neural_net_label_input)\n",
    "tests.test_nn_keep_prob_inputs(neural_net_keep_prob_input)"
   ]
  },
  {
   "cell_type": "markdown",
   "metadata": {
    "deletable": true,
    "editable": true
   },
   "source": [
    "### Convolution and Max Pooling Layer\n",
    "Convolution layers have a lot of success with images. For this code cell, you should implement the function `conv2d_maxpool` to apply convolution then max pooling:\n",
    "* Create the weight and bias using `conv_ksize`, `conv_num_outputs` and the shape of `x_tensor`.\n",
    "* Apply a convolution to `x_tensor` using weight and `conv_strides`.\n",
    " * We recommend you use same padding, but you're welcome to use any padding.\n",
    "* Add bias\n",
    "* Add a nonlinear activation to the convolution.\n",
    "* Apply Max Pooling using `pool_ksize` and `pool_strides`.\n",
    " * We recommend you use same padding, but you're welcome to use any padding.\n",
    "\n",
    "**Note:** You **can't** use [TensorFlow Layers](https://www.tensorflow.org/api_docs/python/tf/layers) or [TensorFlow Layers (contrib)](https://www.tensorflow.org/api_guides/python/contrib.layers) for **this** layer, but you can still use TensorFlow's [Neural Network](https://www.tensorflow.org/api_docs/python/tf/nn) package. You may still use the shortcut option for all the **other** layers."
   ]
  },
  {
   "cell_type": "code",
   "execution_count": 5,
   "metadata": {
    "collapsed": false,
    "deletable": true,
    "editable": true
   },
   "outputs": [
    {
     "name": "stdout",
     "output_type": "stream",
     "text": [
      "Tests Passed\n"
     ]
    }
   ],
   "source": [
    "def conv2d_maxpool(x_tensor, conv_num_outputs, conv_ksize, conv_strides, pool_ksize, pool_strides):\n",
    "    \"\"\"\n",
    "    Apply convolution then max pooling to x_tensor\n",
    "    :param x_tensor: TensorFlow Tensor\n",
    "    :param conv_num_outputs: Number of outputs for the convolutional layer\n",
    "    :param conv_ksize: kernel size 2-D Tuple for the convolutional layer\n",
    "    :param conv_strides: Stride 2-D Tuple for convolution\n",
    "    :param pool_ksize: kernel size 2-D Tuple for pool\n",
    "    :param pool_strides: Stride 2-D Tuple for pool\n",
    "    : return: A tensor that represents convolution and max pooling of x_tensor\n",
    "    \"\"\"\n",
    "    # TODO: Implement Function\n",
    "\n",
    "    # The naming of input parameters does NOT track with the names we've seen in \n",
    "    # the class so far. Slightly confusing\n",
    "    \n",
    "    # input dimensions\n",
    "    input_shape = x_tensor.get_shape().as_list() # as_list() was important\n",
    "    depth = input_shape[3] # color channels\n",
    "    \n",
    "    # filter hyperparameters\n",
    "    num_filters = conv_num_outputs\n",
    "    f_width = conv_ksize[0]\n",
    "    f_height = conv_ksize[1]\n",
    "    # filter depth = number of color channels\n",
    "\n",
    "    weights = tf.Variable(tf.truncated_normal([f_width, f_height, depth, num_filters], stddev=0.1))\n",
    "    bias = tf.Variable(tf.random_normal([num_filters]))\n",
    "    \n",
    "    stride = [1, conv_strides[0], conv_strides[1], 1]\n",
    "    \n",
    "    conv = tf.nn.conv2d(x_tensor, weights, strides=stride, padding='SAME')\n",
    "    conv = tf.nn.bias_add(conv, bias)\n",
    "    conv = tf.nn.relu(conv)\n",
    "    \n",
    "    conv = tf.nn.max_pool(\n",
    "        conv,\n",
    "        ksize=[1, pool_ksize[0], pool_ksize[1], 1],\n",
    "        strides=[1, pool_strides[0], pool_strides[1], 1],\n",
    "        padding='SAME')\n",
    "    return conv\n",
    "\n",
    "\n",
    "\"\"\"\n",
    "DON'T MODIFY ANYTHING IN THIS CELL THAT IS BELOW THIS LINE\n",
    "\"\"\"\n",
    "tests.test_con_pool(conv2d_maxpool)"
   ]
  },
  {
   "cell_type": "markdown",
   "metadata": {
    "deletable": true,
    "editable": true
   },
   "source": [
    "### Flatten Layer\n",
    "Implement the `flatten` function to change the dimension of `x_tensor` from a 4-D tensor to a 2-D tensor.  The output should be the shape (*Batch Size*, *Flattened Image Size*). Shortcut option: you can use classes from the [TensorFlow Layers](https://www.tensorflow.org/api_docs/python/tf/layers) or [TensorFlow Layers (contrib)](https://www.tensorflow.org/api_guides/python/contrib.layers) packages for this layer. For more of a challenge, only use other TensorFlow packages."
   ]
  },
  {
   "cell_type": "code",
   "execution_count": 6,
   "metadata": {
    "collapsed": false,
    "deletable": true,
    "editable": true
   },
   "outputs": [
    {
     "name": "stdout",
     "output_type": "stream",
     "text": [
      "Tests Passed\n"
     ]
    }
   ],
   "source": [
    "def flatten(x_tensor):\n",
    "    \"\"\"\n",
    "    Flatten x_tensor to (Batch Size, Flattened Image Size)\n",
    "    : x_tensor: A tensor of size (Batch Size, ...), where ... are the image dimensions.\n",
    "    : return: A tensor of size (Batch Size, Flattened Image Size).\n",
    "    \"\"\"\n",
    "    # TODO: Implement Function\n",
    "    # this is so we can pass the output of the convolution layer to the fully-connected layer\n",
    "    \n",
    "    # input dimensions\n",
    "    input_shape = x_tensor.get_shape().as_list() # as_list() was important\n",
    "    batch_size = input_shape[0]\n",
    "    width = input_shape[1]\n",
    "    height = input_shape[2]\n",
    "    depth = input_shape[3] \n",
    "    \n",
    "    # really not sure why this has to be -1 instead of None\n",
    "    flattened = tf.reshape(x_tensor, [-1, width * height * depth])\n",
    "    \n",
    "    return flattened\n",
    "\n",
    "\n",
    "\"\"\"\n",
    "DON'T MODIFY ANYTHING IN THIS CELL THAT IS BELOW THIS LINE\n",
    "\"\"\"\n",
    "tests.test_flatten(flatten)"
   ]
  },
  {
   "cell_type": "markdown",
   "metadata": {
    "deletable": true,
    "editable": true
   },
   "source": [
    "### Fully-Connected Layer\n",
    "Implement the `fully_conn` function to apply a fully connected layer to `x_tensor` with the shape (*Batch Size*, *num_outputs*). Shortcut option: you can use classes from the [TensorFlow Layers](https://www.tensorflow.org/api_docs/python/tf/layers) or [TensorFlow Layers (contrib)](https://www.tensorflow.org/api_guides/python/contrib.layers) packages for this layer. For more of a challenge, only use other TensorFlow packages."
   ]
  },
  {
   "cell_type": "code",
   "execution_count": 7,
   "metadata": {
    "collapsed": false,
    "deletable": true,
    "editable": true
   },
   "outputs": [
    {
     "name": "stdout",
     "output_type": "stream",
     "text": [
      "Tests Passed\n"
     ]
    }
   ],
   "source": [
    "def fully_conn(x_tensor, num_outputs):\n",
    "    \"\"\"\n",
    "    Apply a fully connected layer to x_tensor using weight and bias\n",
    "    : x_tensor: A 2-D tensor where the first dimension is batch size.\n",
    "    : num_outputs: The number of output that the new tensor should be.\n",
    "    : return: A 2-D tensor where the second dimension is num_outputs.\n",
    "    \"\"\"\n",
    "    # TODO: Implement Function\n",
    "    shape = x_tensor.get_shape().as_list()\n",
    "    batch_size = shape[0]\n",
    "    flattened_image_size = shape[1]\n",
    "    \n",
    "    weights = tf.Variable(tf.truncated_normal([flattened_image_size, num_outputs], stddev=0.1))\n",
    "    bias = tf.Variable(tf.random_normal([num_outputs]))\n",
    "    output = tf.add(tf.matmul(x_tensor, weights), bias)\n",
    "    \n",
    "    return tf.nn.relu(output)\n",
    "\n",
    "\n",
    "\"\"\"\n",
    "DON'T MODIFY ANYTHING IN THIS CELL THAT IS BELOW THIS LINE\n",
    "\"\"\"\n",
    "tests.test_fully_conn(fully_conn)"
   ]
  },
  {
   "cell_type": "markdown",
   "metadata": {
    "deletable": true,
    "editable": true
   },
   "source": [
    "### Output Layer\n",
    "Implement the `output` function to apply a fully connected layer to `x_tensor` with the shape (*Batch Size*, *num_outputs*). Shortcut option: you can use classes from the [TensorFlow Layers](https://www.tensorflow.org/api_docs/python/tf/layers) or [TensorFlow Layers (contrib)](https://www.tensorflow.org/api_guides/python/contrib.layers) packages for this layer. For more of a challenge, only use other TensorFlow packages.\n",
    "\n",
    "**Note:** Activation, softmax, or cross entropy should **not** be applied to this."
   ]
  },
  {
   "cell_type": "code",
   "execution_count": 8,
   "metadata": {
    "collapsed": false,
    "deletable": true,
    "editable": true
   },
   "outputs": [
    {
     "name": "stdout",
     "output_type": "stream",
     "text": [
      "Tests Passed\n"
     ]
    }
   ],
   "source": [
    "def output(x_tensor, num_outputs):\n",
    "    \"\"\"\n",
    "    Apply a output layer to x_tensor using weight and bias\n",
    "    : x_tensor: A 2-D tensor where the first dimension is batch size.\n",
    "    : num_outputs: The number of output that the new tensor should be.\n",
    "    : return: A 2-D tensor where the second dimension is num_outputs.\n",
    "    \"\"\"\n",
    "    # TODO: Implement Function\n",
    "    shape = x_tensor.get_shape().as_list()\n",
    "    batch_size = shape[0]\n",
    "    previous_layer_output_dim = shape[1]\n",
    "    \n",
    "    weights = tf.Variable(tf.truncated_normal([previous_layer_output_dim, num_outputs], stddev=0.1))\n",
    "    bias = tf.Variable(tf.random_normal([num_outputs]))\n",
    "    \n",
    "    return tf.add(tf.matmul(x_tensor, weights), bias)\n",
    "\n",
    "\n",
    "\"\"\"\n",
    "DON'T MODIFY ANYTHING IN THIS CELL THAT IS BELOW THIS LINE\n",
    "\"\"\"\n",
    "tests.test_output(output)"
   ]
  },
  {
   "cell_type": "markdown",
   "metadata": {
    "deletable": true,
    "editable": true
   },
   "source": [
    "### Create Convolutional Model\n",
    "Implement the function `conv_net` to create a convolutional neural network model. The function takes in a batch of images, `x`, and outputs logits.  Use the layers you created above to create this model:\n",
    "\n",
    "* Apply 1, 2, or 3 Convolution and Max Pool layers\n",
    "* Apply a Flatten Layer\n",
    "* Apply 1, 2, or 3 Fully Connected Layers\n",
    "* Apply an Output Layer\n",
    "* Return the output\n",
    "* Apply [TensorFlow's Dropout](https://www.tensorflow.org/api_docs/python/tf/nn/dropout) to one or more layers in the model using `keep_prob`. "
   ]
  },
  {
   "cell_type": "code",
   "execution_count": 18,
   "metadata": {
    "collapsed": false,
    "deletable": true,
    "editable": true
   },
   "outputs": [
    {
     "name": "stdout",
     "output_type": "stream",
     "text": [
      "Neural Network Built!\n"
     ]
    }
   ],
   "source": [
    "def conv_net(x, keep_prob):\n",
    "    \"\"\"\n",
    "    Create a convolutional neural network model\n",
    "    : x: Placeholder tensor that holds image data.\n",
    "    : keep_prob: Placeholder tensor that hold dropout keep probability.\n",
    "    : return: Tensor that represents logits\n",
    "    \"\"\"\n",
    "    # TODO: Apply 1, 2, or 3 Convolution and Max Pool layers\n",
    "    #    Play around with different number of outputs, kernel size and stride\n",
    "    # Function Definition from Above:\n",
    "    #    conv2d_maxpool(x_tensor, conv_num_outputs, conv_ksize, conv_strides, pool_ksize, pool_strides)\n",
    "\n",
    "    # filter params\n",
    "    k1 = [3,3]\n",
    "    stride1 = [1,1]\n",
    "    num_filters1 = 64\n",
    "    \n",
    "    # max pool params\n",
    "    k1_pool = [2,2]\n",
    "    stride1_pool = [2,2]\n",
    "    \n",
    "    # layer 1\n",
    "    conv1 = conv2d_maxpool(x, num_filters1, k1, stride1, k1_pool, stride1_pool)\n",
    "    conv1 = tf.nn.dropout(conv1, keep_prob)\n",
    "    # output dims: 28*28*64 => 7*7*64\n",
    "    \n",
    "    ### layer 2\n",
    "    \n",
    "    # filter\n",
    "    k2 = [3,3]\n",
    "    stride2 = [1,1]\n",
    "    num_filters2 = 32\n",
    "    \n",
    "    # pooling layer\n",
    "    k2_pool = [2,2]\n",
    "    stride2_pool = [2,2]    \n",
    "    \n",
    "    conv2 = conv2d_maxpool(conv1, num_filters2, k2, stride2, k2_pool, stride2_pool)\n",
    "    conv2 = tf.nn.dropout(conv2, keep_prob)\n",
    "    \n",
    "    ### layer 3 = layer 2  \n",
    "    # filter\n",
    "    k3 = [3,3]\n",
    "    stride3 = [1,1]\n",
    "    num_filters3 = 16\n",
    "    \n",
    "    # pooling layer\n",
    "    k3_pool = [2,2]\n",
    "    stride3_pool = [2,2]\n",
    "    conv3 = conv2d_maxpool(conv2, num_filters3, k3, stride3, k3_pool, stride3_pool)\n",
    "    \n",
    "    conv3 = tf.nn.dropout(conv3, keep_prob)\n",
    "    \n",
    "\n",
    "    # TODO: Apply a Flatten Layer\n",
    "    # Function Definition from Above:\n",
    "    #   flatten(x_tensor)\n",
    "    flat = flatten(conv3)\n",
    "    \n",
    "\n",
    "    # TODO: Apply 1, 2, or 3 Fully Connected Layers\n",
    "    #    Play around with different number of outputs\n",
    "    # Function Definition from Above:\n",
    "    #   fully_conn(x_tensor, num_outputs)\n",
    "    \n",
    "    fc1 = fully_conn(flat, 1024)\n",
    "    fc2 = fully_conn(fc1, 256)\n",
    "    fc3 = fully_conn(fc2, 16)    \n",
    "    \n",
    "    # TODO: Apply an Output Layer\n",
    "    #    Set this to the number of classes\n",
    "    # Function Definition from Above:\n",
    "    #   output(x_tensor, num_outputs)\n",
    "    \n",
    "    result = output(fc3, num_labels)\n",
    "    \n",
    "    \n",
    "    # TODO: return output\n",
    "    return result\n",
    "\n",
    "\n",
    "\"\"\"\n",
    "DON'T MODIFY ANYTHING IN THIS CELL THAT IS BELOW THIS LINE\n",
    "\"\"\"\n",
    "\n",
    "##############################\n",
    "## Build the Neural Network ##\n",
    "##############################\n",
    "\n",
    "# Remove previous weights, bias, inputs, etc..\n",
    "tf.reset_default_graph()\n",
    "\n",
    "# Inputs\n",
    "x = neural_net_image_input((32, 32, 3))\n",
    "y = neural_net_label_input(10)\n",
    "keep_prob = neural_net_keep_prob_input()\n",
    "\n",
    "# Model\n",
    "logits = conv_net(x, keep_prob)\n",
    "\n",
    "# Name logits Tensor, so that is can be loaded from disk after training\n",
    "logits = tf.identity(logits, name='logits')\n",
    "\n",
    "# Loss and Optimizer\n",
    "cost = tf.reduce_mean(tf.nn.softmax_cross_entropy_with_logits(logits=logits, labels=y))\n",
    "optimizer = tf.train.AdamOptimizer().minimize(cost)\n",
    "\n",
    "# Accuracy\n",
    "correct_pred = tf.equal(tf.argmax(logits, 1), tf.argmax(y, 1))\n",
    "accuracy = tf.reduce_mean(tf.cast(correct_pred, tf.float32), name='accuracy')\n",
    "\n",
    "tests.test_conv_net(conv_net)"
   ]
  },
  {
   "cell_type": "markdown",
   "metadata": {
    "deletable": true,
    "editable": true
   },
   "source": [
    "## Train the Neural Network\n",
    "### Single Optimization\n",
    "Implement the function `train_neural_network` to do a single optimization.  The optimization should use `optimizer` to optimize in `session` with a `feed_dict` of the following:\n",
    "* `x` for image input\n",
    "* `y` for labels\n",
    "* `keep_prob` for keep probability for dropout\n",
    "\n",
    "This function will be called for each batch, so `tf.global_variables_initializer()` has already been called.\n",
    "\n",
    "Note: Nothing needs to be returned. This function is only optimizing the neural network."
   ]
  },
  {
   "cell_type": "code",
   "execution_count": 10,
   "metadata": {
    "collapsed": false,
    "deletable": true,
    "editable": true
   },
   "outputs": [
    {
     "name": "stdout",
     "output_type": "stream",
     "text": [
      "Tests Passed\n"
     ]
    }
   ],
   "source": [
    "def train_neural_network(session, optimizer, keep_probability, feature_batch, label_batch):\n",
    "    \"\"\"\n",
    "    Optimize the session on a batch of images and labels\n",
    "    : session: Current TensorFlow session\n",
    "    : optimizer: TensorFlow optimizer function\n",
    "    : keep_probability: keep probability\n",
    "    : feature_batch: Batch of Numpy image data\n",
    "    : label_batch: Batch of Numpy label data\n",
    "    \"\"\"\n",
    "    # TODO: Implement Function    \n",
    "    \n",
    "    session.run(optimizer, feed_dict={\n",
    "        x: feature_batch, \n",
    "        y: label_batch, \n",
    "        keep_prob: keep_probability})\n",
    "\n",
    "    pass\n",
    "\n",
    "\n",
    "\"\"\"\n",
    "DON'T MODIFY ANYTHING IN THIS CELL THAT IS BELOW THIS LINE\n",
    "\"\"\"\n",
    "tests.test_train_nn(train_neural_network)"
   ]
  },
  {
   "cell_type": "markdown",
   "metadata": {
    "deletable": true,
    "editable": true
   },
   "source": [
    "### Show Stats\n",
    "Implement the function `print_stats` to print loss and validation accuracy.  Use the global variables `valid_features` and `valid_labels` to calculate validation accuracy.  Use a keep probability of `1.0` to calculate the loss and validation accuracy."
   ]
  },
  {
   "cell_type": "code",
   "execution_count": 11,
   "metadata": {
    "collapsed": false,
    "deletable": true,
    "editable": true
   },
   "outputs": [],
   "source": [
    "def print_stats(session, feature_batch, label_batch, cost, accuracy):\n",
    "    \"\"\"\n",
    "    Print information about loss and validation accuracy\n",
    "    : session: Current TensorFlow session\n",
    "    : feature_batch: Batch of Numpy image data\n",
    "    : label_batch: Batch of Numpy label data\n",
    "    : cost: TensorFlow cost function\n",
    "    : accuracy: TensorFlow accuracy function\n",
    "    \"\"\"\n",
    "    # TODO: Implement Function\n",
    "    \n",
    "    loss = sess.run(cost, feed_dict={\n",
    "        x: feature_batch,\n",
    "        y: label_batch,\n",
    "        keep_prob: 1.0})\n",
    "    \n",
    "    global valid_features\n",
    "    global valid_labels\n",
    "    \n",
    "    valid_acc = sess.run(accuracy, feed_dict={\n",
    "        x: valid_features,\n",
    "        y: valid_labels,\n",
    "        keep_prob: 1.0})\n",
    "\n",
    "    print('Loss: {:>10.4f} Validation Accuracy: {:.6f}'.format(loss,valid_acc))\n",
    "    \n",
    "    pass"
   ]
  },
  {
   "cell_type": "markdown",
   "metadata": {
    "deletable": true,
    "editable": true
   },
   "source": [
    "### Hyperparameters\n",
    "Tune the following parameters:\n",
    "* Set `epochs` to the number of iterations until the network stops learning or start overfitting\n",
    "* Set `batch_size` to the highest number that your machine has memory for.  Most people set them to common sizes of memory:\n",
    " * 64\n",
    " * 128\n",
    " * 256\n",
    " * ...\n",
    "* Set `keep_probability` to the probability of keeping a node using dropout"
   ]
  },
  {
   "cell_type": "code",
   "execution_count": 19,
   "metadata": {
    "collapsed": true,
    "deletable": true,
    "editable": true
   },
   "outputs": [],
   "source": [
    "# TODO: Tune Parameters\n",
    "epochs = 30\n",
    "batch_size = 64\n",
    "keep_probability = 0.6"
   ]
  },
  {
   "cell_type": "markdown",
   "metadata": {
    "deletable": true,
    "editable": true
   },
   "source": [
    "### Train on a Single CIFAR-10 Batch\n",
    "Instead of training the neural network on all the CIFAR-10 batches of data, let's use a single batch. This should save time while you iterate on the model to get a better accuracy.  Once the final validation accuracy is 50% or greater, run the model on all the data in the next section."
   ]
  },
  {
   "cell_type": "code",
   "execution_count": 20,
   "metadata": {
    "collapsed": false,
    "deletable": true,
    "editable": true
   },
   "outputs": [
    {
     "name": "stdout",
     "output_type": "stream",
     "text": [
      "Checking the Training on a Single Batch...\n",
      "Epoch  1, CIFAR-10 Batch 1:  Loss:     2.2824 Validation Accuracy: 0.161200\n",
      "Epoch  2, CIFAR-10 Batch 1:  Loss:     2.1980 Validation Accuracy: 0.165600\n",
      "Epoch  3, CIFAR-10 Batch 1:  Loss:     2.1776 Validation Accuracy: 0.192400\n",
      "Epoch  4, CIFAR-10 Batch 1:  Loss:     2.1264 Validation Accuracy: 0.211200\n",
      "Epoch  5, CIFAR-10 Batch 1:  Loss:     2.1033 Validation Accuracy: 0.278400\n",
      "Epoch  6, CIFAR-10 Batch 1:  Loss:     2.0473 Validation Accuracy: 0.302800\n",
      "Epoch  7, CIFAR-10 Batch 1:  Loss:     1.9485 Validation Accuracy: 0.347000\n",
      "Epoch  8, CIFAR-10 Batch 1:  Loss:     1.8951 Validation Accuracy: 0.363200\n",
      "Epoch  9, CIFAR-10 Batch 1:  Loss:     1.8536 Validation Accuracy: 0.380000\n",
      "Epoch 10, CIFAR-10 Batch 1:  Loss:     1.7717 Validation Accuracy: 0.404200\n",
      "Epoch 11, CIFAR-10 Batch 1:  Loss:     1.6764 Validation Accuracy: 0.431000\n",
      "Epoch 12, CIFAR-10 Batch 1:  Loss:     1.7203 Validation Accuracy: 0.436200\n",
      "Epoch 13, CIFAR-10 Batch 1:  Loss:     1.6637 Validation Accuracy: 0.447000\n",
      "Epoch 14, CIFAR-10 Batch 1:  Loss:     1.6220 Validation Accuracy: 0.452800\n",
      "Epoch 15, CIFAR-10 Batch 1:  Loss:     1.5957 Validation Accuracy: 0.445400\n",
      "Epoch 16, CIFAR-10 Batch 1:  Loss:     1.5260 Validation Accuracy: 0.463600\n",
      "Epoch 17, CIFAR-10 Batch 1:  Loss:     1.4600 Validation Accuracy: 0.476800\n",
      "Epoch 18, CIFAR-10 Batch 1:  Loss:     1.4046 Validation Accuracy: 0.481000\n",
      "Epoch 19, CIFAR-10 Batch 1:  Loss:     1.3965 Validation Accuracy: 0.486400\n",
      "Epoch 20, CIFAR-10 Batch 1:  Loss:     1.4440 Validation Accuracy: 0.477600\n",
      "Epoch 21, CIFAR-10 Batch 1:  Loss:     1.3318 Validation Accuracy: 0.490400\n",
      "Epoch 22, CIFAR-10 Batch 1:  Loss:     1.2876 Validation Accuracy: 0.494600\n",
      "Epoch 23, CIFAR-10 Batch 1:  Loss:     1.2995 Validation Accuracy: 0.498400\n",
      "Epoch 24, CIFAR-10 Batch 1:  Loss:     1.2816 Validation Accuracy: 0.497200\n",
      "Epoch 25, CIFAR-10 Batch 1:  Loss:     1.2334 Validation Accuracy: 0.495600\n",
      "Epoch 26, CIFAR-10 Batch 1:  Loss:     1.1880 Validation Accuracy: 0.501800\n",
      "Epoch 27, CIFAR-10 Batch 1:  Loss:     1.2268 Validation Accuracy: 0.509200\n",
      "Epoch 28, CIFAR-10 Batch 1:  Loss:     1.1567 Validation Accuracy: 0.501800\n",
      "Epoch 29, CIFAR-10 Batch 1:  Loss:     1.1383 Validation Accuracy: 0.497400\n",
      "Epoch 30, CIFAR-10 Batch 1:  Loss:     1.0847 Validation Accuracy: 0.517000\n"
     ]
    }
   ],
   "source": [
    "\"\"\"\n",
    "DON'T MODIFY ANYTHING IN THIS CELL\n",
    "\"\"\"\n",
    "print('Checking the Training on a Single Batch...')\n",
    "with tf.Session() as sess:\n",
    "    # Initializing the variables\n",
    "    sess.run(tf.global_variables_initializer())\n",
    "    \n",
    "    # Training cycle\n",
    "    for epoch in range(epochs):\n",
    "        batch_i = 1\n",
    "        for batch_features, batch_labels in helper.load_preprocess_training_batch(batch_i, batch_size):\n",
    "            train_neural_network(sess, optimizer, keep_probability, batch_features, batch_labels)\n",
    "        print('Epoch {:>2}, CIFAR-10 Batch {}:  '.format(epoch + 1, batch_i), end='')\n",
    "        print_stats(sess, batch_features, batch_labels, cost, accuracy)"
   ]
  },
  {
   "cell_type": "markdown",
   "metadata": {
    "deletable": true,
    "editable": true
   },
   "source": [
    "### Fully Train the Model\n",
    "Now that you got a good accuracy with a single CIFAR-10 batch, try it with all five batches."
   ]
  },
  {
   "cell_type": "code",
   "execution_count": 21,
   "metadata": {
    "collapsed": false,
    "deletable": true,
    "editable": true
   },
   "outputs": [
    {
     "name": "stdout",
     "output_type": "stream",
     "text": [
      "Training...\n",
      "Epoch  1, CIFAR-10 Batch 1:  Loss:     2.3200 Validation Accuracy: 0.114000\n",
      "Epoch  1, CIFAR-10 Batch 2:  Loss:     2.1652 Validation Accuracy: 0.216600\n",
      "Epoch  1, CIFAR-10 Batch 3:  Loss:     2.0737 Validation Accuracy: 0.134200\n",
      "Epoch  1, CIFAR-10 Batch 4:  Loss:     2.0451 Validation Accuracy: 0.226800\n",
      "Epoch  1, CIFAR-10 Batch 5:  Loss:     2.0969 Validation Accuracy: 0.249800\n",
      "Epoch  2, CIFAR-10 Batch 1:  Loss:     2.2512 Validation Accuracy: 0.290400\n",
      "Epoch  2, CIFAR-10 Batch 2:  Loss:     1.9186 Validation Accuracy: 0.316000\n",
      "Epoch  2, CIFAR-10 Batch 3:  Loss:     1.5992 Validation Accuracy: 0.349000\n",
      "Epoch  2, CIFAR-10 Batch 4:  Loss:     1.7292 Validation Accuracy: 0.374400\n",
      "Epoch  2, CIFAR-10 Batch 5:  Loss:     1.8683 Validation Accuracy: 0.348400\n",
      "Epoch  3, CIFAR-10 Batch 1:  Loss:     2.2096 Validation Accuracy: 0.344200\n",
      "Epoch  3, CIFAR-10 Batch 2:  Loss:     1.7591 Validation Accuracy: 0.352600\n",
      "Epoch  3, CIFAR-10 Batch 3:  Loss:     1.6240 Validation Accuracy: 0.369600\n",
      "Epoch  3, CIFAR-10 Batch 4:  Loss:     1.5536 Validation Accuracy: 0.411200\n",
      "Epoch  3, CIFAR-10 Batch 5:  Loss:     1.8290 Validation Accuracy: 0.390400\n",
      "Epoch  4, CIFAR-10 Batch 1:  Loss:     1.9805 Validation Accuracy: 0.426200\n",
      "Epoch  4, CIFAR-10 Batch 2:  Loss:     1.6755 Validation Accuracy: 0.418800\n",
      "Epoch  4, CIFAR-10 Batch 3:  Loss:     1.5877 Validation Accuracy: 0.423000\n",
      "Epoch  4, CIFAR-10 Batch 4:  Loss:     1.5117 Validation Accuracy: 0.460200\n",
      "Epoch  4, CIFAR-10 Batch 5:  Loss:     1.7147 Validation Accuracy: 0.428000\n",
      "Epoch  5, CIFAR-10 Batch 1:  Loss:     1.8223 Validation Accuracy: 0.464800\n",
      "Epoch  5, CIFAR-10 Batch 2:  Loss:     1.6330 Validation Accuracy: 0.445000\n",
      "Epoch  5, CIFAR-10 Batch 3:  Loss:     1.4087 Validation Accuracy: 0.444200\n",
      "Epoch  5, CIFAR-10 Batch 4:  Loss:     1.4631 Validation Accuracy: 0.488400\n",
      "Epoch  5, CIFAR-10 Batch 5:  Loss:     1.6052 Validation Accuracy: 0.461200\n",
      "Epoch  6, CIFAR-10 Batch 1:  Loss:     1.6927 Validation Accuracy: 0.482800\n",
      "Epoch  6, CIFAR-10 Batch 2:  Loss:     1.6319 Validation Accuracy: 0.451600\n",
      "Epoch  6, CIFAR-10 Batch 3:  Loss:     1.2605 Validation Accuracy: 0.476000\n",
      "Epoch  6, CIFAR-10 Batch 4:  Loss:     1.4105 Validation Accuracy: 0.495000\n",
      "Epoch  6, CIFAR-10 Batch 5:  Loss:     1.4880 Validation Accuracy: 0.485800\n",
      "Epoch  7, CIFAR-10 Batch 1:  Loss:     1.6894 Validation Accuracy: 0.482600\n",
      "Epoch  7, CIFAR-10 Batch 2:  Loss:     1.5323 Validation Accuracy: 0.479800\n",
      "Epoch  7, CIFAR-10 Batch 3:  Loss:     1.2077 Validation Accuracy: 0.491600\n",
      "Epoch  7, CIFAR-10 Batch 4:  Loss:     1.3472 Validation Accuracy: 0.508600\n",
      "Epoch  7, CIFAR-10 Batch 5:  Loss:     1.5109 Validation Accuracy: 0.493400\n",
      "Epoch  8, CIFAR-10 Batch 1:  Loss:     1.6326 Validation Accuracy: 0.492600\n",
      "Epoch  8, CIFAR-10 Batch 2:  Loss:     1.5419 Validation Accuracy: 0.494000\n",
      "Epoch  8, CIFAR-10 Batch 3:  Loss:     1.2148 Validation Accuracy: 0.490800\n",
      "Epoch  8, CIFAR-10 Batch 4:  Loss:     1.3090 Validation Accuracy: 0.522600\n",
      "Epoch  8, CIFAR-10 Batch 5:  Loss:     1.4071 Validation Accuracy: 0.512000\n",
      "Epoch  9, CIFAR-10 Batch 1:  Loss:     1.6129 Validation Accuracy: 0.504600\n",
      "Epoch  9, CIFAR-10 Batch 2:  Loss:     1.5049 Validation Accuracy: 0.498800\n",
      "Epoch  9, CIFAR-10 Batch 3:  Loss:     1.1753 Validation Accuracy: 0.509200\n",
      "Epoch  9, CIFAR-10 Batch 4:  Loss:     1.3415 Validation Accuracy: 0.517600\n",
      "Epoch  9, CIFAR-10 Batch 5:  Loss:     1.3048 Validation Accuracy: 0.518000\n",
      "Epoch 10, CIFAR-10 Batch 1:  Loss:     1.6259 Validation Accuracy: 0.520800\n",
      "Epoch 10, CIFAR-10 Batch 2:  Loss:     1.3897 Validation Accuracy: 0.519000\n",
      "Epoch 10, CIFAR-10 Batch 3:  Loss:     1.1715 Validation Accuracy: 0.522000\n",
      "Epoch 10, CIFAR-10 Batch 4:  Loss:     1.2485 Validation Accuracy: 0.527400\n",
      "Epoch 10, CIFAR-10 Batch 5:  Loss:     1.2895 Validation Accuracy: 0.536000\n",
      "Epoch 11, CIFAR-10 Batch 1:  Loss:     1.5729 Validation Accuracy: 0.519800\n",
      "Epoch 11, CIFAR-10 Batch 2:  Loss:     1.3720 Validation Accuracy: 0.538000\n",
      "Epoch 11, CIFAR-10 Batch 3:  Loss:     1.0716 Validation Accuracy: 0.543200\n",
      "Epoch 11, CIFAR-10 Batch 4:  Loss:     1.2243 Validation Accuracy: 0.538200\n",
      "Epoch 11, CIFAR-10 Batch 5:  Loss:     1.2609 Validation Accuracy: 0.538000\n",
      "Epoch 12, CIFAR-10 Batch 1:  Loss:     1.5250 Validation Accuracy: 0.538000\n",
      "Epoch 12, CIFAR-10 Batch 2:  Loss:     1.3092 Validation Accuracy: 0.528600\n",
      "Epoch 12, CIFAR-10 Batch 3:  Loss:     1.0554 Validation Accuracy: 0.544200\n",
      "Epoch 12, CIFAR-10 Batch 4:  Loss:     1.1714 Validation Accuracy: 0.541400\n",
      "Epoch 12, CIFAR-10 Batch 5:  Loss:     1.2151 Validation Accuracy: 0.546000\n",
      "Epoch 13, CIFAR-10 Batch 1:  Loss:     1.3526 Validation Accuracy: 0.567600\n",
      "Epoch 13, CIFAR-10 Batch 2:  Loss:     1.3744 Validation Accuracy: 0.537400\n",
      "Epoch 13, CIFAR-10 Batch 3:  Loss:     1.0481 Validation Accuracy: 0.539600\n",
      "Epoch 13, CIFAR-10 Batch 4:  Loss:     1.1030 Validation Accuracy: 0.545800\n",
      "Epoch 13, CIFAR-10 Batch 5:  Loss:     1.1901 Validation Accuracy: 0.560000\n",
      "Epoch 14, CIFAR-10 Batch 1:  Loss:     1.3899 Validation Accuracy: 0.546800\n",
      "Epoch 14, CIFAR-10 Batch 2:  Loss:     1.2498 Validation Accuracy: 0.542000\n",
      "Epoch 14, CIFAR-10 Batch 3:  Loss:     0.9720 Validation Accuracy: 0.555400\n",
      "Epoch 14, CIFAR-10 Batch 4:  Loss:     1.0962 Validation Accuracy: 0.564600\n",
      "Epoch 14, CIFAR-10 Batch 5:  Loss:     1.1130 Validation Accuracy: 0.553200\n",
      "Epoch 15, CIFAR-10 Batch 1:  Loss:     1.3305 Validation Accuracy: 0.564400\n",
      "Epoch 15, CIFAR-10 Batch 2:  Loss:     1.2778 Validation Accuracy: 0.551400\n",
      "Epoch 15, CIFAR-10 Batch 3:  Loss:     0.9607 Validation Accuracy: 0.559800\n",
      "Epoch 15, CIFAR-10 Batch 4:  Loss:     1.0607 Validation Accuracy: 0.565400\n",
      "Epoch 15, CIFAR-10 Batch 5:  Loss:     1.0976 Validation Accuracy: 0.560800\n",
      "Epoch 16, CIFAR-10 Batch 1:  Loss:     1.3732 Validation Accuracy: 0.552800\n",
      "Epoch 16, CIFAR-10 Batch 2:  Loss:     1.2826 Validation Accuracy: 0.575200\n",
      "Epoch 16, CIFAR-10 Batch 3:  Loss:     0.9312 Validation Accuracy: 0.556200\n",
      "Epoch 16, CIFAR-10 Batch 4:  Loss:     0.9532 Validation Accuracy: 0.579200\n",
      "Epoch 16, CIFAR-10 Batch 5:  Loss:     0.9608 Validation Accuracy: 0.576400\n",
      "Epoch 17, CIFAR-10 Batch 1:  Loss:     1.1836 Validation Accuracy: 0.574000\n",
      "Epoch 17, CIFAR-10 Batch 2:  Loss:     1.1023 Validation Accuracy: 0.575600\n",
      "Epoch 17, CIFAR-10 Batch 3:  Loss:     0.8806 Validation Accuracy: 0.573000\n",
      "Epoch 17, CIFAR-10 Batch 4:  Loss:     0.9900 Validation Accuracy: 0.564600\n",
      "Epoch 17, CIFAR-10 Batch 5:  Loss:     0.9892 Validation Accuracy: 0.580600\n",
      "Epoch 18, CIFAR-10 Batch 1:  Loss:     1.2147 Validation Accuracy: 0.574400\n",
      "Epoch 18, CIFAR-10 Batch 2:  Loss:     1.2417 Validation Accuracy: 0.574200\n",
      "Epoch 18, CIFAR-10 Batch 3:  Loss:     0.9256 Validation Accuracy: 0.583000\n",
      "Epoch 18, CIFAR-10 Batch 4:  Loss:     0.9325 Validation Accuracy: 0.580000\n",
      "Epoch 18, CIFAR-10 Batch 5:  Loss:     1.0310 Validation Accuracy: 0.585600\n",
      "Epoch 19, CIFAR-10 Batch 1:  Loss:     1.1683 Validation Accuracy: 0.586800\n",
      "Epoch 19, CIFAR-10 Batch 2:  Loss:     1.1487 Validation Accuracy: 0.591600\n",
      "Epoch 19, CIFAR-10 Batch 3:  Loss:     0.9006 Validation Accuracy: 0.580000\n",
      "Epoch 19, CIFAR-10 Batch 4:  Loss:     0.8629 Validation Accuracy: 0.588400\n",
      "Epoch 19, CIFAR-10 Batch 5:  Loss:     0.9622 Validation Accuracy: 0.590800\n",
      "Epoch 20, CIFAR-10 Batch 1:  Loss:     1.1482 Validation Accuracy: 0.595200\n",
      "Epoch 20, CIFAR-10 Batch 2:  Loss:     1.0176 Validation Accuracy: 0.598200\n",
      "Epoch 20, CIFAR-10 Batch 3:  Loss:     0.8516 Validation Accuracy: 0.592000\n",
      "Epoch 20, CIFAR-10 Batch 4:  Loss:     0.8798 Validation Accuracy: 0.590200\n",
      "Epoch 20, CIFAR-10 Batch 5:  Loss:     1.0813 Validation Accuracy: 0.577200\n",
      "Epoch 21, CIFAR-10 Batch 1:  Loss:     1.2205 Validation Accuracy: 0.584600\n",
      "Epoch 21, CIFAR-10 Batch 2:  Loss:     1.2073 Validation Accuracy: 0.581600\n",
      "Epoch 21, CIFAR-10 Batch 3:  Loss:     0.8216 Validation Accuracy: 0.591400\n",
      "Epoch 21, CIFAR-10 Batch 4:  Loss:     0.9049 Validation Accuracy: 0.594000\n",
      "Epoch 21, CIFAR-10 Batch 5:  Loss:     0.9849 Validation Accuracy: 0.592200\n",
      "Epoch 22, CIFAR-10 Batch 1:  Loss:     1.0959 Validation Accuracy: 0.598400\n",
      "Epoch 22, CIFAR-10 Batch 2:  Loss:     1.0059 Validation Accuracy: 0.596200\n",
      "Epoch 22, CIFAR-10 Batch 3:  Loss:     0.8894 Validation Accuracy: 0.587200\n",
      "Epoch 22, CIFAR-10 Batch 4:  Loss:     0.8836 Validation Accuracy: 0.604600\n",
      "Epoch 22, CIFAR-10 Batch 5:  Loss:     0.9648 Validation Accuracy: 0.595000\n",
      "Epoch 23, CIFAR-10 Batch 1:  Loss:     1.0455 Validation Accuracy: 0.619000\n",
      "Epoch 23, CIFAR-10 Batch 2:  Loss:     0.9843 Validation Accuracy: 0.598800\n",
      "Epoch 23, CIFAR-10 Batch 3:  Loss:     0.7796 Validation Accuracy: 0.593000\n",
      "Epoch 23, CIFAR-10 Batch 4:  Loss:     0.7516 Validation Accuracy: 0.615000\n",
      "Epoch 23, CIFAR-10 Batch 5:  Loss:     0.8877 Validation Accuracy: 0.607200\n",
      "Epoch 24, CIFAR-10 Batch 1:  Loss:     1.1034 Validation Accuracy: 0.602000\n",
      "Epoch 24, CIFAR-10 Batch 2:  Loss:     0.9240 Validation Accuracy: 0.608000\n",
      "Epoch 24, CIFAR-10 Batch 3:  Loss:     0.7384 Validation Accuracy: 0.610000\n",
      "Epoch 24, CIFAR-10 Batch 4:  Loss:     0.7334 Validation Accuracy: 0.619200\n",
      "Epoch 24, CIFAR-10 Batch 5:  Loss:     0.9164 Validation Accuracy: 0.600400\n",
      "Epoch 25, CIFAR-10 Batch 1:  Loss:     1.0420 Validation Accuracy: 0.609600\n",
      "Epoch 25, CIFAR-10 Batch 2:  Loss:     0.9313 Validation Accuracy: 0.620000\n",
      "Epoch 25, CIFAR-10 Batch 3:  Loss:     0.7680 Validation Accuracy: 0.605200\n",
      "Epoch 25, CIFAR-10 Batch 4:  Loss:     0.7742 Validation Accuracy: 0.614600\n",
      "Epoch 25, CIFAR-10 Batch 5:  Loss:     0.7956 Validation Accuracy: 0.623600\n",
      "Epoch 26, CIFAR-10 Batch 1:  Loss:     1.0347 Validation Accuracy: 0.616400\n",
      "Epoch 26, CIFAR-10 Batch 2:  Loss:     1.0317 Validation Accuracy: 0.607800\n",
      "Epoch 26, CIFAR-10 Batch 3:  Loss:     0.8590 Validation Accuracy: 0.603800\n",
      "Epoch 26, CIFAR-10 Batch 4:  Loss:     0.7279 Validation Accuracy: 0.625200\n",
      "Epoch 26, CIFAR-10 Batch 5:  Loss:     0.8361 Validation Accuracy: 0.633800\n",
      "Epoch 27, CIFAR-10 Batch 1:  Loss:     1.0020 Validation Accuracy: 0.625000\n",
      "Epoch 27, CIFAR-10 Batch 2:  Loss:     0.9353 Validation Accuracy: 0.605200\n",
      "Epoch 27, CIFAR-10 Batch 3:  Loss:     0.7700 Validation Accuracy: 0.613800\n",
      "Epoch 27, CIFAR-10 Batch 4:  Loss:     0.6425 Validation Accuracy: 0.632200\n",
      "Epoch 27, CIFAR-10 Batch 5:  Loss:     0.8436 Validation Accuracy: 0.622400\n",
      "Epoch 28, CIFAR-10 Batch 1:  Loss:     0.9626 Validation Accuracy: 0.622000\n",
      "Epoch 28, CIFAR-10 Batch 2:  Loss:     0.8908 Validation Accuracy: 0.614800\n",
      "Epoch 28, CIFAR-10 Batch 3:  Loss:     0.7490 Validation Accuracy: 0.625800\n",
      "Epoch 28, CIFAR-10 Batch 4:  Loss:     0.6799 Validation Accuracy: 0.622000\n",
      "Epoch 28, CIFAR-10 Batch 5:  Loss:     0.7828 Validation Accuracy: 0.632200\n",
      "Epoch 29, CIFAR-10 Batch 1:  Loss:     0.9949 Validation Accuracy: 0.620200\n",
      "Epoch 29, CIFAR-10 Batch 2:  Loss:     0.8669 Validation Accuracy: 0.614200\n",
      "Epoch 29, CIFAR-10 Batch 3:  Loss:     0.7378 Validation Accuracy: 0.598800\n",
      "Epoch 29, CIFAR-10 Batch 4:  Loss:     0.6835 Validation Accuracy: 0.638800\n",
      "Epoch 29, CIFAR-10 Batch 5:  Loss:     0.8991 Validation Accuracy: 0.620600\n",
      "Epoch 30, CIFAR-10 Batch 1:  Loss:     0.9557 Validation Accuracy: 0.621400\n",
      "Epoch 30, CIFAR-10 Batch 2:  Loss:     0.8178 Validation Accuracy: 0.636000\n",
      "Epoch 30, CIFAR-10 Batch 3:  Loss:     0.6568 Validation Accuracy: 0.640800\n",
      "Epoch 30, CIFAR-10 Batch 4:  Loss:     0.6850 Validation Accuracy: 0.635400\n",
      "Epoch 30, CIFAR-10 Batch 5:  Loss:     0.8034 Validation Accuracy: 0.631600\n"
     ]
    },
    {
     "ename": "ResourceExhaustedError",
     "evalue": "image_classification.data-00000-of-00001.tempstate17147502780344711309\n\t [[Node: save/SaveV2 = SaveV2[dtypes=[DT_FLOAT, DT_FLOAT, DT_FLOAT, DT_FLOAT, DT_FLOAT, DT_FLOAT, DT_FLOAT, DT_FLOAT, DT_FLOAT, DT_FLOAT, DT_FLOAT, DT_FLOAT, DT_FLOAT, DT_FLOAT, DT_FLOAT, DT_FLOAT, DT_FLOAT, DT_FLOAT, DT_FLOAT, DT_FLOAT, DT_FLOAT, DT_FLOAT, DT_FLOAT, DT_FLOAT, DT_FLOAT, DT_FLOAT, DT_FLOAT, DT_FLOAT, DT_FLOAT, DT_FLOAT, DT_FLOAT, DT_FLOAT, DT_FLOAT, DT_FLOAT, DT_FLOAT, DT_FLOAT, DT_FLOAT, DT_FLOAT, DT_FLOAT, DT_FLOAT, DT_FLOAT, DT_FLOAT, DT_FLOAT, DT_FLOAT, DT_FLOAT, DT_FLOAT, DT_FLOAT, DT_FLOAT, DT_FLOAT, DT_FLOAT, DT_FLOAT, DT_FLOAT, DT_FLOAT, DT_FLOAT, DT_FLOAT, DT_FLOAT, DT_FLOAT, DT_FLOAT], _device=\"/job:localhost/replica:0/task:0/cpu:0\"](_recv_save/Const_0, save/SaveV2/tensor_names, save/SaveV2/shape_and_slices, Variable/_33, Variable/Adam/_35, Variable/Adam_1/_37, Variable_1/_39, Variable_1/Adam/_41, Variable_1/Adam_1/_43, Variable_10/_45, Variable_10/Adam/_47, Variable_10/Adam_1/_49, Variable_11/_51, Variable_11/Adam/_53, Variable_11/Adam_1/_55, Variable_12/_57, Variable_12/Adam/_59, Variable_12/Adam_1/_61, Variable_13/_63, Variable_13/Adam/_65, Variable_13/Adam_1/_67, Variable_14/_69, Variable_15/_71, Variable_16/_73, Variable_17/_75, Variable_18/_77, Variable_19/_79, Variable_2/_81, Variable_2/Adam/_83, Variable_2/Adam_1/_85, Variable_20/_87, Variable_21/_89, Variable_22/_91, Variable_23/_93, Variable_24/_95, Variable_25/_97, Variable_26/_99, Variable_27/_101, Variable_3/_103, Variable_3/Adam/_105, Variable_3/Adam_1/_107, Variable_4/_109, Variable_4/Adam/_111, Variable_4/Adam_1/_113, Variable_5/_115, Variable_5/Adam/_117, Variable_5/Adam_1/_119, Variable_6/_121, Variable_6/Adam/_123, Variable_6/Adam_1/_125, Variable_7/_127, Variable_7/Adam/_129, Variable_7/Adam_1/_131, Variable_8/_133, Variable_8/Adam/_135, Variable_8/Adam_1/_137, Variable_9/_139, Variable_9/Adam/_141, Variable_9/Adam_1/_143, beta1_power/_145, beta2_power/_147)]]\n\nCaused by op 'save/SaveV2', defined at:\n  File \"/home/carnd/anaconda3/envs/dl/lib/python3.5/runpy.py\", line 184, in _run_module_as_main\n    \"__main__\", mod_spec)\n  File \"/home/carnd/anaconda3/envs/dl/lib/python3.5/runpy.py\", line 85, in _run_code\n    exec(code, run_globals)\n  File \"/home/carnd/anaconda3/envs/dl/lib/python3.5/site-packages/ipykernel/__main__.py\", line 3, in <module>\n    app.launch_new_instance()\n  File \"/home/carnd/anaconda3/envs/dl/lib/python3.5/site-packages/traitlets/config/application.py\", line 658, in launch_instance\n    app.start()\n  File \"/home/carnd/anaconda3/envs/dl/lib/python3.5/site-packages/ipykernel/kernelapp.py\", line 474, in start\n    ioloop.IOLoop.instance().start()\n  File \"/home/carnd/anaconda3/envs/dl/lib/python3.5/site-packages/zmq/eventloop/ioloop.py\", line 177, in start\n    super(ZMQIOLoop, self).start()\n  File \"/home/carnd/anaconda3/envs/dl/lib/python3.5/site-packages/tornado/ioloop.py\", line 887, in start\n    handler_func(fd_obj, events)\n  File \"/home/carnd/anaconda3/envs/dl/lib/python3.5/site-packages/tornado/stack_context.py\", line 275, in null_wrapper\n    return fn(*args, **kwargs)\n  File \"/home/carnd/anaconda3/envs/dl/lib/python3.5/site-packages/zmq/eventloop/zmqstream.py\", line 440, in _handle_events\n    self._handle_recv()\n  File \"/home/carnd/anaconda3/envs/dl/lib/python3.5/site-packages/zmq/eventloop/zmqstream.py\", line 472, in _handle_recv\n    self._run_callback(callback, msg)\n  File \"/home/carnd/anaconda3/envs/dl/lib/python3.5/site-packages/zmq/eventloop/zmqstream.py\", line 414, in _run_callback\n    callback(*args, **kwargs)\n  File \"/home/carnd/anaconda3/envs/dl/lib/python3.5/site-packages/tornado/stack_context.py\", line 275, in null_wrapper\n    return fn(*args, **kwargs)\n  File \"/home/carnd/anaconda3/envs/dl/lib/python3.5/site-packages/ipykernel/kernelbase.py\", line 276, in dispatcher\n    return self.dispatch_shell(stream, msg)\n  File \"/home/carnd/anaconda3/envs/dl/lib/python3.5/site-packages/ipykernel/kernelbase.py\", line 228, in dispatch_shell\n    handler(stream, idents, msg)\n  File \"/home/carnd/anaconda3/envs/dl/lib/python3.5/site-packages/ipykernel/kernelbase.py\", line 390, in execute_request\n    user_expressions, allow_stdin)\n  File \"/home/carnd/anaconda3/envs/dl/lib/python3.5/site-packages/ipykernel/ipkernel.py\", line 196, in do_execute\n    res = shell.run_cell(code, store_history=store_history, silent=silent)\n  File \"/home/carnd/anaconda3/envs/dl/lib/python3.5/site-packages/ipykernel/zmqshell.py\", line 501, in run_cell\n    return super(ZMQInteractiveShell, self).run_cell(*args, **kwargs)\n  File \"/home/carnd/anaconda3/envs/dl/lib/python3.5/site-packages/IPython/core/interactiveshell.py\", line 2717, in run_cell\n    interactivity=interactivity, compiler=compiler, result=result)\n  File \"/home/carnd/anaconda3/envs/dl/lib/python3.5/site-packages/IPython/core/interactiveshell.py\", line 2821, in run_ast_nodes\n    if self.run_code(code, result):\n  File \"/home/carnd/anaconda3/envs/dl/lib/python3.5/site-packages/IPython/core/interactiveshell.py\", line 2881, in run_code\n    exec(code_obj, self.user_global_ns, self.user_ns)\n  File \"<ipython-input-21-9df3032ebe9d>\", line 22, in <module>\n    saver = tf.train.Saver()\n  File \"/home/carnd/anaconda3/envs/dl/lib/python3.5/site-packages/tensorflow/python/training/saver.py\", line 1051, in __init__\n    self.build()\n  File \"/home/carnd/anaconda3/envs/dl/lib/python3.5/site-packages/tensorflow/python/training/saver.py\", line 1081, in build\n    restore_sequentially=self._restore_sequentially)\n  File \"/home/carnd/anaconda3/envs/dl/lib/python3.5/site-packages/tensorflow/python/training/saver.py\", line 673, in build\n    save_tensor = self._AddSaveOps(filename_tensor, saveables)\n  File \"/home/carnd/anaconda3/envs/dl/lib/python3.5/site-packages/tensorflow/python/training/saver.py\", line 271, in _AddSaveOps\n    save = self.save_op(filename_tensor, saveables)\n  File \"/home/carnd/anaconda3/envs/dl/lib/python3.5/site-packages/tensorflow/python/training/saver.py\", line 214, in save_op\n    tensors)\n  File \"/home/carnd/anaconda3/envs/dl/lib/python3.5/site-packages/tensorflow/python/ops/gen_io_ops.py\", line 779, in save_v2\n    tensors=tensors, name=name)\n  File \"/home/carnd/anaconda3/envs/dl/lib/python3.5/site-packages/tensorflow/python/framework/op_def_library.py\", line 763, in apply_op\n    op_def=op_def)\n  File \"/home/carnd/anaconda3/envs/dl/lib/python3.5/site-packages/tensorflow/python/framework/ops.py\", line 2395, in create_op\n    original_op=self._default_original_op, op_def=op_def)\n  File \"/home/carnd/anaconda3/envs/dl/lib/python3.5/site-packages/tensorflow/python/framework/ops.py\", line 1264, in __init__\n    self._traceback = _extract_stack()\n\nResourceExhaustedError (see above for traceback): image_classification.data-00000-of-00001.tempstate17147502780344711309\n\t [[Node: save/SaveV2 = SaveV2[dtypes=[DT_FLOAT, DT_FLOAT, DT_FLOAT, DT_FLOAT, DT_FLOAT, DT_FLOAT, DT_FLOAT, DT_FLOAT, DT_FLOAT, DT_FLOAT, DT_FLOAT, DT_FLOAT, DT_FLOAT, DT_FLOAT, DT_FLOAT, DT_FLOAT, DT_FLOAT, DT_FLOAT, DT_FLOAT, DT_FLOAT, DT_FLOAT, DT_FLOAT, DT_FLOAT, DT_FLOAT, DT_FLOAT, DT_FLOAT, DT_FLOAT, DT_FLOAT, DT_FLOAT, DT_FLOAT, DT_FLOAT, DT_FLOAT, DT_FLOAT, DT_FLOAT, DT_FLOAT, DT_FLOAT, DT_FLOAT, DT_FLOAT, DT_FLOAT, DT_FLOAT, DT_FLOAT, DT_FLOAT, DT_FLOAT, DT_FLOAT, DT_FLOAT, DT_FLOAT, DT_FLOAT, DT_FLOAT, DT_FLOAT, DT_FLOAT, DT_FLOAT, DT_FLOAT, DT_FLOAT, DT_FLOAT, DT_FLOAT, DT_FLOAT, DT_FLOAT, DT_FLOAT], _device=\"/job:localhost/replica:0/task:0/cpu:0\"](_recv_save/Const_0, save/SaveV2/tensor_names, save/SaveV2/shape_and_slices, Variable/_33, Variable/Adam/_35, Variable/Adam_1/_37, Variable_1/_39, Variable_1/Adam/_41, Variable_1/Adam_1/_43, Variable_10/_45, Variable_10/Adam/_47, Variable_10/Adam_1/_49, Variable_11/_51, Variable_11/Adam/_53, Variable_11/Adam_1/_55, Variable_12/_57, Variable_12/Adam/_59, Variable_12/Adam_1/_61, Variable_13/_63, Variable_13/Adam/_65, Variable_13/Adam_1/_67, Variable_14/_69, Variable_15/_71, Variable_16/_73, Variable_17/_75, Variable_18/_77, Variable_19/_79, Variable_2/_81, Variable_2/Adam/_83, Variable_2/Adam_1/_85, Variable_20/_87, Variable_21/_89, Variable_22/_91, Variable_23/_93, Variable_24/_95, Variable_25/_97, Variable_26/_99, Variable_27/_101, Variable_3/_103, Variable_3/Adam/_105, Variable_3/Adam_1/_107, Variable_4/_109, Variable_4/Adam/_111, Variable_4/Adam_1/_113, Variable_5/_115, Variable_5/Adam/_117, Variable_5/Adam_1/_119, Variable_6/_121, Variable_6/Adam/_123, Variable_6/Adam_1/_125, Variable_7/_127, Variable_7/Adam/_129, Variable_7/Adam_1/_131, Variable_8/_133, Variable_8/Adam/_135, Variable_8/Adam_1/_137, Variable_9/_139, Variable_9/Adam/_141, Variable_9/Adam_1/_143, beta1_power/_145, beta2_power/_147)]]\n",
     "output_type": "error",
     "traceback": [
      "\u001b[0;31m---------------------------------------------------------------------------\u001b[0m",
      "\u001b[0;31mResourceExhaustedError\u001b[0m                    Traceback (most recent call last)",
      "\u001b[0;32m/home/carnd/anaconda3/envs/dl/lib/python3.5/site-packages/tensorflow/python/client/session.py\u001b[0m in \u001b[0;36m_do_call\u001b[0;34m(self, fn, *args)\u001b[0m\n\u001b[1;32m   1021\u001b[0m     \u001b[0;32mtry\u001b[0m\u001b[0;34m:\u001b[0m\u001b[0;34m\u001b[0m\u001b[0m\n\u001b[0;32m-> 1022\u001b[0;31m       \u001b[0;32mreturn\u001b[0m \u001b[0mfn\u001b[0m\u001b[0;34m(\u001b[0m\u001b[0;34m*\u001b[0m\u001b[0margs\u001b[0m\u001b[0;34m)\u001b[0m\u001b[0;34m\u001b[0m\u001b[0m\n\u001b[0m\u001b[1;32m   1023\u001b[0m     \u001b[0;32mexcept\u001b[0m \u001b[0merrors\u001b[0m\u001b[0;34m.\u001b[0m\u001b[0mOpError\u001b[0m \u001b[0;32mas\u001b[0m \u001b[0me\u001b[0m\u001b[0;34m:\u001b[0m\u001b[0;34m\u001b[0m\u001b[0m\n",
      "\u001b[0;32m/home/carnd/anaconda3/envs/dl/lib/python3.5/site-packages/tensorflow/python/client/session.py\u001b[0m in \u001b[0;36m_run_fn\u001b[0;34m(session, feed_dict, fetch_list, target_list, options, run_metadata)\u001b[0m\n\u001b[1;32m   1003\u001b[0m                                  \u001b[0mfeed_dict\u001b[0m\u001b[0;34m,\u001b[0m \u001b[0mfetch_list\u001b[0m\u001b[0;34m,\u001b[0m \u001b[0mtarget_list\u001b[0m\u001b[0;34m,\u001b[0m\u001b[0;34m\u001b[0m\u001b[0m\n\u001b[0;32m-> 1004\u001b[0;31m                                  status, run_metadata)\n\u001b[0m\u001b[1;32m   1005\u001b[0m \u001b[0;34m\u001b[0m\u001b[0m\n",
      "\u001b[0;32m/home/carnd/anaconda3/envs/dl/lib/python3.5/contextlib.py\u001b[0m in \u001b[0;36m__exit__\u001b[0;34m(self, type, value, traceback)\u001b[0m\n\u001b[1;32m     65\u001b[0m             \u001b[0;32mtry\u001b[0m\u001b[0;34m:\u001b[0m\u001b[0;34m\u001b[0m\u001b[0m\n\u001b[0;32m---> 66\u001b[0;31m                 \u001b[0mnext\u001b[0m\u001b[0;34m(\u001b[0m\u001b[0mself\u001b[0m\u001b[0;34m.\u001b[0m\u001b[0mgen\u001b[0m\u001b[0;34m)\u001b[0m\u001b[0;34m\u001b[0m\u001b[0m\n\u001b[0m\u001b[1;32m     67\u001b[0m             \u001b[0;32mexcept\u001b[0m \u001b[0mStopIteration\u001b[0m\u001b[0;34m:\u001b[0m\u001b[0;34m\u001b[0m\u001b[0m\n",
      "\u001b[0;32m/home/carnd/anaconda3/envs/dl/lib/python3.5/site-packages/tensorflow/python/framework/errors_impl.py\u001b[0m in \u001b[0;36mraise_exception_on_not_ok_status\u001b[0;34m()\u001b[0m\n\u001b[1;32m    468\u001b[0m           \u001b[0mcompat\u001b[0m\u001b[0;34m.\u001b[0m\u001b[0mas_text\u001b[0m\u001b[0;34m(\u001b[0m\u001b[0mpywrap_tensorflow\u001b[0m\u001b[0;34m.\u001b[0m\u001b[0mTF_Message\u001b[0m\u001b[0;34m(\u001b[0m\u001b[0mstatus\u001b[0m\u001b[0;34m)\u001b[0m\u001b[0;34m)\u001b[0m\u001b[0;34m,\u001b[0m\u001b[0;34m\u001b[0m\u001b[0m\n\u001b[0;32m--> 469\u001b[0;31m           pywrap_tensorflow.TF_GetCode(status))\n\u001b[0m\u001b[1;32m    470\u001b[0m   \u001b[0;32mfinally\u001b[0m\u001b[0;34m:\u001b[0m\u001b[0;34m\u001b[0m\u001b[0m\n",
      "\u001b[0;31mResourceExhaustedError\u001b[0m: image_classification.data-00000-of-00001.tempstate17147502780344711309\n\t [[Node: save/SaveV2 = SaveV2[dtypes=[DT_FLOAT, DT_FLOAT, DT_FLOAT, DT_FLOAT, DT_FLOAT, DT_FLOAT, DT_FLOAT, DT_FLOAT, DT_FLOAT, DT_FLOAT, DT_FLOAT, DT_FLOAT, DT_FLOAT, DT_FLOAT, DT_FLOAT, DT_FLOAT, DT_FLOAT, DT_FLOAT, DT_FLOAT, DT_FLOAT, DT_FLOAT, DT_FLOAT, DT_FLOAT, DT_FLOAT, DT_FLOAT, DT_FLOAT, DT_FLOAT, DT_FLOAT, DT_FLOAT, DT_FLOAT, DT_FLOAT, DT_FLOAT, DT_FLOAT, DT_FLOAT, DT_FLOAT, DT_FLOAT, DT_FLOAT, DT_FLOAT, DT_FLOAT, DT_FLOAT, DT_FLOAT, DT_FLOAT, DT_FLOAT, DT_FLOAT, DT_FLOAT, DT_FLOAT, DT_FLOAT, DT_FLOAT, DT_FLOAT, DT_FLOAT, DT_FLOAT, DT_FLOAT, DT_FLOAT, DT_FLOAT, DT_FLOAT, DT_FLOAT, DT_FLOAT, DT_FLOAT], _device=\"/job:localhost/replica:0/task:0/cpu:0\"](_recv_save/Const_0, save/SaveV2/tensor_names, save/SaveV2/shape_and_slices, Variable/_33, Variable/Adam/_35, Variable/Adam_1/_37, Variable_1/_39, Variable_1/Adam/_41, Variable_1/Adam_1/_43, Variable_10/_45, Variable_10/Adam/_47, Variable_10/Adam_1/_49, Variable_11/_51, Variable_11/Adam/_53, Variable_11/Adam_1/_55, Variable_12/_57, Variable_12/Adam/_59, Variable_12/Adam_1/_61, Variable_13/_63, Variable_13/Adam/_65, Variable_13/Adam_1/_67, Variable_14/_69, Variable_15/_71, Variable_16/_73, Variable_17/_75, Variable_18/_77, Variable_19/_79, Variable_2/_81, Variable_2/Adam/_83, Variable_2/Adam_1/_85, Variable_20/_87, Variable_21/_89, Variable_22/_91, Variable_23/_93, Variable_24/_95, Variable_25/_97, Variable_26/_99, Variable_27/_101, Variable_3/_103, Variable_3/Adam/_105, Variable_3/Adam_1/_107, Variable_4/_109, Variable_4/Adam/_111, Variable_4/Adam_1/_113, Variable_5/_115, Variable_5/Adam/_117, Variable_5/Adam_1/_119, Variable_6/_121, Variable_6/Adam/_123, Variable_6/Adam_1/_125, Variable_7/_127, Variable_7/Adam/_129, Variable_7/Adam_1/_131, Variable_8/_133, Variable_8/Adam/_135, Variable_8/Adam_1/_137, Variable_9/_139, Variable_9/Adam/_141, Variable_9/Adam_1/_143, beta1_power/_145, beta2_power/_147)]]",
      "\nDuring handling of the above exception, another exception occurred:\n",
      "\u001b[0;31mResourceExhaustedError\u001b[0m                    Traceback (most recent call last)",
      "\u001b[0;32m<ipython-input-21-9df3032ebe9d>\u001b[0m in \u001b[0;36m<module>\u001b[0;34m()\u001b[0m\n\u001b[1;32m     21\u001b[0m     \u001b[0;31m# Save Model\u001b[0m\u001b[0;34m\u001b[0m\u001b[0;34m\u001b[0m\u001b[0m\n\u001b[1;32m     22\u001b[0m     \u001b[0msaver\u001b[0m \u001b[0;34m=\u001b[0m \u001b[0mtf\u001b[0m\u001b[0;34m.\u001b[0m\u001b[0mtrain\u001b[0m\u001b[0;34m.\u001b[0m\u001b[0mSaver\u001b[0m\u001b[0;34m(\u001b[0m\u001b[0;34m)\u001b[0m\u001b[0;34m\u001b[0m\u001b[0m\n\u001b[0;32m---> 23\u001b[0;31m     \u001b[0msave_path\u001b[0m \u001b[0;34m=\u001b[0m \u001b[0msaver\u001b[0m\u001b[0;34m.\u001b[0m\u001b[0msave\u001b[0m\u001b[0;34m(\u001b[0m\u001b[0msess\u001b[0m\u001b[0;34m,\u001b[0m \u001b[0msave_model_path\u001b[0m\u001b[0;34m)\u001b[0m\u001b[0;34m\u001b[0m\u001b[0m\n\u001b[0m",
      "\u001b[0;32m/home/carnd/anaconda3/envs/dl/lib/python3.5/site-packages/tensorflow/python/training/saver.py\u001b[0m in \u001b[0;36msave\u001b[0;34m(self, sess, save_path, global_step, latest_filename, meta_graph_suffix, write_meta_graph, write_state)\u001b[0m\n\u001b[1;32m   1372\u001b[0m       model_checkpoint_path = sess.run(\n\u001b[1;32m   1373\u001b[0m           \u001b[0mself\u001b[0m\u001b[0;34m.\u001b[0m\u001b[0msaver_def\u001b[0m\u001b[0;34m.\u001b[0m\u001b[0msave_tensor_name\u001b[0m\u001b[0;34m,\u001b[0m\u001b[0;34m\u001b[0m\u001b[0m\n\u001b[0;32m-> 1374\u001b[0;31m           {self.saver_def.filename_tensor_name: checkpoint_file})\n\u001b[0m\u001b[1;32m   1375\u001b[0m       \u001b[0mmodel_checkpoint_path\u001b[0m \u001b[0;34m=\u001b[0m \u001b[0mcompat\u001b[0m\u001b[0;34m.\u001b[0m\u001b[0mas_str\u001b[0m\u001b[0;34m(\u001b[0m\u001b[0mmodel_checkpoint_path\u001b[0m\u001b[0;34m)\u001b[0m\u001b[0;34m\u001b[0m\u001b[0m\n\u001b[1;32m   1376\u001b[0m       \u001b[0;32mif\u001b[0m \u001b[0mwrite_state\u001b[0m\u001b[0;34m:\u001b[0m\u001b[0;34m\u001b[0m\u001b[0m\n",
      "\u001b[0;32m/home/carnd/anaconda3/envs/dl/lib/python3.5/site-packages/tensorflow/python/client/session.py\u001b[0m in \u001b[0;36mrun\u001b[0;34m(self, fetches, feed_dict, options, run_metadata)\u001b[0m\n\u001b[1;32m    765\u001b[0m     \u001b[0;32mtry\u001b[0m\u001b[0;34m:\u001b[0m\u001b[0;34m\u001b[0m\u001b[0m\n\u001b[1;32m    766\u001b[0m       result = self._run(None, fetches, feed_dict, options_ptr,\n\u001b[0;32m--> 767\u001b[0;31m                          run_metadata_ptr)\n\u001b[0m\u001b[1;32m    768\u001b[0m       \u001b[0;32mif\u001b[0m \u001b[0mrun_metadata\u001b[0m\u001b[0;34m:\u001b[0m\u001b[0;34m\u001b[0m\u001b[0m\n\u001b[1;32m    769\u001b[0m         \u001b[0mproto_data\u001b[0m \u001b[0;34m=\u001b[0m \u001b[0mtf_session\u001b[0m\u001b[0;34m.\u001b[0m\u001b[0mTF_GetBuffer\u001b[0m\u001b[0;34m(\u001b[0m\u001b[0mrun_metadata_ptr\u001b[0m\u001b[0;34m)\u001b[0m\u001b[0;34m\u001b[0m\u001b[0m\n",
      "\u001b[0;32m/home/carnd/anaconda3/envs/dl/lib/python3.5/site-packages/tensorflow/python/client/session.py\u001b[0m in \u001b[0;36m_run\u001b[0;34m(self, handle, fetches, feed_dict, options, run_metadata)\u001b[0m\n\u001b[1;32m    963\u001b[0m     \u001b[0;32mif\u001b[0m \u001b[0mfinal_fetches\u001b[0m \u001b[0;32mor\u001b[0m \u001b[0mfinal_targets\u001b[0m\u001b[0;34m:\u001b[0m\u001b[0;34m\u001b[0m\u001b[0m\n\u001b[1;32m    964\u001b[0m       results = self._do_run(handle, final_targets, final_fetches,\n\u001b[0;32m--> 965\u001b[0;31m                              feed_dict_string, options, run_metadata)\n\u001b[0m\u001b[1;32m    966\u001b[0m     \u001b[0;32melse\u001b[0m\u001b[0;34m:\u001b[0m\u001b[0;34m\u001b[0m\u001b[0m\n\u001b[1;32m    967\u001b[0m       \u001b[0mresults\u001b[0m \u001b[0;34m=\u001b[0m \u001b[0;34m[\u001b[0m\u001b[0;34m]\u001b[0m\u001b[0;34m\u001b[0m\u001b[0m\n",
      "\u001b[0;32m/home/carnd/anaconda3/envs/dl/lib/python3.5/site-packages/tensorflow/python/client/session.py\u001b[0m in \u001b[0;36m_do_run\u001b[0;34m(self, handle, target_list, fetch_list, feed_dict, options, run_metadata)\u001b[0m\n\u001b[1;32m   1013\u001b[0m     \u001b[0;32mif\u001b[0m \u001b[0mhandle\u001b[0m \u001b[0;32mis\u001b[0m \u001b[0;32mNone\u001b[0m\u001b[0;34m:\u001b[0m\u001b[0;34m\u001b[0m\u001b[0m\n\u001b[1;32m   1014\u001b[0m       return self._do_call(_run_fn, self._session, feed_dict, fetch_list,\n\u001b[0;32m-> 1015\u001b[0;31m                            target_list, options, run_metadata)\n\u001b[0m\u001b[1;32m   1016\u001b[0m     \u001b[0;32melse\u001b[0m\u001b[0;34m:\u001b[0m\u001b[0;34m\u001b[0m\u001b[0m\n\u001b[1;32m   1017\u001b[0m       return self._do_call(_prun_fn, self._session, handle, feed_dict,\n",
      "\u001b[0;32m/home/carnd/anaconda3/envs/dl/lib/python3.5/site-packages/tensorflow/python/client/session.py\u001b[0m in \u001b[0;36m_do_call\u001b[0;34m(self, fn, *args)\u001b[0m\n\u001b[1;32m   1033\u001b[0m         \u001b[0;32mexcept\u001b[0m \u001b[0mKeyError\u001b[0m\u001b[0;34m:\u001b[0m\u001b[0;34m\u001b[0m\u001b[0m\n\u001b[1;32m   1034\u001b[0m           \u001b[0;32mpass\u001b[0m\u001b[0;34m\u001b[0m\u001b[0m\n\u001b[0;32m-> 1035\u001b[0;31m       \u001b[0;32mraise\u001b[0m \u001b[0mtype\u001b[0m\u001b[0;34m(\u001b[0m\u001b[0me\u001b[0m\u001b[0;34m)\u001b[0m\u001b[0;34m(\u001b[0m\u001b[0mnode_def\u001b[0m\u001b[0;34m,\u001b[0m \u001b[0mop\u001b[0m\u001b[0;34m,\u001b[0m \u001b[0mmessage\u001b[0m\u001b[0;34m)\u001b[0m\u001b[0;34m\u001b[0m\u001b[0m\n\u001b[0m\u001b[1;32m   1036\u001b[0m \u001b[0;34m\u001b[0m\u001b[0m\n\u001b[1;32m   1037\u001b[0m   \u001b[0;32mdef\u001b[0m \u001b[0m_extend_graph\u001b[0m\u001b[0;34m(\u001b[0m\u001b[0mself\u001b[0m\u001b[0;34m)\u001b[0m\u001b[0;34m:\u001b[0m\u001b[0;34m\u001b[0m\u001b[0m\n",
      "\u001b[0;31mResourceExhaustedError\u001b[0m: image_classification.data-00000-of-00001.tempstate17147502780344711309\n\t [[Node: save/SaveV2 = SaveV2[dtypes=[DT_FLOAT, DT_FLOAT, DT_FLOAT, DT_FLOAT, DT_FLOAT, DT_FLOAT, DT_FLOAT, DT_FLOAT, DT_FLOAT, DT_FLOAT, DT_FLOAT, DT_FLOAT, DT_FLOAT, DT_FLOAT, DT_FLOAT, DT_FLOAT, DT_FLOAT, DT_FLOAT, DT_FLOAT, DT_FLOAT, DT_FLOAT, DT_FLOAT, DT_FLOAT, DT_FLOAT, DT_FLOAT, DT_FLOAT, DT_FLOAT, DT_FLOAT, DT_FLOAT, DT_FLOAT, DT_FLOAT, DT_FLOAT, DT_FLOAT, DT_FLOAT, DT_FLOAT, DT_FLOAT, DT_FLOAT, DT_FLOAT, DT_FLOAT, DT_FLOAT, DT_FLOAT, DT_FLOAT, DT_FLOAT, DT_FLOAT, DT_FLOAT, DT_FLOAT, DT_FLOAT, DT_FLOAT, DT_FLOAT, DT_FLOAT, DT_FLOAT, DT_FLOAT, DT_FLOAT, DT_FLOAT, DT_FLOAT, DT_FLOAT, DT_FLOAT, DT_FLOAT], _device=\"/job:localhost/replica:0/task:0/cpu:0\"](_recv_save/Const_0, save/SaveV2/tensor_names, save/SaveV2/shape_and_slices, Variable/_33, Variable/Adam/_35, Variable/Adam_1/_37, Variable_1/_39, Variable_1/Adam/_41, Variable_1/Adam_1/_43, Variable_10/_45, Variable_10/Adam/_47, Variable_10/Adam_1/_49, Variable_11/_51, Variable_11/Adam/_53, Variable_11/Adam_1/_55, Variable_12/_57, Variable_12/Adam/_59, Variable_12/Adam_1/_61, Variable_13/_63, Variable_13/Adam/_65, Variable_13/Adam_1/_67, Variable_14/_69, Variable_15/_71, Variable_16/_73, Variable_17/_75, Variable_18/_77, Variable_19/_79, Variable_2/_81, Variable_2/Adam/_83, Variable_2/Adam_1/_85, Variable_20/_87, Variable_21/_89, Variable_22/_91, Variable_23/_93, Variable_24/_95, Variable_25/_97, Variable_26/_99, Variable_27/_101, Variable_3/_103, Variable_3/Adam/_105, Variable_3/Adam_1/_107, Variable_4/_109, Variable_4/Adam/_111, Variable_4/Adam_1/_113, Variable_5/_115, Variable_5/Adam/_117, Variable_5/Adam_1/_119, Variable_6/_121, Variable_6/Adam/_123, Variable_6/Adam_1/_125, Variable_7/_127, Variable_7/Adam/_129, Variable_7/Adam_1/_131, Variable_8/_133, Variable_8/Adam/_135, Variable_8/Adam_1/_137, Variable_9/_139, Variable_9/Adam/_141, Variable_9/Adam_1/_143, beta1_power/_145, beta2_power/_147)]]\n\nCaused by op 'save/SaveV2', defined at:\n  File \"/home/carnd/anaconda3/envs/dl/lib/python3.5/runpy.py\", line 184, in _run_module_as_main\n    \"__main__\", mod_spec)\n  File \"/home/carnd/anaconda3/envs/dl/lib/python3.5/runpy.py\", line 85, in _run_code\n    exec(code, run_globals)\n  File \"/home/carnd/anaconda3/envs/dl/lib/python3.5/site-packages/ipykernel/__main__.py\", line 3, in <module>\n    app.launch_new_instance()\n  File \"/home/carnd/anaconda3/envs/dl/lib/python3.5/site-packages/traitlets/config/application.py\", line 658, in launch_instance\n    app.start()\n  File \"/home/carnd/anaconda3/envs/dl/lib/python3.5/site-packages/ipykernel/kernelapp.py\", line 474, in start\n    ioloop.IOLoop.instance().start()\n  File \"/home/carnd/anaconda3/envs/dl/lib/python3.5/site-packages/zmq/eventloop/ioloop.py\", line 177, in start\n    super(ZMQIOLoop, self).start()\n  File \"/home/carnd/anaconda3/envs/dl/lib/python3.5/site-packages/tornado/ioloop.py\", line 887, in start\n    handler_func(fd_obj, events)\n  File \"/home/carnd/anaconda3/envs/dl/lib/python3.5/site-packages/tornado/stack_context.py\", line 275, in null_wrapper\n    return fn(*args, **kwargs)\n  File \"/home/carnd/anaconda3/envs/dl/lib/python3.5/site-packages/zmq/eventloop/zmqstream.py\", line 440, in _handle_events\n    self._handle_recv()\n  File \"/home/carnd/anaconda3/envs/dl/lib/python3.5/site-packages/zmq/eventloop/zmqstream.py\", line 472, in _handle_recv\n    self._run_callback(callback, msg)\n  File \"/home/carnd/anaconda3/envs/dl/lib/python3.5/site-packages/zmq/eventloop/zmqstream.py\", line 414, in _run_callback\n    callback(*args, **kwargs)\n  File \"/home/carnd/anaconda3/envs/dl/lib/python3.5/site-packages/tornado/stack_context.py\", line 275, in null_wrapper\n    return fn(*args, **kwargs)\n  File \"/home/carnd/anaconda3/envs/dl/lib/python3.5/site-packages/ipykernel/kernelbase.py\", line 276, in dispatcher\n    return self.dispatch_shell(stream, msg)\n  File \"/home/carnd/anaconda3/envs/dl/lib/python3.5/site-packages/ipykernel/kernelbase.py\", line 228, in dispatch_shell\n    handler(stream, idents, msg)\n  File \"/home/carnd/anaconda3/envs/dl/lib/python3.5/site-packages/ipykernel/kernelbase.py\", line 390, in execute_request\n    user_expressions, allow_stdin)\n  File \"/home/carnd/anaconda3/envs/dl/lib/python3.5/site-packages/ipykernel/ipkernel.py\", line 196, in do_execute\n    res = shell.run_cell(code, store_history=store_history, silent=silent)\n  File \"/home/carnd/anaconda3/envs/dl/lib/python3.5/site-packages/ipykernel/zmqshell.py\", line 501, in run_cell\n    return super(ZMQInteractiveShell, self).run_cell(*args, **kwargs)\n  File \"/home/carnd/anaconda3/envs/dl/lib/python3.5/site-packages/IPython/core/interactiveshell.py\", line 2717, in run_cell\n    interactivity=interactivity, compiler=compiler, result=result)\n  File \"/home/carnd/anaconda3/envs/dl/lib/python3.5/site-packages/IPython/core/interactiveshell.py\", line 2821, in run_ast_nodes\n    if self.run_code(code, result):\n  File \"/home/carnd/anaconda3/envs/dl/lib/python3.5/site-packages/IPython/core/interactiveshell.py\", line 2881, in run_code\n    exec(code_obj, self.user_global_ns, self.user_ns)\n  File \"<ipython-input-21-9df3032ebe9d>\", line 22, in <module>\n    saver = tf.train.Saver()\n  File \"/home/carnd/anaconda3/envs/dl/lib/python3.5/site-packages/tensorflow/python/training/saver.py\", line 1051, in __init__\n    self.build()\n  File \"/home/carnd/anaconda3/envs/dl/lib/python3.5/site-packages/tensorflow/python/training/saver.py\", line 1081, in build\n    restore_sequentially=self._restore_sequentially)\n  File \"/home/carnd/anaconda3/envs/dl/lib/python3.5/site-packages/tensorflow/python/training/saver.py\", line 673, in build\n    save_tensor = self._AddSaveOps(filename_tensor, saveables)\n  File \"/home/carnd/anaconda3/envs/dl/lib/python3.5/site-packages/tensorflow/python/training/saver.py\", line 271, in _AddSaveOps\n    save = self.save_op(filename_tensor, saveables)\n  File \"/home/carnd/anaconda3/envs/dl/lib/python3.5/site-packages/tensorflow/python/training/saver.py\", line 214, in save_op\n    tensors)\n  File \"/home/carnd/anaconda3/envs/dl/lib/python3.5/site-packages/tensorflow/python/ops/gen_io_ops.py\", line 779, in save_v2\n    tensors=tensors, name=name)\n  File \"/home/carnd/anaconda3/envs/dl/lib/python3.5/site-packages/tensorflow/python/framework/op_def_library.py\", line 763, in apply_op\n    op_def=op_def)\n  File \"/home/carnd/anaconda3/envs/dl/lib/python3.5/site-packages/tensorflow/python/framework/ops.py\", line 2395, in create_op\n    original_op=self._default_original_op, op_def=op_def)\n  File \"/home/carnd/anaconda3/envs/dl/lib/python3.5/site-packages/tensorflow/python/framework/ops.py\", line 1264, in __init__\n    self._traceback = _extract_stack()\n\nResourceExhaustedError (see above for traceback): image_classification.data-00000-of-00001.tempstate17147502780344711309\n\t [[Node: save/SaveV2 = SaveV2[dtypes=[DT_FLOAT, DT_FLOAT, DT_FLOAT, DT_FLOAT, DT_FLOAT, DT_FLOAT, DT_FLOAT, DT_FLOAT, DT_FLOAT, DT_FLOAT, DT_FLOAT, DT_FLOAT, DT_FLOAT, DT_FLOAT, DT_FLOAT, DT_FLOAT, DT_FLOAT, DT_FLOAT, DT_FLOAT, DT_FLOAT, DT_FLOAT, DT_FLOAT, DT_FLOAT, DT_FLOAT, DT_FLOAT, DT_FLOAT, DT_FLOAT, DT_FLOAT, DT_FLOAT, DT_FLOAT, DT_FLOAT, DT_FLOAT, DT_FLOAT, DT_FLOAT, DT_FLOAT, DT_FLOAT, DT_FLOAT, DT_FLOAT, DT_FLOAT, DT_FLOAT, DT_FLOAT, DT_FLOAT, DT_FLOAT, DT_FLOAT, DT_FLOAT, DT_FLOAT, DT_FLOAT, DT_FLOAT, DT_FLOAT, DT_FLOAT, DT_FLOAT, DT_FLOAT, DT_FLOAT, DT_FLOAT, DT_FLOAT, DT_FLOAT, DT_FLOAT, DT_FLOAT], _device=\"/job:localhost/replica:0/task:0/cpu:0\"](_recv_save/Const_0, save/SaveV2/tensor_names, save/SaveV2/shape_and_slices, Variable/_33, Variable/Adam/_35, Variable/Adam_1/_37, Variable_1/_39, Variable_1/Adam/_41, Variable_1/Adam_1/_43, Variable_10/_45, Variable_10/Adam/_47, Variable_10/Adam_1/_49, Variable_11/_51, Variable_11/Adam/_53, Variable_11/Adam_1/_55, Variable_12/_57, Variable_12/Adam/_59, Variable_12/Adam_1/_61, Variable_13/_63, Variable_13/Adam/_65, Variable_13/Adam_1/_67, Variable_14/_69, Variable_15/_71, Variable_16/_73, Variable_17/_75, Variable_18/_77, Variable_19/_79, Variable_2/_81, Variable_2/Adam/_83, Variable_2/Adam_1/_85, Variable_20/_87, Variable_21/_89, Variable_22/_91, Variable_23/_93, Variable_24/_95, Variable_25/_97, Variable_26/_99, Variable_27/_101, Variable_3/_103, Variable_3/Adam/_105, Variable_3/Adam_1/_107, Variable_4/_109, Variable_4/Adam/_111, Variable_4/Adam_1/_113, Variable_5/_115, Variable_5/Adam/_117, Variable_5/Adam_1/_119, Variable_6/_121, Variable_6/Adam/_123, Variable_6/Adam_1/_125, Variable_7/_127, Variable_7/Adam/_129, Variable_7/Adam_1/_131, Variable_8/_133, Variable_8/Adam/_135, Variable_8/Adam_1/_137, Variable_9/_139, Variable_9/Adam/_141, Variable_9/Adam_1/_143, beta1_power/_145, beta2_power/_147)]]\n"
     ]
    }
   ],
   "source": [
    "\"\"\"\n",
    "DON'T MODIFY ANYTHING IN THIS CELL\n",
    "\"\"\"\n",
    "save_model_path = './image_classification'\n",
    "\n",
    "print('Training...')\n",
    "with tf.Session() as sess:\n",
    "    # Initializing the variables\n",
    "    sess.run(tf.global_variables_initializer())\n",
    "    \n",
    "    # Training cycle\n",
    "    for epoch in range(epochs):\n",
    "        # Loop over all batches\n",
    "        n_batches = 5\n",
    "        for batch_i in range(1, n_batches + 1):\n",
    "            for batch_features, batch_labels in helper.load_preprocess_training_batch(batch_i, batch_size):\n",
    "                train_neural_network(sess, optimizer, keep_probability, batch_features, batch_labels)\n",
    "            print('Epoch {:>2}, CIFAR-10 Batch {}:  '.format(epoch + 1, batch_i), end='')\n",
    "            print_stats(sess, batch_features, batch_labels, cost, accuracy)\n",
    "            \n",
    "    # Save Model\n",
    "    saver = tf.train.Saver()\n",
    "    save_path = saver.save(sess, save_model_path)"
   ]
  },
  {
   "cell_type": "code",
   "execution_count": null,
   "metadata": {
    "collapsed": true
   },
   "outputs": [],
   "source": []
  },
  {
   "cell_type": "markdown",
   "metadata": {
    "deletable": true,
    "editable": true
   },
   "source": [
    "# Checkpoint\n",
    "The model has been saved to disk.\n",
    "## Test Model\n",
    "Test your model against the test dataset.  This will be your final accuracy. You should have an accuracy greater than 50%. If you don't, keep tweaking the model architecture and parameters."
   ]
  },
  {
   "cell_type": "code",
   "execution_count": null,
   "metadata": {
    "collapsed": false,
    "deletable": true,
    "editable": true
   },
   "outputs": [],
   "source": [
    "\"\"\"\n",
    "DON'T MODIFY ANYTHING IN THIS CELL\n",
    "\"\"\"\n",
    "%matplotlib inline\n",
    "%config InlineBackend.figure_format = 'retina'\n",
    "\n",
    "import tensorflow as tf\n",
    "import pickle\n",
    "import helper\n",
    "import random\n",
    "\n",
    "# Set batch size if not already set\n",
    "try:\n",
    "    if batch_size:\n",
    "        pass\n",
    "except NameError:\n",
    "    batch_size = 64\n",
    "\n",
    "save_model_path = './image_classification'\n",
    "n_samples = 4\n",
    "top_n_predictions = 3\n",
    "\n",
    "def test_model():\n",
    "    \"\"\"\n",
    "    Test the saved model against the test dataset\n",
    "    \"\"\"\n",
    "\n",
    "    test_features, test_labels = pickle.load(open('preprocess_training.p', mode='rb'))\n",
    "    loaded_graph = tf.Graph()\n",
    "\n",
    "    with tf.Session(graph=loaded_graph) as sess:\n",
    "        # Load model\n",
    "        loader = tf.train.import_meta_graph(save_model_path + '.meta')\n",
    "        loader.restore(sess, save_model_path)\n",
    "\n",
    "        # Get Tensors from loaded model\n",
    "        loaded_x = loaded_graph.get_tensor_by_name('x:0')\n",
    "        loaded_y = loaded_graph.get_tensor_by_name('y:0')\n",
    "        loaded_keep_prob = loaded_graph.get_tensor_by_name('keep_prob:0')\n",
    "        loaded_logits = loaded_graph.get_tensor_by_name('logits:0')\n",
    "        loaded_acc = loaded_graph.get_tensor_by_name('accuracy:0')\n",
    "        \n",
    "        # Get accuracy in batches for memory limitations\n",
    "        test_batch_acc_total = 0\n",
    "        test_batch_count = 0\n",
    "        \n",
    "        for train_feature_batch, train_label_batch in helper.batch_features_labels(test_features, test_labels, batch_size):\n",
    "            test_batch_acc_total += sess.run(\n",
    "                loaded_acc,\n",
    "                feed_dict={loaded_x: train_feature_batch, loaded_y: train_label_batch, loaded_keep_prob: 1.0})\n",
    "            test_batch_count += 1\n",
    "\n",
    "        print('Testing Accuracy: {}\\n'.format(test_batch_acc_total/test_batch_count))\n",
    "\n",
    "        # Print Random Samples\n",
    "        random_test_features, random_test_labels = tuple(zip(*random.sample(list(zip(test_features, test_labels)), n_samples)))\n",
    "        random_test_predictions = sess.run(\n",
    "            tf.nn.top_k(tf.nn.softmax(loaded_logits), top_n_predictions),\n",
    "            feed_dict={loaded_x: random_test_features, loaded_y: random_test_labels, loaded_keep_prob: 1.0})\n",
    "        helper.display_image_predictions(random_test_features, random_test_labels, random_test_predictions)\n",
    "\n",
    "\n",
    "test_model()"
   ]
  },
  {
   "cell_type": "markdown",
   "metadata": {
    "deletable": true,
    "editable": true
   },
   "source": [
    "## Why 50-70% Accuracy?\n",
    "You might be wondering why you can't get an accuracy any higher. First things first, 50% isn't bad for a simple CNN.  Pure guessing would get you 10% accuracy. However, you might notice people are getting scores [well above 70%](http://rodrigob.github.io/are_we_there_yet/build/classification_datasets_results.html#43494641522d3130).  That's because we haven't taught you all there is to know about neural networks. We still need to cover a few more techniques.\n",
    "## Submitting This Project\n",
    "When submitting this project, make sure to run all the cells before saving the notebook.  Save the notebook file as \"dlnd_image_classification.ipynb\" and save it as a HTML file under \"File\" -> \"Download as\".  Include the \"helper.py\" and \"problem_unittests.py\" files in your submission."
   ]
  }
 ],
 "metadata": {
  "kernelspec": {
   "display_name": "Python [conda env:dl]",
   "language": "python",
   "name": "conda-env-dl-py"
  },
  "language_info": {
   "codemirror_mode": {
    "name": "ipython",
    "version": 3
   },
   "file_extension": ".py",
   "mimetype": "text/x-python",
   "name": "python",
   "nbconvert_exporter": "python",
   "pygments_lexer": "ipython3",
   "version": "3.5.2"
  },
  "widgets": {
   "state": {},
   "version": "1.1.2"
  }
 },
 "nbformat": 4,
 "nbformat_minor": 0
}
