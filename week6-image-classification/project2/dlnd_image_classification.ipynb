{
 "cells": [
  {
   "cell_type": "markdown",
   "metadata": {
    "collapsed": true,
    "deletable": true,
    "editable": true
   },
   "source": [
    "# Image Classification\n",
    "In this project, you'll classify images from the [CIFAR-10 dataset](https://www.cs.toronto.edu/~kriz/cifar.html).  The dataset consists of airplanes, dogs, cats, and other objects. You'll preprocess the images, then train a convolutional neural network on all the samples. The images need to be normalized and the labels need to be one-hot encoded.  You'll get to apply what you learned and build a convolutional, max pooling, dropout, and fully connected layers.  At the end, you'll get to see your neural network's predictions on the sample images.\n",
    "## Get the Data\n",
    "Run the following cell to download the [CIFAR-10 dataset for python](https://www.cs.toronto.edu/~kriz/cifar-10-python.tar.gz)."
   ]
  },
  {
   "cell_type": "code",
   "execution_count": null,
   "metadata": {
    "collapsed": false,
    "deletable": true,
    "editable": true
   },
   "outputs": [],
   "source": [
    "\"\"\"\n",
    "DON'T MODIFY ANYTHING IN THIS CELL THAT IS BELOW THIS LINE\n",
    "\"\"\"\n",
    "from urllib.request import urlretrieve\n",
    "from os.path import isfile, isdir\n",
    "from tqdm import tqdm\n",
    "import problem_unittests as tests\n",
    "import tarfile\n",
    "\n",
    "cifar10_dataset_folder_path = 'cifar-10-batches-py'\n",
    "\n",
    "class DLProgress(tqdm):\n",
    "    last_block = 0\n",
    "\n",
    "    def hook(self, block_num=1, block_size=1, total_size=None):\n",
    "        self.total = total_size\n",
    "        self.update((block_num - self.last_block) * block_size)\n",
    "        self.last_block = block_num\n",
    "\n",
    "if not isfile('cifar-10-python.tar.gz'):\n",
    "    with DLProgress(unit='B', unit_scale=True, miniters=1, desc='CIFAR-10 Dataset') as pbar:\n",
    "        urlretrieve(\n",
    "            'https://www.cs.toronto.edu/~kriz/cifar-10-python.tar.gz',\n",
    "            'cifar-10-python.tar.gz',\n",
    "            pbar.hook)\n",
    "\n",
    "if not isdir(cifar10_dataset_folder_path):\n",
    "    with tarfile.open('cifar-10-python.tar.gz') as tar:\n",
    "        tar.extractall()\n",
    "        tar.close()\n",
    "\n",
    "\n",
    "tests.test_folder_path(cifar10_dataset_folder_path)"
   ]
  },
  {
   "cell_type": "markdown",
   "metadata": {
    "deletable": true,
    "editable": true
   },
   "source": [
    "## Explore the Data\n",
    "The dataset is broken into batches to prevent your machine from running out of memory.  The CIFAR-10 dataset consists of 5 batches, named `data_batch_1`, `data_batch_2`, etc.. Each batch contains the labels and images that are one of the following:\n",
    "* airplane\n",
    "* automobile\n",
    "* bird\n",
    "* cat\n",
    "* deer\n",
    "* dog\n",
    "* frog\n",
    "* horse\n",
    "* ship\n",
    "* truck\n",
    "\n",
    "Understanding a dataset is part of making predictions on the data.  Play around with the code cell below by changing the `batch_id` and `sample_id`. The `batch_id` is the id for a batch (1-5). The `sample_id` is the id for a image and label pair in the batch.\n",
    "\n",
    "Ask yourself \"What are all possible labels?\", \"What is the range of values for the image data?\", \"Are the labels in order or random?\".  Answers to questions like these will help you preprocess the data and end up with better predictions."
   ]
  },
  {
   "cell_type": "code",
   "execution_count": null,
   "metadata": {
    "collapsed": false,
    "deletable": true,
    "editable": true
   },
   "outputs": [],
   "source": [
    "%matplotlib inline\n",
    "%config InlineBackend.figure_format = 'retina'\n",
    "\n",
    "import helper\n",
    "import numpy as np\n",
    "\n",
    "# Explore the dataset\n",
    "batch_id = 1\n",
    "sample_id = 5\n",
    "helper.display_stats(cifar10_dataset_folder_path, batch_id, sample_id)"
   ]
  },
  {
   "cell_type": "code",
   "execution_count": null,
   "metadata": {
    "collapsed": false,
    "deletable": true,
    "editable": true
   },
   "outputs": [],
   "source": [
    "batch_id = 2\n",
    "sample_id = 7\n",
    "helper.display_stats(cifar10_dataset_folder_path, batch_id, sample_id)"
   ]
  },
  {
   "cell_type": "code",
   "execution_count": null,
   "metadata": {
    "collapsed": false,
    "deletable": true,
    "editable": true
   },
   "outputs": [],
   "source": [
    "batch_id = 3\n",
    "sample_id = 9\n",
    "helper.display_stats(cifar10_dataset_folder_path, batch_id, sample_id)"
   ]
  },
  {
   "cell_type": "code",
   "execution_count": null,
   "metadata": {
    "collapsed": false,
    "deletable": true,
    "editable": true
   },
   "outputs": [],
   "source": [
    "batch_id = 4\n",
    "sample_id = 1456\n",
    "helper.display_stats(cifar10_dataset_folder_path, batch_id, sample_id)"
   ]
  },
  {
   "cell_type": "code",
   "execution_count": null,
   "metadata": {
    "collapsed": false,
    "deletable": true,
    "editable": true
   },
   "outputs": [],
   "source": [
    "batch_id = 5\n",
    "sample_id = 9999\n",
    "helper.display_stats(cifar10_dataset_folder_path, batch_id, sample_id)"
   ]
  },
  {
   "cell_type": "markdown",
   "metadata": {
    "deletable": true,
    "editable": true
   },
   "source": [
    "### What are all possible labels?"
   ]
  },
  {
   "cell_type": "code",
   "execution_count": null,
   "metadata": {
    "collapsed": false,
    "deletable": true,
    "editable": true
   },
   "outputs": [],
   "source": [
    "for label, name in enumerate(helper._load_label_names()):\n",
    "    print(name, ': ', label)\n",
    "    \n",
    "num_labels = len(helper._load_label_names())"
   ]
  },
  {
   "cell_type": "markdown",
   "metadata": {
    "deletable": true,
    "editable": true
   },
   "source": [
    "### Are the labels in order or random?\n",
    "\n",
    "Based on the cells above that display the output of ```helper.display_stats```, I'd say that the labels appear to be randomly distributed throughout the batches. There are approximately 1000 images of each label in each batch."
   ]
  },
  {
   "cell_type": "markdown",
   "metadata": {
    "deletable": true,
    "editable": true
   },
   "source": [
    "### What is the range of values for the image data?\n",
    "\n",
    "Each image is sized (32 x 32 x 3). Each element (out of 3,072) in the 3-d array representation of the image takes a value on $[0,255]$. The third image dimension is for the color channel (R, G, or B), so each element tells us how much red, green, or blue (dependinging on which matrix slice we're working with) is present in that pixel."
   ]
  },
  {
   "cell_type": "markdown",
   "metadata": {
    "deletable": true,
    "editable": true
   },
   "source": [
    "## Implement Preprocess Functions\n",
    "### Normalize\n",
    "In the cell below, implement the `normalize` function to take in image data, `x`, and return it as a normalized Numpy array. The values should be in the range of 0 to 1, inclusive.  The return object should be the same shape as `x`."
   ]
  },
  {
   "cell_type": "code",
   "execution_count": 22,
   "metadata": {
    "collapsed": false,
    "deletable": true,
    "editable": true
   },
   "outputs": [
    {
     "name": "stdout",
     "output_type": "stream",
     "text": [
      "Tests Passed\n"
     ]
    }
   ],
   "source": [
    "def normalize(x):\n",
    "    \"\"\"\n",
    "    Normalize a list of sample image data in the range of 0 to 1\n",
    "    : x: List of image data.  The image shape is (32, 32, 3)\n",
    "    : return: Numpy array of normalize data\n",
    "    \"\"\"\n",
    "    # TODO: Implement Function\n",
    "    return x/255\n",
    "\n",
    "\n",
    "\"\"\"\n",
    "DON'T MODIFY ANYTHING IN THIS CELL THAT IS BELOW THIS LINE\n",
    "\"\"\"\n",
    "tests.test_normalize(normalize)"
   ]
  },
  {
   "cell_type": "code",
   "execution_count": 26,
   "metadata": {
    "collapsed": false
   },
   "outputs": [
    {
     "name": "stdout",
     "output_type": "stream",
     "text": [
      "[116 233 159]\n",
      "[ 0.45490196  0.91372549  0.62352941]\n"
     ]
    },
    {
     "data": {
      "text/plain": [
       "1.0"
      ]
     },
     "execution_count": 26,
     "metadata": {},
     "output_type": "execute_result"
    }
   ],
   "source": [
    "import numpy as np\n",
    "import random\n",
    "\n",
    "# check that normalize is implemented correctly\n",
    "x = np.random.randint(0, 255 + 1, (32, 32, 3))\n",
    "print(x[0][0])\n",
    "\n",
    "x_normed = normalize(x)\n",
    "print(x_normed[0][0])\n",
    "np.max(x_normed)"
   ]
  },
  {
   "cell_type": "markdown",
   "metadata": {
    "deletable": true,
    "editable": true
   },
   "source": [
    "### One-hot encode\n",
    "Just like the previous code cell, you'll be implementing a function for preprocessing.  This time, you'll implement the `one_hot_encode` function. The input, `x`, are a list of labels.  Implement the function to return the list of labels as One-Hot encoded Numpy array.  The possible values for labels are 0 to 9. The one-hot encoding function should return the same encoding for each value between each call to `one_hot_encode`.  Make sure to save the map of encodings outside the function.\n",
    "\n",
    "Hint: Don't reinvent the wheel."
   ]
  },
  {
   "cell_type": "code",
   "execution_count": null,
   "metadata": {
    "collapsed": false,
    "deletable": true,
    "editable": true
   },
   "outputs": [],
   "source": [
    "from sklearn.preprocessing import LabelBinarizer\n",
    "\n",
    "label_encoder = None\n",
    "\n",
    "def one_hot_encode(x):\n",
    "    \"\"\"\n",
    "    One hot encode a list of sample labels. Return a one-hot encoded vector for each label.\n",
    "    : x: List of sample Labels\n",
    "    : return: Numpy array of one-hot encoded labels\n",
    "    \"\"\"\n",
    "    # TODO: Implement Function\n",
    "    global label_encoder\n",
    "    \n",
    "    if label_encoder == None:\n",
    "        encoder = LabelBinarizer()\n",
    "        encoder.fit(x)\n",
    "        label_encoder = encoder\n",
    "\n",
    "    return label_encoder.transform(x)\n",
    "\n",
    "\"\"\"\n",
    "DON'T MODIFY ANYTHING IN THIS CELL THAT IS BELOW THIS LINE\n",
    "\"\"\"\n",
    "tests.test_one_hot_encode(one_hot_encode)"
   ]
  },
  {
   "cell_type": "markdown",
   "metadata": {
    "deletable": true,
    "editable": true
   },
   "source": [
    "### Randomize Data\n",
    "As you saw from exploring the data above, the order of the samples are randomized.  It doesn't hurt to randomize it again, but you don't need to for this dataset."
   ]
  },
  {
   "cell_type": "markdown",
   "metadata": {
    "deletable": true,
    "editable": true
   },
   "source": [
    "## Preprocess all the data and save it\n",
    "Running the code cell below will preprocess all the CIFAR-10 data and save it to file. The code below also uses 10% of the training data for validation."
   ]
  },
  {
   "cell_type": "code",
   "execution_count": null,
   "metadata": {
    "collapsed": false,
    "deletable": true,
    "editable": true
   },
   "outputs": [],
   "source": [
    "\"\"\"\n",
    "DON'T MODIFY ANYTHING IN THIS CELL\n",
    "\"\"\"\n",
    "# Preprocess Training, Validation, and Testing Data\n",
    "helper.preprocess_and_save_data(cifar10_dataset_folder_path, normalize, one_hot_encode)"
   ]
  },
  {
   "cell_type": "markdown",
   "metadata": {
    "deletable": true,
    "editable": true
   },
   "source": [
    "# Check Point\n",
    "This is your first checkpoint.  If you ever decide to come back to this notebook or have to restart the notebook, you can start from here.  The preprocessed data has been saved to disk."
   ]
  },
  {
   "cell_type": "code",
   "execution_count": 1,
   "metadata": {
    "collapsed": false,
    "deletable": true,
    "editable": true
   },
   "outputs": [],
   "source": [
    "\"\"\"\n",
    "DON'T MODIFY ANYTHING IN THIS CELL\n",
    "\"\"\"\n",
    "import pickle\n",
    "import problem_unittests as tests\n",
    "import helper\n",
    "\n",
    "# Load the Preprocessed Validation data\n",
    "valid_features, valid_labels = pickle.load(open('preprocess_validation.p', mode='rb'))"
   ]
  },
  {
   "cell_type": "code",
   "execution_count": 2,
   "metadata": {
    "collapsed": true,
    "deletable": true,
    "editable": true
   },
   "outputs": [],
   "source": [
    "num_labels = len(helper._load_label_names())"
   ]
  },
  {
   "cell_type": "markdown",
   "metadata": {
    "deletable": true,
    "editable": true
   },
   "source": [
    "## Build the network\n",
    "For the neural network, you'll build each layer into a function.  Most of the code you've seen has been outside of functions. To test your code more thoroughly, we require that you put each layer in a function.  This allows us to give you better feedback and test for simple mistakes using our unittests before you submit your project.\n",
    "\n",
    ">**Note:** If you're finding it hard to dedicate enough time for this course each week, we've provided a small shortcut to this part of the project. In the next couple of problems, you'll have the option to use classes from the [TensorFlow Layers](https://www.tensorflow.org/api_docs/python/tf/layers) or [TensorFlow Layers (contrib)](https://www.tensorflow.org/api_guides/python/contrib.layers) packages to build each layer, except the layers you build in the \"Convolutional and Max Pooling Layer\" section.  TF Layers is similar to Keras's and TFLearn's abstraction to layers, so it's easy to pickup.\n",
    "\n",
    ">However, if you would like to get the most out of this course, try to solve all the problems _without_ using anything from the TF Layers packages. You **can** still use classes from other packages that happen to have the same name as ones you find in TF Layers! For example, instead of using the TF Layers version of the `conv2d` class, [tf.layers.conv2d](https://www.tensorflow.org/api_docs/python/tf/layers/conv2d), you would want to use the TF Neural Network version of `conv2d`, [tf.nn.conv2d](https://www.tensorflow.org/api_docs/python/tf/nn/conv2d). \n",
    "\n",
    "Let's begin!\n",
    "\n",
    "### Input\n",
    "The neural network needs to read the image data, one-hot encoded labels, and dropout keep probability. Implement the following functions\n",
    "* Implement `neural_net_image_input`\n",
    " * Return a [TF Placeholder](https://www.tensorflow.org/api_docs/python/tf/placeholder)\n",
    " * Set the shape using `image_shape` with batch size set to `None`.\n",
    " * Name the TensorFlow placeholder \"x\" using the TensorFlow `name` parameter in the [TF Placeholder](https://www.tensorflow.org/api_docs/python/tf/placeholder).\n",
    "* Implement `neural_net_label_input`\n",
    " * Return a [TF Placeholder](https://www.tensorflow.org/api_docs/python/tf/placeholder)\n",
    " * Set the shape using `n_classes` with batch size set to `None`.\n",
    " * Name the TensorFlow placeholder \"y\" using the TensorFlow `name` parameter in the [TF Placeholder](https://www.tensorflow.org/api_docs/python/tf/placeholder).\n",
    "* Implement `neural_net_keep_prob_input`\n",
    " * Return a [TF Placeholder](https://www.tensorflow.org/api_docs/python/tf/placeholder) for dropout keep probability.\n",
    " * Name the TensorFlow placeholder \"keep_prob\" using the TensorFlow `name` parameter in the [TF Placeholder](https://www.tensorflow.org/api_docs/python/tf/placeholder).\n",
    "\n",
    "These names will be used at the end of the project to load your saved model.\n",
    "\n",
    "Note: `None` for shapes in TensorFlow allow for a dynamic size."
   ]
  },
  {
   "cell_type": "code",
   "execution_count": 3,
   "metadata": {
    "collapsed": false,
    "deletable": true,
    "editable": true
   },
   "outputs": [
    {
     "name": "stdout",
     "output_type": "stream",
     "text": [
      "Image Input Tests Passed.\n",
      "Label Input Tests Passed.\n",
      "Keep Prob Tests Passed.\n"
     ]
    }
   ],
   "source": [
    "import tensorflow as tf\n",
    "\n",
    "def neural_net_image_input(image_shape):\n",
    "    \"\"\"\n",
    "    Return a Tensor for a bach of image input\n",
    "    : image_shape: Shape of the images, 3D Tuple\n",
    "    : return: Tensor for image input.\n",
    "    \"\"\"\n",
    "    # TODO: Implement Function\n",
    "    shape = [None]\n",
    "    shape.extend(image_shape)\n",
    "    \n",
    "    x = tf.placeholder(tf.float32, shape=shape, name='x')\n",
    "    return x\n",
    "\n",
    "\n",
    "def neural_net_label_input(n_classes):\n",
    "    \"\"\"\n",
    "    Return a Tensor for a batch of label input\n",
    "    : n_classes: Number of classes\n",
    "    : return: Tensor for label input.\n",
    "    \"\"\"\n",
    "    # TODO: Implement Function\n",
    "    y = tf.placeholder(tf.float32, shape=[None, n_classes], name='y')\n",
    "    return y\n",
    "\n",
    "\n",
    "def neural_net_keep_prob_input():\n",
    "    \"\"\"\n",
    "    Return a Tensor for keep probability\n",
    "    : return: Tensor for keep probability.\n",
    "    \"\"\"\n",
    "    # TODO: Implement Function\n",
    "    return tf.placeholder(tf.float32, name='keep_prob')\n",
    "\n",
    "\n",
    "\"\"\"\n",
    "DON'T MODIFY ANYTHING IN THIS CELL THAT IS BELOW THIS LINE\n",
    "\"\"\"\n",
    "tf.reset_default_graph()\n",
    "tests.test_nn_image_inputs(neural_net_image_input)\n",
    "tests.test_nn_label_inputs(neural_net_label_input)\n",
    "tests.test_nn_keep_prob_inputs(neural_net_keep_prob_input)"
   ]
  },
  {
   "cell_type": "markdown",
   "metadata": {
    "deletable": true,
    "editable": true
   },
   "source": [
    "### Convolution and Max Pooling Layer\n",
    "Convolution layers have a lot of success with images. For this code cell, you should implement the function `conv2d_maxpool` to apply convolution then max pooling:\n",
    "* Create the weight and bias using `conv_ksize`, `conv_num_outputs` and the shape of `x_tensor`.\n",
    "* Apply a convolution to `x_tensor` using weight and `conv_strides`.\n",
    " * We recommend you use same padding, but you're welcome to use any padding.\n",
    "* Add bias\n",
    "* Add a nonlinear activation to the convolution.\n",
    "* Apply Max Pooling using `pool_ksize` and `pool_strides`.\n",
    " * We recommend you use same padding, but you're welcome to use any padding.\n",
    "\n",
    "**Note:** You **can't** use [TensorFlow Layers](https://www.tensorflow.org/api_docs/python/tf/layers) or [TensorFlow Layers (contrib)](https://www.tensorflow.org/api_guides/python/contrib.layers) for **this** layer, but you can still use TensorFlow's [Neural Network](https://www.tensorflow.org/api_docs/python/tf/nn) package. You may still use the shortcut option for all the **other** layers."
   ]
  },
  {
   "cell_type": "code",
   "execution_count": 34,
   "metadata": {
    "collapsed": false,
    "deletable": true,
    "editable": true
   },
   "outputs": [
    {
     "name": "stdout",
     "output_type": "stream",
     "text": [
      "Tests Passed\n"
     ]
    }
   ],
   "source": [
    "def conv2d_maxpool(x_tensor, conv_num_outputs, conv_ksize, conv_strides, pool_ksize, pool_strides):\n",
    "    \"\"\"\n",
    "    Apply convolution then max pooling to x_tensor\n",
    "    :param x_tensor: TensorFlow Tensor\n",
    "    :param conv_num_outputs: Number of outputs for the convolutional layer\n",
    "    :param conv_ksize: kernel size 2-D Tuple for the convolutional layer\n",
    "    :param conv_strides: Stride 2-D Tuple for convolution\n",
    "    :param pool_ksize: kernel size 2-D Tuple for pool\n",
    "    :param pool_strides: Stride 2-D Tuple for pool\n",
    "    : return: A tensor that represents convolution and max pooling of x_tensor\n",
    "    \"\"\"\n",
    "    # TODO: Implement Function\n",
    "\n",
    "    # The naming of input parameters does NOT track with the names we've seen in \n",
    "    # the class so far. Slightly confusing\n",
    "    \n",
    "    # input dimensions\n",
    "    input_shape = x_tensor.get_shape().as_list() # as_list() was important\n",
    "    depth = input_shape[3] # color channels\n",
    "    \n",
    "    # filter hyperparameters\n",
    "    num_filters = conv_num_outputs\n",
    "    f_width = conv_ksize[0]\n",
    "    f_height = conv_ksize[1]\n",
    "    # filter depth = number of color channels\n",
    "\n",
    "    weights = tf.Variable(tf.truncated_normal([f_width, f_height, depth, num_filters], stddev=0.1))\n",
    "    bias = tf.Variable(tf.zeros([num_filters]))\n",
    "    \n",
    "    stride = [1, conv_strides[0], conv_strides[1], 1]\n",
    "    \n",
    "    conv = tf.nn.conv2d(x_tensor, weights, strides=stride, padding='SAME')\n",
    "    conv = tf.nn.bias_add(conv, bias)\n",
    "    conv = tf.nn.relu(conv)\n",
    "    \n",
    "    conv = tf.nn.max_pool(\n",
    "        conv,\n",
    "        ksize=[1, pool_ksize[0], pool_ksize[1], 1],\n",
    "        strides=[1, pool_strides[0], pool_strides[1], 1],\n",
    "        padding='SAME')\n",
    "    return conv\n",
    "\n",
    "\n",
    "\"\"\"\n",
    "DON'T MODIFY ANYTHING IN THIS CELL THAT IS BELOW THIS LINE\n",
    "\"\"\"\n",
    "tests.test_con_pool(conv2d_maxpool)"
   ]
  },
  {
   "cell_type": "markdown",
   "metadata": {
    "deletable": true,
    "editable": true
   },
   "source": [
    "### Flatten Layer\n",
    "Implement the `flatten` function to change the dimension of `x_tensor` from a 4-D tensor to a 2-D tensor.  The output should be the shape (*Batch Size*, *Flattened Image Size*). Shortcut option: you can use classes from the [TensorFlow Layers](https://www.tensorflow.org/api_docs/python/tf/layers) or [TensorFlow Layers (contrib)](https://www.tensorflow.org/api_guides/python/contrib.layers) packages for this layer. For more of a challenge, only use other TensorFlow packages."
   ]
  },
  {
   "cell_type": "code",
   "execution_count": 5,
   "metadata": {
    "collapsed": false,
    "deletable": true,
    "editable": true
   },
   "outputs": [
    {
     "name": "stdout",
     "output_type": "stream",
     "text": [
      "Tests Passed\n"
     ]
    }
   ],
   "source": [
    "def flatten(x_tensor):\n",
    "    \"\"\"\n",
    "    Flatten x_tensor to (Batch Size, Flattened Image Size)\n",
    "    : x_tensor: A tensor of size (Batch Size, ...), where ... are the image dimensions.\n",
    "    : return: A tensor of size (Batch Size, Flattened Image Size).\n",
    "    \"\"\"\n",
    "    # TODO: Implement Function\n",
    "    # this is so we can pass the output of the convolution layer to the fully-connected layer\n",
    "    \n",
    "    # input dimensions\n",
    "    input_shape = x_tensor.get_shape().as_list() # as_list() was important\n",
    "    batch_size = input_shape[0]\n",
    "    width = input_shape[1]\n",
    "    height = input_shape[2]\n",
    "    depth = input_shape[3] \n",
    "    \n",
    "    # really not sure why this has to be -1 instead of None\n",
    "    flattened = tf.reshape(x_tensor, [-1, width * height * depth])\n",
    "    \n",
    "    return flattened\n",
    "\n",
    "\n",
    "\"\"\"\n",
    "DON'T MODIFY ANYTHING IN THIS CELL THAT IS BELOW THIS LINE\n",
    "\"\"\"\n",
    "tests.test_flatten(flatten)"
   ]
  },
  {
   "cell_type": "markdown",
   "metadata": {
    "deletable": true,
    "editable": true
   },
   "source": [
    "### Fully-Connected Layer\n",
    "Implement the `fully_conn` function to apply a fully connected layer to `x_tensor` with the shape (*Batch Size*, *num_outputs*). Shortcut option: you can use classes from the [TensorFlow Layers](https://www.tensorflow.org/api_docs/python/tf/layers) or [TensorFlow Layers (contrib)](https://www.tensorflow.org/api_guides/python/contrib.layers) packages for this layer. For more of a challenge, only use other TensorFlow packages."
   ]
  },
  {
   "cell_type": "code",
   "execution_count": 35,
   "metadata": {
    "collapsed": false,
    "deletable": true,
    "editable": true
   },
   "outputs": [
    {
     "name": "stdout",
     "output_type": "stream",
     "text": [
      "Tests Passed\n"
     ]
    }
   ],
   "source": [
    "def fully_conn(x_tensor, num_outputs):\n",
    "    \"\"\"\n",
    "    Apply a fully connected layer to x_tensor using weight and bias\n",
    "    : x_tensor: A 2-D tensor where the first dimension is batch size.\n",
    "    : num_outputs: The number of output that the new tensor should be.\n",
    "    : return: A 2-D tensor where the second dimension is num_outputs.\n",
    "    \"\"\"\n",
    "    # TODO: Implement Function\n",
    "    shape = x_tensor.get_shape().as_list()\n",
    "    batch_size = shape[0]\n",
    "    flattened_image_size = shape[1]\n",
    "    \n",
    "    weights = tf.Variable(tf.truncated_normal([flattened_image_size, num_outputs], stddev=0.1))\n",
    "    bias = tf.Variable(tf.zeros([num_outputs]))\n",
    "    output = tf.add(tf.matmul(x_tensor, weights), bias)\n",
    "    \n",
    "    return tf.nn.relu(output)\n",
    "\n",
    "\n",
    "\"\"\"\n",
    "DON'T MODIFY ANYTHING IN THIS CELL THAT IS BELOW THIS LINE\n",
    "\"\"\"\n",
    "tests.test_fully_conn(fully_conn)"
   ]
  },
  {
   "cell_type": "markdown",
   "metadata": {
    "deletable": true,
    "editable": true
   },
   "source": [
    "### Output Layer\n",
    "Implement the `output` function to apply a fully connected layer to `x_tensor` with the shape (*Batch Size*, *num_outputs*). Shortcut option: you can use classes from the [TensorFlow Layers](https://www.tensorflow.org/api_docs/python/tf/layers) or [TensorFlow Layers (contrib)](https://www.tensorflow.org/api_guides/python/contrib.layers) packages for this layer. For more of a challenge, only use other TensorFlow packages.\n",
    "\n",
    "**Note:** Activation, softmax, or cross entropy should **not** be applied to this."
   ]
  },
  {
   "cell_type": "code",
   "execution_count": 36,
   "metadata": {
    "collapsed": false,
    "deletable": true,
    "editable": true
   },
   "outputs": [
    {
     "name": "stdout",
     "output_type": "stream",
     "text": [
      "Tests Passed\n"
     ]
    }
   ],
   "source": [
    "def output(x_tensor, num_outputs):\n",
    "    \"\"\"\n",
    "    Apply a output layer to x_tensor using weight and bias\n",
    "    : x_tensor: A 2-D tensor where the first dimension is batch size.\n",
    "    : num_outputs: The number of output that the new tensor should be.\n",
    "    : return: A 2-D tensor where the second dimension is num_outputs.\n",
    "    \"\"\"\n",
    "    # TODO: Implement Function\n",
    "    shape = x_tensor.get_shape().as_list()\n",
    "    batch_size = shape[0]\n",
    "    previous_layer_output_dim = shape[1]\n",
    "    \n",
    "    weights = tf.Variable(tf.truncated_normal([previous_layer_output_dim, num_outputs], stddev=0.1))\n",
    "    bias = tf.Variable(tf.zeros([num_outputs]))\n",
    "    \n",
    "    return tf.add(tf.matmul(x_tensor, weights), bias)\n",
    "\n",
    "\n",
    "\"\"\"\n",
    "DON'T MODIFY ANYTHING IN THIS CELL THAT IS BELOW THIS LINE\n",
    "\"\"\"\n",
    "tests.test_output(output)"
   ]
  },
  {
   "cell_type": "markdown",
   "metadata": {
    "deletable": true,
    "editable": true
   },
   "source": [
    "### Create Convolutional Model\n",
    "Implement the function `conv_net` to create a convolutional neural network model. The function takes in a batch of images, `x`, and outputs logits.  Use the layers you created above to create this model:\n",
    "\n",
    "* Apply 1, 2, or 3 Convolution and Max Pool layers\n",
    "* Apply a Flatten Layer\n",
    "* Apply 1, 2, or 3 Fully Connected Layers\n",
    "* Apply an Output Layer\n",
    "* Return the output\n",
    "* Apply [TensorFlow's Dropout](https://www.tensorflow.org/api_docs/python/tf/nn/dropout) to one or more layers in the model using `keep_prob`. "
   ]
  },
  {
   "cell_type": "code",
   "execution_count": 39,
   "metadata": {
    "collapsed": false,
    "deletable": true,
    "editable": true
   },
   "outputs": [
    {
     "name": "stdout",
     "output_type": "stream",
     "text": [
      "Neural Network Built!\n"
     ]
    }
   ],
   "source": [
    "def conv_net(x, keep_prob):\n",
    "    \"\"\"\n",
    "    Create a convolutional neural network model\n",
    "    : x: Placeholder tensor that holds image data.\n",
    "    : keep_prob: Placeholder tensor that hold dropout keep probability.\n",
    "    : return: Tensor that represents logits\n",
    "    \"\"\"\n",
    "    # TODO: Apply 1, 2, or 3 Convolution and Max Pool layers\n",
    "    #    Play around with different number of outputs, kernel size and stride\n",
    "    # Function Definition from Above:\n",
    "    #    conv2d_maxpool(x_tensor, conv_num_outputs, conv_ksize, conv_strides, pool_ksize, pool_strides)\n",
    "\n",
    "    # filter params\n",
    "    k1 = [5,5]\n",
    "    stride1 = [1,1]\n",
    "    num_filters1 = 18\n",
    "    \n",
    "    # max pool params\n",
    "    k1_pool = [3,3]\n",
    "    stride1_pool = [2,2]\n",
    "    \n",
    "    # layer 1\n",
    "    conv1 = conv2d_maxpool(x, num_filters1, k1, stride1, k1_pool, stride1_pool)\n",
    "    conv1 = tf.nn.dropout(conv1, keep_prob)\n",
    "    \n",
    "    ### layer 2\n",
    "    \n",
    "    # filter\n",
    "    k2 = [5,5]\n",
    "    stride2 = [1,1]\n",
    "    num_filters2 = 18\n",
    "    \n",
    "    # pooling layer\n",
    "    k2_pool = [3,3]\n",
    "    stride2_pool = [2,2]\n",
    "    \n",
    "    conv2 = conv2d_maxpool(conv1, num_filters2, k2, stride2, k2_pool, stride2_pool)\n",
    "    conv2 = tf.nn.dropout(conv2, keep_prob)\n",
    "    \n",
    "    ### layer 3 = layer 2  \n",
    "    # filter\n",
    "    k3 = [3,3]\n",
    "    stride3 = [1,1]\n",
    "    num_filters3 = 18\n",
    "    \n",
    "    # pooling layer\n",
    "    k3_pool = [1,1]\n",
    "    stride3_pool = [1,1]\n",
    "    conv3 = conv2d_maxpool(conv2, num_filters3, k3, stride3, k3_pool, stride3_pool)\n",
    "    \n",
    "#     conv3 = tf.nn.dropout(conv3, keep_prob)\n",
    "    \n",
    "\n",
    "    # TODO: Apply a Flatten Layer\n",
    "    # Function Definition from Above:\n",
    "    #   flatten(x_tensor)\n",
    "    flat = flatten(conv3)\n",
    "    \n",
    "\n",
    "    # TODO: Apply 1, 2, or 3 Fully Connected Layers\n",
    "    #    Play around with different number of outputs\n",
    "    # Function Definition from Above:\n",
    "    #   fully_conn(x_tensor, num_outputs)\n",
    "    \n",
    "    fc1 = fully_conn(flat, 384)\n",
    "#     fc1 = tf.nn.dropout(fc1, keep_prob)\n",
    "#     fc2 = fully_conn(fc1, 32)\n",
    "#     fc3 = fully_conn(fc2, 16)    \n",
    "    \n",
    "    # TODO: Apply an Output Layer\n",
    "    #    Set this to the number of classes\n",
    "    # Function Definition from Above:\n",
    "    #   output(x_tensor, num_outputs)\n",
    "    \n",
    "    result = output(fc1, num_labels)\n",
    "    \n",
    "    \n",
    "    # TODO: return output\n",
    "    return result\n",
    "\n",
    "\n",
    "\"\"\"\n",
    "DON'T MODIFY ANYTHING IN THIS CELL THAT IS BELOW THIS LINE\n",
    "\"\"\"\n",
    "\n",
    "##############################\n",
    "## Build the Neural Network ##\n",
    "##############################\n",
    "\n",
    "# Remove previous weights, bias, inputs, etc..\n",
    "tf.reset_default_graph()\n",
    "\n",
    "# Inputs\n",
    "x = neural_net_image_input((32, 32, 3))\n",
    "y = neural_net_label_input(10)\n",
    "keep_prob = neural_net_keep_prob_input()\n",
    "\n",
    "# Model\n",
    "logits = conv_net(x, keep_prob)\n",
    "\n",
    "# Name logits Tensor, so that is can be loaded from disk after training\n",
    "logits = tf.identity(logits, name='logits')\n",
    "\n",
    "# Loss and Optimizer\n",
    "cost = tf.reduce_mean(tf.nn.softmax_cross_entropy_with_logits(logits=logits, labels=y))\n",
    "optimizer = tf.train.AdamOptimizer().minimize(cost)\n",
    "\n",
    "# Accuracy\n",
    "correct_pred = tf.equal(tf.argmax(logits, 1), tf.argmax(y, 1))\n",
    "accuracy = tf.reduce_mean(tf.cast(correct_pred, tf.float32), name='accuracy')\n",
    "\n",
    "tests.test_conv_net(conv_net)"
   ]
  },
  {
   "cell_type": "markdown",
   "metadata": {
    "deletable": true,
    "editable": true
   },
   "source": [
    "## Train the Neural Network\n",
    "### Single Optimization\n",
    "Implement the function `train_neural_network` to do a single optimization.  The optimization should use `optimizer` to optimize in `session` with a `feed_dict` of the following:\n",
    "* `x` for image input\n",
    "* `y` for labels\n",
    "* `keep_prob` for keep probability for dropout\n",
    "\n",
    "This function will be called for each batch, so `tf.global_variables_initializer()` has already been called.\n",
    "\n",
    "Note: Nothing needs to be returned. This function is only optimizing the neural network."
   ]
  },
  {
   "cell_type": "code",
   "execution_count": 9,
   "metadata": {
    "collapsed": false,
    "deletable": true,
    "editable": true
   },
   "outputs": [
    {
     "name": "stdout",
     "output_type": "stream",
     "text": [
      "Tests Passed\n"
     ]
    }
   ],
   "source": [
    "def train_neural_network(session, optimizer, keep_probability, feature_batch, label_batch):\n",
    "    \"\"\"\n",
    "    Optimize the session on a batch of images and labels\n",
    "    : session: Current TensorFlow session\n",
    "    : optimizer: TensorFlow optimizer function\n",
    "    : keep_probability: keep probability\n",
    "    : feature_batch: Batch of Numpy image data\n",
    "    : label_batch: Batch of Numpy label data\n",
    "    \"\"\"\n",
    "    # TODO: Implement Function    \n",
    "    \n",
    "    session.run(optimizer, feed_dict={\n",
    "        x: feature_batch, \n",
    "        y: label_batch, \n",
    "        keep_prob: keep_probability})\n",
    "\n",
    "    pass\n",
    "\n",
    "\n",
    "\"\"\"\n",
    "DON'T MODIFY ANYTHING IN THIS CELL THAT IS BELOW THIS LINE\n",
    "\"\"\"\n",
    "tests.test_train_nn(train_neural_network)"
   ]
  },
  {
   "cell_type": "markdown",
   "metadata": {
    "deletable": true,
    "editable": true
   },
   "source": [
    "### Show Stats\n",
    "Implement the function `print_stats` to print loss and validation accuracy.  Use the global variables `valid_features` and `valid_labels` to calculate validation accuracy.  Use a keep probability of `1.0` to calculate the loss and validation accuracy."
   ]
  },
  {
   "cell_type": "code",
   "execution_count": 10,
   "metadata": {
    "collapsed": false,
    "deletable": true,
    "editable": true
   },
   "outputs": [],
   "source": [
    "def print_stats(session, feature_batch, label_batch, cost, accuracy):\n",
    "    \"\"\"\n",
    "    Print information about loss and validation accuracy\n",
    "    : session: Current TensorFlow session\n",
    "    : feature_batch: Batch of Numpy image data\n",
    "    : label_batch: Batch of Numpy label data\n",
    "    : cost: TensorFlow cost function\n",
    "    : accuracy: TensorFlow accuracy function\n",
    "    \"\"\"\n",
    "    # TODO: Implement Function\n",
    "    \n",
    "    loss = sess.run(cost, feed_dict={\n",
    "        x: feature_batch,\n",
    "        y: label_batch,\n",
    "        keep_prob: 1.0})\n",
    "    \n",
    "    global valid_features\n",
    "    global valid_labels\n",
    "    \n",
    "    valid_acc = sess.run(accuracy, feed_dict={\n",
    "        x: valid_features,\n",
    "        y: valid_labels,\n",
    "        keep_prob: 1.0})\n",
    "\n",
    "    print('Loss: {:>10.4f} Validation Accuracy: {:.6f}'.format(loss,valid_acc))\n",
    "    \n",
    "    pass"
   ]
  },
  {
   "cell_type": "markdown",
   "metadata": {
    "deletable": true,
    "editable": true
   },
   "source": [
    "### Hyperparameters\n",
    "Tune the following parameters:\n",
    "* Set `epochs` to the number of iterations until the network stops learning or start overfitting\n",
    "* Set `batch_size` to the highest number that your machine has memory for.  Most people set them to common sizes of memory:\n",
    " * 64\n",
    " * 128\n",
    " * 256\n",
    " * ...\n",
    "* Set `keep_probability` to the probability of keeping a node using dropout"
   ]
  },
  {
   "cell_type": "code",
   "execution_count": 48,
   "metadata": {
    "collapsed": true,
    "deletable": true,
    "editable": true
   },
   "outputs": [],
   "source": [
    "# TODO: Tune Parameters\n",
    "epochs = 30\n",
    "batch_size = 64\n",
    "keep_probability = 0.75"
   ]
  },
  {
   "cell_type": "markdown",
   "metadata": {
    "deletable": true,
    "editable": true
   },
   "source": [
    "### Train on a Single CIFAR-10 Batch\n",
    "Instead of training the neural network on all the CIFAR-10 batches of data, let's use a single batch. This should save time while you iterate on the model to get a better accuracy.  Once the final validation accuracy is 50% or greater, run the model on all the data in the next section."
   ]
  },
  {
   "cell_type": "code",
   "execution_count": 49,
   "metadata": {
    "collapsed": false,
    "deletable": true,
    "editable": true
   },
   "outputs": [
    {
     "name": "stdout",
     "output_type": "stream",
     "text": [
      "Checking the Training on a Single Batch...\n",
      "Epoch  1, CIFAR-10 Batch 1:  Loss:     1.9496 Validation Accuracy: 0.370400\n",
      "Epoch  2, CIFAR-10 Batch 1:  Loss:     1.6873 Validation Accuracy: 0.424400\n",
      "Epoch  3, CIFAR-10 Batch 1:  Loss:     1.5939 Validation Accuracy: 0.451800\n",
      "Epoch  4, CIFAR-10 Batch 1:  Loss:     1.4987 Validation Accuracy: 0.487200\n",
      "Epoch  5, CIFAR-10 Batch 1:  Loss:     1.4861 Validation Accuracy: 0.495800\n",
      "Epoch  6, CIFAR-10 Batch 1:  Loss:     1.3834 Validation Accuracy: 0.519400\n",
      "Epoch  7, CIFAR-10 Batch 1:  Loss:     1.3188 Validation Accuracy: 0.529600\n",
      "Epoch  8, CIFAR-10 Batch 1:  Loss:     1.1786 Validation Accuracy: 0.544400\n",
      "Epoch  9, CIFAR-10 Batch 1:  Loss:     1.0221 Validation Accuracy: 0.556800\n",
      "Epoch 10, CIFAR-10 Batch 1:  Loss:     0.9027 Validation Accuracy: 0.549200\n",
      "Epoch 11, CIFAR-10 Batch 1:  Loss:     0.8790 Validation Accuracy: 0.563000\n",
      "Epoch 12, CIFAR-10 Batch 1:  Loss:     0.7853 Validation Accuracy: 0.573800\n",
      "Epoch 13, CIFAR-10 Batch 1:  Loss:     0.7032 Validation Accuracy: 0.565600\n",
      "Epoch 14, CIFAR-10 Batch 1:  Loss:     0.6011 Validation Accuracy: 0.569400\n",
      "Epoch 15, CIFAR-10 Batch 1:  Loss:     0.4734 Validation Accuracy: 0.570000\n",
      "Epoch 16, CIFAR-10 Batch 1:  Loss:     0.4647 Validation Accuracy: 0.553000\n",
      "Epoch 17, CIFAR-10 Batch 1:  Loss:     0.3644 Validation Accuracy: 0.562800\n",
      "Epoch 18, CIFAR-10 Batch 1:  Loss:     0.2843 Validation Accuracy: 0.573800\n",
      "Epoch 19, CIFAR-10 Batch 1:  Loss:     0.2535 Validation Accuracy: 0.570800\n",
      "Epoch 20, CIFAR-10 Batch 1:  Loss:     0.2628 Validation Accuracy: 0.573600\n",
      "Epoch 21, CIFAR-10 Batch 1:  Loss:     0.1990 Validation Accuracy: 0.565800\n",
      "Epoch 22, CIFAR-10 Batch 1:  Loss:     0.2295 Validation Accuracy: 0.542200\n",
      "Epoch 23, CIFAR-10 Batch 1:  Loss:     0.1445 Validation Accuracy: 0.566400\n",
      "Epoch 24, CIFAR-10 Batch 1:  Loss:     0.1513 Validation Accuracy: 0.570200\n",
      "Epoch 25, CIFAR-10 Batch 1:  Loss:     0.0831 Validation Accuracy: 0.572600\n",
      "Epoch 26, CIFAR-10 Batch 1:  Loss:     0.1153 Validation Accuracy: 0.581600\n",
      "Epoch 27, CIFAR-10 Batch 1:  Loss:     0.0644 Validation Accuracy: 0.574600\n",
      "Epoch 28, CIFAR-10 Batch 1:  Loss:     0.0636 Validation Accuracy: 0.568800\n",
      "Epoch 29, CIFAR-10 Batch 1:  Loss:     0.0656 Validation Accuracy: 0.568200\n",
      "Epoch 30, CIFAR-10 Batch 1:  Loss:     0.0342 Validation Accuracy: 0.574600\n"
     ]
    }
   ],
   "source": [
    "\"\"\"\n",
    "DON'T MODIFY ANYTHING IN THIS CELL\n",
    "\"\"\"\n",
    "print('Checking the Training on a Single Batch...')\n",
    "with tf.Session() as sess:\n",
    "    # Initializing the variables\n",
    "    sess.run(tf.global_variables_initializer())\n",
    "    \n",
    "    # Training cycle\n",
    "    for epoch in range(epochs):\n",
    "        batch_i = 1\n",
    "        for batch_features, batch_labels in helper.load_preprocess_training_batch(batch_i, batch_size):\n",
    "            train_neural_network(sess, optimizer, keep_probability, batch_features, batch_labels)\n",
    "        print('Epoch {:>2}, CIFAR-10 Batch {}:  '.format(epoch + 1, batch_i), end='')\n",
    "        print_stats(sess, batch_features, batch_labels, cost, accuracy)"
   ]
  },
  {
   "cell_type": "markdown",
   "metadata": {
    "deletable": true,
    "editable": true
   },
   "source": [
    "### Fully Train the Model\n",
    "Now that you got a good accuracy with a single CIFAR-10 batch, try it with all five batches."
   ]
  },
  {
   "cell_type": "code",
   "execution_count": 50,
   "metadata": {
    "collapsed": false,
    "deletable": true,
    "editable": true
   },
   "outputs": [
    {
     "name": "stdout",
     "output_type": "stream",
     "text": [
      "Training...\n",
      "Epoch  1, CIFAR-10 Batch 1:  Loss:     2.0385 Validation Accuracy: 0.308200\n",
      "Epoch  1, CIFAR-10 Batch 2:  Loss:     1.6718 Validation Accuracy: 0.417600\n",
      "Epoch  1, CIFAR-10 Batch 3:  Loss:     1.3860 Validation Accuracy: 0.469400\n",
      "Epoch  1, CIFAR-10 Batch 4:  Loss:     1.5510 Validation Accuracy: 0.487400\n",
      "Epoch  1, CIFAR-10 Batch 5:  Loss:     1.5041 Validation Accuracy: 0.512000\n",
      "Epoch  2, CIFAR-10 Batch 1:  Loss:     1.5198 Validation Accuracy: 0.519400\n",
      "Epoch  2, CIFAR-10 Batch 2:  Loss:     1.2999 Validation Accuracy: 0.524600\n",
      "Epoch  2, CIFAR-10 Batch 3:  Loss:     1.2380 Validation Accuracy: 0.525600\n",
      "Epoch  2, CIFAR-10 Batch 4:  Loss:     1.3454 Validation Accuracy: 0.554200\n",
      "Epoch  2, CIFAR-10 Batch 5:  Loss:     1.2730 Validation Accuracy: 0.563600\n",
      "Epoch  3, CIFAR-10 Batch 1:  Loss:     1.3542 Validation Accuracy: 0.560200\n",
      "Epoch  3, CIFAR-10 Batch 2:  Loss:     1.1501 Validation Accuracy: 0.556600\n",
      "Epoch  3, CIFAR-10 Batch 3:  Loss:     0.9921 Validation Accuracy: 0.581000\n",
      "Epoch  3, CIFAR-10 Batch 4:  Loss:     1.1569 Validation Accuracy: 0.584000\n",
      "Epoch  3, CIFAR-10 Batch 5:  Loss:     1.1003 Validation Accuracy: 0.602400\n",
      "Epoch  4, CIFAR-10 Batch 1:  Loss:     1.1938 Validation Accuracy: 0.599000\n",
      "Epoch  4, CIFAR-10 Batch 2:  Loss:     1.0079 Validation Accuracy: 0.591400\n",
      "Epoch  4, CIFAR-10 Batch 3:  Loss:     0.8567 Validation Accuracy: 0.612800\n",
      "Epoch  4, CIFAR-10 Batch 4:  Loss:     0.9740 Validation Accuracy: 0.615200\n",
      "Epoch  4, CIFAR-10 Batch 5:  Loss:     0.8981 Validation Accuracy: 0.616200\n",
      "Epoch  5, CIFAR-10 Batch 1:  Loss:     1.0249 Validation Accuracy: 0.631600\n",
      "Epoch  5, CIFAR-10 Batch 2:  Loss:     0.8069 Validation Accuracy: 0.619600\n",
      "Epoch  5, CIFAR-10 Batch 3:  Loss:     0.7629 Validation Accuracy: 0.627800\n",
      "Epoch  5, CIFAR-10 Batch 4:  Loss:     0.8325 Validation Accuracy: 0.624200\n",
      "Epoch  5, CIFAR-10 Batch 5:  Loss:     0.8703 Validation Accuracy: 0.620800\n",
      "Epoch  6, CIFAR-10 Batch 1:  Loss:     1.0030 Validation Accuracy: 0.644800\n",
      "Epoch  6, CIFAR-10 Batch 2:  Loss:     0.7671 Validation Accuracy: 0.628800\n",
      "Epoch  6, CIFAR-10 Batch 3:  Loss:     0.6812 Validation Accuracy: 0.637200\n",
      "Epoch  6, CIFAR-10 Batch 4:  Loss:     0.6786 Validation Accuracy: 0.655000\n",
      "Epoch  6, CIFAR-10 Batch 5:  Loss:     0.7314 Validation Accuracy: 0.642400\n",
      "Epoch  7, CIFAR-10 Batch 1:  Loss:     0.8842 Validation Accuracy: 0.660200\n",
      "Epoch  7, CIFAR-10 Batch 2:  Loss:     0.6173 Validation Accuracy: 0.650000\n",
      "Epoch  7, CIFAR-10 Batch 3:  Loss:     0.5948 Validation Accuracy: 0.645600\n",
      "Epoch  7, CIFAR-10 Batch 4:  Loss:     0.5994 Validation Accuracy: 0.663800\n",
      "Epoch  7, CIFAR-10 Batch 5:  Loss:     0.6218 Validation Accuracy: 0.661600\n",
      "Epoch  8, CIFAR-10 Batch 1:  Loss:     0.8248 Validation Accuracy: 0.644400\n",
      "Epoch  8, CIFAR-10 Batch 2:  Loss:     0.5899 Validation Accuracy: 0.645600\n",
      "Epoch  8, CIFAR-10 Batch 3:  Loss:     0.5610 Validation Accuracy: 0.669600\n",
      "Epoch  8, CIFAR-10 Batch 4:  Loss:     0.5040 Validation Accuracy: 0.675400\n",
      "Epoch  8, CIFAR-10 Batch 5:  Loss:     0.5474 Validation Accuracy: 0.674600\n",
      "Epoch  9, CIFAR-10 Batch 1:  Loss:     0.7665 Validation Accuracy: 0.668800\n",
      "Epoch  9, CIFAR-10 Batch 2:  Loss:     0.6050 Validation Accuracy: 0.647800\n",
      "Epoch  9, CIFAR-10 Batch 3:  Loss:     0.4280 Validation Accuracy: 0.680600\n",
      "Epoch  9, CIFAR-10 Batch 4:  Loss:     0.5007 Validation Accuracy: 0.680000\n",
      "Epoch  9, CIFAR-10 Batch 5:  Loss:     0.5679 Validation Accuracy: 0.680600\n",
      "Epoch 10, CIFAR-10 Batch 1:  Loss:     0.6221 Validation Accuracy: 0.692000\n",
      "Epoch 10, CIFAR-10 Batch 2:  Loss:     0.4611 Validation Accuracy: 0.689600\n",
      "Epoch 10, CIFAR-10 Batch 3:  Loss:     0.3599 Validation Accuracy: 0.685400\n",
      "Epoch 10, CIFAR-10 Batch 4:  Loss:     0.4076 Validation Accuracy: 0.684000\n",
      "Epoch 10, CIFAR-10 Batch 5:  Loss:     0.4042 Validation Accuracy: 0.679400\n",
      "Epoch 11, CIFAR-10 Batch 1:  Loss:     0.5898 Validation Accuracy: 0.680600\n",
      "Epoch 11, CIFAR-10 Batch 2:  Loss:     0.5701 Validation Accuracy: 0.681000\n",
      "Epoch 11, CIFAR-10 Batch 3:  Loss:     0.3275 Validation Accuracy: 0.694400\n",
      "Epoch 11, CIFAR-10 Batch 4:  Loss:     0.4213 Validation Accuracy: 0.666000\n",
      "Epoch 11, CIFAR-10 Batch 5:  Loss:     0.3397 Validation Accuracy: 0.682000\n",
      "Epoch 12, CIFAR-10 Batch 1:  Loss:     0.4026 Validation Accuracy: 0.688600\n",
      "Epoch 12, CIFAR-10 Batch 2:  Loss:     0.4019 Validation Accuracy: 0.685200\n",
      "Epoch 12, CIFAR-10 Batch 3:  Loss:     0.2963 Validation Accuracy: 0.694600\n",
      "Epoch 12, CIFAR-10 Batch 4:  Loss:     0.2868 Validation Accuracy: 0.696400\n",
      "Epoch 12, CIFAR-10 Batch 5:  Loss:     0.2890 Validation Accuracy: 0.683000\n",
      "Epoch 13, CIFAR-10 Batch 1:  Loss:     0.4182 Validation Accuracy: 0.694800\n",
      "Epoch 13, CIFAR-10 Batch 2:  Loss:     0.3558 Validation Accuracy: 0.701400\n",
      "Epoch 13, CIFAR-10 Batch 3:  Loss:     0.2878 Validation Accuracy: 0.690600\n",
      "Epoch 13, CIFAR-10 Batch 4:  Loss:     0.3099 Validation Accuracy: 0.696000\n",
      "Epoch 13, CIFAR-10 Batch 5:  Loss:     0.3295 Validation Accuracy: 0.681600\n",
      "Epoch 14, CIFAR-10 Batch 1:  Loss:     0.4159 Validation Accuracy: 0.697400\n",
      "Epoch 14, CIFAR-10 Batch 2:  Loss:     0.4011 Validation Accuracy: 0.700200\n",
      "Epoch 14, CIFAR-10 Batch 3:  Loss:     0.2582 Validation Accuracy: 0.693400\n",
      "Epoch 14, CIFAR-10 Batch 4:  Loss:     0.2094 Validation Accuracy: 0.700000\n",
      "Epoch 14, CIFAR-10 Batch 5:  Loss:     0.1719 Validation Accuracy: 0.691600\n",
      "Epoch 15, CIFAR-10 Batch 1:  Loss:     0.4107 Validation Accuracy: 0.702800\n",
      "Epoch 15, CIFAR-10 Batch 2:  Loss:     0.3717 Validation Accuracy: 0.698200\n",
      "Epoch 15, CIFAR-10 Batch 3:  Loss:     0.1875 Validation Accuracy: 0.699000\n",
      "Epoch 15, CIFAR-10 Batch 4:  Loss:     0.3722 Validation Accuracy: 0.680600\n",
      "Epoch 15, CIFAR-10 Batch 5:  Loss:     0.2285 Validation Accuracy: 0.687600\n",
      "Epoch 16, CIFAR-10 Batch 1:  Loss:     0.4294 Validation Accuracy: 0.702600\n",
      "Epoch 16, CIFAR-10 Batch 2:  Loss:     0.3505 Validation Accuracy: 0.689800\n",
      "Epoch 16, CIFAR-10 Batch 3:  Loss:     0.2040 Validation Accuracy: 0.704800\n",
      "Epoch 16, CIFAR-10 Batch 4:  Loss:     0.1827 Validation Accuracy: 0.691400\n",
      "Epoch 16, CIFAR-10 Batch 5:  Loss:     0.2267 Validation Accuracy: 0.681400\n",
      "Epoch 17, CIFAR-10 Batch 1:  Loss:     0.2956 Validation Accuracy: 0.684800\n",
      "Epoch 17, CIFAR-10 Batch 2:  Loss:     0.2758 Validation Accuracy: 0.685800\n",
      "Epoch 17, CIFAR-10 Batch 3:  Loss:     0.1871 Validation Accuracy: 0.683200\n",
      "Epoch 17, CIFAR-10 Batch 4:  Loss:     0.2505 Validation Accuracy: 0.678000\n",
      "Epoch 17, CIFAR-10 Batch 5:  Loss:     0.1814 Validation Accuracy: 0.689400\n",
      "Epoch 18, CIFAR-10 Batch 1:  Loss:     0.2611 Validation Accuracy: 0.693000\n",
      "Epoch 18, CIFAR-10 Batch 2:  Loss:     0.2520 Validation Accuracy: 0.688600\n",
      "Epoch 18, CIFAR-10 Batch 3:  Loss:     0.2450 Validation Accuracy: 0.684200\n",
      "Epoch 18, CIFAR-10 Batch 4:  Loss:     0.1470 Validation Accuracy: 0.688400\n",
      "Epoch 18, CIFAR-10 Batch 5:  Loss:     0.1919 Validation Accuracy: 0.676400\n",
      "Epoch 19, CIFAR-10 Batch 1:  Loss:     0.2686 Validation Accuracy: 0.699600\n",
      "Epoch 19, CIFAR-10 Batch 2:  Loss:     0.2343 Validation Accuracy: 0.693600\n",
      "Epoch 19, CIFAR-10 Batch 3:  Loss:     0.1179 Validation Accuracy: 0.692400\n",
      "Epoch 19, CIFAR-10 Batch 4:  Loss:     0.1847 Validation Accuracy: 0.682000\n",
      "Epoch 19, CIFAR-10 Batch 5:  Loss:     0.1800 Validation Accuracy: 0.687000\n",
      "Epoch 20, CIFAR-10 Batch 1:  Loss:     0.2371 Validation Accuracy: 0.701400\n",
      "Epoch 20, CIFAR-10 Batch 2:  Loss:     0.1813 Validation Accuracy: 0.699200\n",
      "Epoch 20, CIFAR-10 Batch 3:  Loss:     0.1282 Validation Accuracy: 0.693400\n",
      "Epoch 20, CIFAR-10 Batch 4:  Loss:     0.1326 Validation Accuracy: 0.691200\n",
      "Epoch 20, CIFAR-10 Batch 5:  Loss:     0.1714 Validation Accuracy: 0.673400\n",
      "Epoch 21, CIFAR-10 Batch 1:  Loss:     0.2014 Validation Accuracy: 0.686800\n",
      "Epoch 21, CIFAR-10 Batch 2:  Loss:     0.2188 Validation Accuracy: 0.685800\n",
      "Epoch 21, CIFAR-10 Batch 3:  Loss:     0.1562 Validation Accuracy: 0.686800\n",
      "Epoch 21, CIFAR-10 Batch 4:  Loss:     0.1194 Validation Accuracy: 0.671000\n",
      "Epoch 21, CIFAR-10 Batch 5:  Loss:     0.1359 Validation Accuracy: 0.677200\n",
      "Epoch 22, CIFAR-10 Batch 1:  Loss:     0.2365 Validation Accuracy: 0.694000\n",
      "Epoch 22, CIFAR-10 Batch 2:  Loss:     0.2470 Validation Accuracy: 0.688600\n",
      "Epoch 22, CIFAR-10 Batch 3:  Loss:     0.1076 Validation Accuracy: 0.679800\n",
      "Epoch 22, CIFAR-10 Batch 4:  Loss:     0.1324 Validation Accuracy: 0.691800\n",
      "Epoch 22, CIFAR-10 Batch 5:  Loss:     0.1677 Validation Accuracy: 0.680800\n",
      "Epoch 23, CIFAR-10 Batch 1:  Loss:     0.2092 Validation Accuracy: 0.694000\n",
      "Epoch 23, CIFAR-10 Batch 2:  Loss:     0.1976 Validation Accuracy: 0.674400\n",
      "Epoch 23, CIFAR-10 Batch 3:  Loss:     0.1189 Validation Accuracy: 0.679400\n",
      "Epoch 23, CIFAR-10 Batch 4:  Loss:     0.1437 Validation Accuracy: 0.684800\n",
      "Epoch 23, CIFAR-10 Batch 5:  Loss:     0.1462 Validation Accuracy: 0.654800\n",
      "Epoch 24, CIFAR-10 Batch 1:  Loss:     0.1190 Validation Accuracy: 0.690200\n",
      "Epoch 24, CIFAR-10 Batch 2:  Loss:     0.1748 Validation Accuracy: 0.689400\n",
      "Epoch 24, CIFAR-10 Batch 3:  Loss:     0.0986 Validation Accuracy: 0.681800\n",
      "Epoch 24, CIFAR-10 Batch 4:  Loss:     0.1361 Validation Accuracy: 0.691400\n",
      "Epoch 24, CIFAR-10 Batch 5:  Loss:     0.1306 Validation Accuracy: 0.668800\n",
      "Epoch 25, CIFAR-10 Batch 1:  Loss:     0.1830 Validation Accuracy: 0.687000\n",
      "Epoch 25, CIFAR-10 Batch 2:  Loss:     0.1335 Validation Accuracy: 0.686600\n",
      "Epoch 25, CIFAR-10 Batch 3:  Loss:     0.0560 Validation Accuracy: 0.685400\n",
      "Epoch 25, CIFAR-10 Batch 4:  Loss:     0.1373 Validation Accuracy: 0.686000\n",
      "Epoch 25, CIFAR-10 Batch 5:  Loss:     0.1537 Validation Accuracy: 0.669600\n",
      "Epoch 26, CIFAR-10 Batch 1:  Loss:     0.1436 Validation Accuracy: 0.690800\n",
      "Epoch 26, CIFAR-10 Batch 2:  Loss:     0.1896 Validation Accuracy: 0.673000\n",
      "Epoch 26, CIFAR-10 Batch 3:  Loss:     0.0992 Validation Accuracy: 0.670600\n",
      "Epoch 26, CIFAR-10 Batch 4:  Loss:     0.1231 Validation Accuracy: 0.694400\n",
      "Epoch 26, CIFAR-10 Batch 5:  Loss:     0.0563 Validation Accuracy: 0.685800\n",
      "Epoch 27, CIFAR-10 Batch 1:  Loss:     0.1515 Validation Accuracy: 0.690400\n",
      "Epoch 27, CIFAR-10 Batch 2:  Loss:     0.0641 Validation Accuracy: 0.675600\n",
      "Epoch 27, CIFAR-10 Batch 3:  Loss:     0.0407 Validation Accuracy: 0.678800\n",
      "Epoch 27, CIFAR-10 Batch 4:  Loss:     0.1159 Validation Accuracy: 0.691200\n",
      "Epoch 27, CIFAR-10 Batch 5:  Loss:     0.0873 Validation Accuracy: 0.675800\n",
      "Epoch 28, CIFAR-10 Batch 1:  Loss:     0.0825 Validation Accuracy: 0.696400\n",
      "Epoch 28, CIFAR-10 Batch 2:  Loss:     0.1520 Validation Accuracy: 0.674600\n",
      "Epoch 28, CIFAR-10 Batch 3:  Loss:     0.1121 Validation Accuracy: 0.662000\n",
      "Epoch 28, CIFAR-10 Batch 4:  Loss:     0.0786 Validation Accuracy: 0.691800\n",
      "Epoch 28, CIFAR-10 Batch 5:  Loss:     0.0609 Validation Accuracy: 0.680600\n",
      "Epoch 29, CIFAR-10 Batch 1:  Loss:     0.1279 Validation Accuracy: 0.696400\n",
      "Epoch 29, CIFAR-10 Batch 2:  Loss:     0.0935 Validation Accuracy: 0.672800\n",
      "Epoch 29, CIFAR-10 Batch 3:  Loss:     0.0861 Validation Accuracy: 0.680000\n",
      "Epoch 29, CIFAR-10 Batch 4:  Loss:     0.0737 Validation Accuracy: 0.691600\n",
      "Epoch 29, CIFAR-10 Batch 5:  Loss:     0.1501 Validation Accuracy: 0.659200\n",
      "Epoch 30, CIFAR-10 Batch 1:  Loss:     0.1387 Validation Accuracy: 0.692800\n",
      "Epoch 30, CIFAR-10 Batch 2:  Loss:     0.0965 Validation Accuracy: 0.683600\n",
      "Epoch 30, CIFAR-10 Batch 3:  Loss:     0.0784 Validation Accuracy: 0.673600\n",
      "Epoch 30, CIFAR-10 Batch 4:  Loss:     0.1351 Validation Accuracy: 0.685200\n",
      "Epoch 30, CIFAR-10 Batch 5:  Loss:     0.1084 Validation Accuracy: 0.664400\n"
     ]
    }
   ],
   "source": [
    "\"\"\"\n",
    "DON'T MODIFY ANYTHING IN THIS CELL\n",
    "\"\"\"\n",
    "save_model_path = './image_classification'\n",
    "\n",
    "print('Training...')\n",
    "with tf.Session() as sess:\n",
    "    # Initializing the variables\n",
    "    sess.run(tf.global_variables_initializer())\n",
    "    \n",
    "    # Training cycle\n",
    "    for epoch in range(epochs):\n",
    "        # Loop over all batches\n",
    "        n_batches = 5\n",
    "        for batch_i in range(1, n_batches + 1):\n",
    "            for batch_features, batch_labels in helper.load_preprocess_training_batch(batch_i, batch_size):\n",
    "                train_neural_network(sess, optimizer, keep_probability, batch_features, batch_labels)\n",
    "            print('Epoch {:>2}, CIFAR-10 Batch {}:  '.format(epoch + 1, batch_i), end='')\n",
    "            print_stats(sess, batch_features, batch_labels, cost, accuracy)\n",
    "            \n",
    "    # Save Model\n",
    "    saver = tf.train.Saver()\n",
    "    save_path = saver.save(sess, save_model_path)"
   ]
  },
  {
   "cell_type": "code",
   "execution_count": null,
   "metadata": {
    "collapsed": true,
    "deletable": true,
    "editable": true
   },
   "outputs": [],
   "source": []
  },
  {
   "cell_type": "markdown",
   "metadata": {
    "deletable": true,
    "editable": true
   },
   "source": [
    "# Checkpoint\n",
    "The model has been saved to disk.\n",
    "## Test Model\n",
    "Test your model against the test dataset.  This will be your final accuracy. You should have an accuracy greater than 50%. If you don't, keep tweaking the model architecture and parameters."
   ]
  },
  {
   "cell_type": "code",
   "execution_count": 51,
   "metadata": {
    "collapsed": false,
    "deletable": true,
    "editable": true
   },
   "outputs": [
    {
     "name": "stdout",
     "output_type": "stream",
     "text": [
      "Testing Accuracy: 0.6705812101910829\n",
      "\n"
     ]
    },
    {
     "data": {
      "image/png": "[encoded data removed]",
      "text/plain": [
       "<matplotlib.figure.Figure at 0x7ff67a218f60>"
      ]
     },
     "metadata": {
      "image/png": {
       "height": 319,
       "width": 355
      }
     },
     "output_type": "display_data"
    }
   ],
   "source": [
    "\"\"\"\n",
    "DON'T MODIFY ANYTHING IN THIS CELL\n",
    "\"\"\"\n",
    "%matplotlib inline\n",
    "%config InlineBackend.figure_format = 'retina'\n",
    "\n",
    "import tensorflow as tf\n",
    "import pickle\n",
    "import helper\n",
    "import random\n",
    "\n",
    "# Set batch size if not already set\n",
    "try:\n",
    "    if batch_size:\n",
    "        pass\n",
    "except NameError:\n",
    "    batch_size = 64\n",
    "\n",
    "save_model_path = './image_classification'\n",
    "n_samples = 4\n",
    "top_n_predictions = 3\n",
    "\n",
    "def test_model():\n",
    "    \"\"\"\n",
    "    Test the saved model against the test dataset\n",
    "    \"\"\"\n",
    "\n",
    "    test_features, test_labels = pickle.load(open('preprocess_training.p', mode='rb'))\n",
    "    loaded_graph = tf.Graph()\n",
    "\n",
    "    with tf.Session(graph=loaded_graph) as sess:\n",
    "        # Load model\n",
    "        loader = tf.train.import_meta_graph(save_model_path + '.meta')\n",
    "        loader.restore(sess, save_model_path)\n",
    "\n",
    "        # Get Tensors from loaded model\n",
    "        loaded_x = loaded_graph.get_tensor_by_name('x:0')\n",
    "        loaded_y = loaded_graph.get_tensor_by_name('y:0')\n",
    "        loaded_keep_prob = loaded_graph.get_tensor_by_name('keep_prob:0')\n",
    "        loaded_logits = loaded_graph.get_tensor_by_name('logits:0')\n",
    "        loaded_acc = loaded_graph.get_tensor_by_name('accuracy:0')\n",
    "        \n",
    "        # Get accuracy in batches for memory limitations\n",
    "        test_batch_acc_total = 0\n",
    "        test_batch_count = 0\n",
    "        \n",
    "        for train_feature_batch, train_label_batch in helper.batch_features_labels(test_features, test_labels, batch_size):\n",
    "            test_batch_acc_total += sess.run(\n",
    "                loaded_acc,\n",
    "                feed_dict={loaded_x: train_feature_batch, loaded_y: train_label_batch, loaded_keep_prob: 1.0})\n",
    "            test_batch_count += 1\n",
    "\n",
    "        print('Testing Accuracy: {}\\n'.format(test_batch_acc_total/test_batch_count))\n",
    "\n",
    "        # Print Random Samples\n",
    "        random_test_features, random_test_labels = tuple(zip(*random.sample(list(zip(test_features, test_labels)), n_samples)))\n",
    "        random_test_predictions = sess.run(\n",
    "            tf.nn.top_k(tf.nn.softmax(loaded_logits), top_n_predictions),\n",
    "            feed_dict={loaded_x: random_test_features, loaded_y: random_test_labels, loaded_keep_prob: 1.0})\n",
    "        helper.display_image_predictions(random_test_features, random_test_labels, random_test_predictions)\n",
    "\n",
    "\n",
    "test_model()"
   ]
  },
  {
   "cell_type": "markdown",
   "metadata": {
    "deletable": true,
    "editable": true
   },
   "source": [
    "## Why 50-70% Accuracy?\n",
    "You might be wondering why you can't get an accuracy any higher. First things first, 50% isn't bad for a simple CNN.  Pure guessing would get you 10% accuracy. However, you might notice people are getting scores [well above 70%](http://rodrigob.github.io/are_we_there_yet/build/classification_datasets_results.html#43494641522d3130).  That's because we haven't taught you all there is to know about neural networks. We still need to cover a few more techniques.\n",
    "## Submitting This Project\n",
    "When submitting this project, make sure to run all the cells before saving the notebook.  Save the notebook file as \"dlnd_image_classification.ipynb\" and save it as a HTML file under \"File\" -> \"Download as\".  Include the \"helper.py\" and \"problem_unittests.py\" files in your submission."
   ]
  }
 ],
 "metadata": {
  "kernelspec": {
   "display_name": "Python [conda env:dl]",
   "language": "python",
   "name": "conda-env-dl-py"
  },
  "language_info": {
   "codemirror_mode": {
    "name": "ipython",
    "version": 3
   },
   "file_extension": ".py",
   "mimetype": "text/x-python",
   "name": "python",
   "nbconvert_exporter": "python",
   "pygments_lexer": "ipython3",
   "version": "3.5.2"
  },
  "widgets": {
   "state": {},
   "version": "1.1.2"
  }
 },
 "nbformat": 4,
 "nbformat_minor": 0
}
