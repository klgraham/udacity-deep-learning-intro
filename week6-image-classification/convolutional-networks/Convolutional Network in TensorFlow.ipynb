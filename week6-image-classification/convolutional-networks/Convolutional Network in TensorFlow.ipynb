{
 "cells": [
  {
   "cell_type": "markdown",
   "metadata": {},
   "source": [
    "The structure of this network follows the classic structure of CNNs, which is a mix of convolutional layers and max pooling, followed by fully-connected layers."
   ]
  },
  {
   "cell_type": "code",
   "execution_count": 1,
   "metadata": {
    "collapsed": true
   },
   "outputs": [],
   "source": [
    "import tensorflow as tf"
   ]
  },
  {
   "cell_type": "markdown",
   "metadata": {},
   "source": [
    "# Get the data"
   ]
  },
  {
   "cell_type": "code",
   "execution_count": 2,
   "metadata": {
    "collapsed": false
   },
   "outputs": [
    {
     "name": "stdout",
     "output_type": "stream",
     "text": [
      "Extracting ../train-images-idx3-ubyte.gz\n",
      "Extracting ../train-labels-idx1-ubyte.gz\n",
      "Extracting ../t10k-images-idx3-ubyte.gz\n",
      "Extracting ../t10k-labels-idx1-ubyte.gz\n"
     ]
    }
   ],
   "source": [
    "from tensorflow.examples.tutorials.mnist import input_data\n",
    "mnist = input_data.read_data_sets(\"../\", one_hot=True, reshape=False)"
   ]
  },
  {
   "cell_type": "markdown",
   "metadata": {},
   "source": [
    "# Hyperparameters"
   ]
  },
  {
   "cell_type": "code",
   "execution_count": 17,
   "metadata": {
    "collapsed": true
   },
   "outputs": [],
   "source": [
    "# Parameters\n",
    "learning_rate = 0.00001\n",
    "epochs = 10\n",
    "batch_size = 128\n",
    "\n",
    "# Number of samples to calculate validation and accuracy\n",
    "# Decrease this if you're running out of memory to calculate accuracy\n",
    "test_valid_size = 256\n",
    "\n",
    "# Network Parameters\n",
    "n_classes = 10  # MNIST total classes (0-9 digits)\n",
    "dropout = 0.75  # Dropout, probability to keep units"
   ]
  },
  {
   "cell_type": "markdown",
   "metadata": {},
   "source": [
    "# Weights and Biases"
   ]
  },
  {
   "cell_type": "code",
   "execution_count": 19,
   "metadata": {
    "collapsed": true
   },
   "outputs": [],
   "source": [
    "# Store layers weight & bias\n",
    "# form of weights inputs are width,height, depth, # filters\n",
    "weights = {\n",
    "    'wc1': tf.Variable(tf.truncated_normal([5, 5, 1, 32])), # weights for 32 5x5x1 filters\n",
    "    'wc2': tf.Variable(tf.truncated_normal([5, 5, 32, 64])), # weights for 64 5x5x32 filters\n",
    "    'wd1': tf.Variable(tf.truncated_normal([7*7*64, 1024])), # weights for relu to fully-connected layer\n",
    "    'out': tf.Variable(tf.truncated_normal([1024, n_classes]))} # \n",
    "\n",
    "biases = {\n",
    "    'bc1': tf.Variable(tf.random_normal([32])), # bias for the 32 filters\n",
    "    'bc2': tf.Variable(tf.random_normal([64])), # bias for the 64 filters\n",
    "    'bd1': tf.Variable(tf.random_normal([1024])), # bias for the full layer\n",
    "    'out': tf.Variable(tf.random_normal([n_classes]))}"
   ]
  },
  {
   "cell_type": "code",
   "execution_count": 7,
   "metadata": {
    "collapsed": true
   },
   "outputs": [],
   "source": [
    "# Convulution layer\n",
    "def conv2d(x, W, b, stride=1):\n",
    "    x = tf.nn.conv2d(x, W, strides=[1, stride, stride, 1], padding='SAME')\n",
    "    x = tf.nn.bias_add(x, b)\n",
    "    return tf.nn.relu(x)"
   ]
  },
  {
   "cell_type": "code",
   "execution_count": 6,
   "metadata": {
    "collapsed": true
   },
   "outputs": [],
   "source": [
    "# k by k max pooling layer\n",
    "def maxpool2d(x, k=2):\n",
    "    return tf.nn.max_pool(\n",
    "        x,\n",
    "        ksize=[1, k, k, 1],\n",
    "        strides=[1, k, k, 1],\n",
    "        padding='SAME')"
   ]
  },
  {
   "cell_type": "markdown",
   "metadata": {},
   "source": [
    "# Model \n",
    "\n",
    "The model has three layers, alternating between convolutions and max pooling, followed by a fully connected and output layer. The transformation of each layer to new dimensions are shown in the comments. For example, the first layer shapes the images from ```28x28x1``` to ```28x28x32``` in the convolution step. Then next step applies max pooling, turning each sample into ```14x14x32```. All the layers are applied from conv1 to output, producing 10 class predictions."
   ]
  },
  {
   "cell_type": "code",
   "execution_count": 20,
   "metadata": {
    "collapsed": true
   },
   "outputs": [],
   "source": [
    "def conv_net(x, weights, biases, dropout):\n",
    "    # Layer 1: 28*28*1 to 14*14*32, using 32 5x5x1 filters\n",
    "    conv1 = conv2d(x, weights['wc1'], biases['bc1'])\n",
    "    # 2x2 max pooling\n",
    "    conv1 = maxpool2d(conv1, k=2)\n",
    "\n",
    "    # Layer 2: 14*14*32 to 7*7*64, using 64 5x5x32 filters\n",
    "    conv2 = conv2d(conv1, weights['wc2'], biases['bc2'])\n",
    "    # 2x2 max pooling\n",
    "    conv2 = maxpool2d(conv2, k=2)\n",
    "\n",
    "    # Fully connected layer: 7*7*64 to 1024\n",
    "    fc1 = tf.reshape(conv2, [-1, weights['wd1'].get_shape().as_list()[0]])\n",
    "    fc1 = tf.add(tf.matmul(fc1, weights['wd1']), biases['bd1'])\n",
    "    fc1 = tf.nn.relu(fc1)\n",
    "    fc1 = tf.nn.dropout(fc1, dropout)\n",
    "\n",
    "    # Output Layer - class prediction - 1024 to 10\n",
    "    out = tf.add(tf.matmul(fc1, weights['out']), biases['out'])\n",
    "    return out"
   ]
  },
  {
   "cell_type": "markdown",
   "metadata": {},
   "source": [
    "# Model Training & Testing"
   ]
  },
  {
   "cell_type": "code",
   "execution_count": 21,
   "metadata": {
    "collapsed": false
   },
   "outputs": [
    {
     "name": "stdout",
     "output_type": "stream",
     "text": [
      "Epoch  1, Batch  64 -Loss:  6574.7393 Validation Accuracy: 0.375000\n",
      "Epoch  1, Batch 128 -Loss:  2949.7703 Validation Accuracy: 0.519531\n",
      "Epoch  1, Batch 192 -Loss:  2365.6963 Validation Accuracy: 0.585938\n",
      "Epoch  1, Batch 256 -Loss:  1407.9883 Validation Accuracy: 0.613281\n",
      "Epoch  1, Batch 320 -Loss:  1149.4143 Validation Accuracy: 0.664062\n",
      "Epoch  1, Batch 384 -Loss:  1170.0652 Validation Accuracy: 0.683594\n",
      "Epoch  2, Batch  64 -Loss:  1286.1045 Validation Accuracy: 0.734375\n",
      "Epoch  2, Batch 128 -Loss:   790.8742 Validation Accuracy: 0.765625\n",
      "Epoch  2, Batch 192 -Loss:   907.0021 Validation Accuracy: 0.769531\n",
      "Epoch  2, Batch 256 -Loss:   881.4524 Validation Accuracy: 0.777344\n",
      "Epoch  2, Batch 320 -Loss:   817.6746 Validation Accuracy: 0.792969\n",
      "Epoch  2, Batch 384 -Loss:  1186.3710 Validation Accuracy: 0.792969\n",
      "Epoch  3, Batch  64 -Loss:   531.8604 Validation Accuracy: 0.796875\n",
      "Epoch  3, Batch 128 -Loss:   488.2843 Validation Accuracy: 0.804688\n",
      "Epoch  3, Batch 192 -Loss:   681.3949 Validation Accuracy: 0.808594\n",
      "Epoch  3, Batch 256 -Loss:   500.7276 Validation Accuracy: 0.808594\n",
      "Epoch  3, Batch 320 -Loss:   418.3156 Validation Accuracy: 0.808594\n",
      "Epoch  3, Batch 384 -Loss:   554.8116 Validation Accuracy: 0.816406\n",
      "Epoch  4, Batch  64 -Loss:   455.7987 Validation Accuracy: 0.820312\n",
      "Epoch  4, Batch 128 -Loss:   486.0181 Validation Accuracy: 0.824219\n",
      "Epoch  4, Batch 192 -Loss:   423.1029 Validation Accuracy: 0.820312\n",
      "Epoch  4, Batch 256 -Loss:   435.3423 Validation Accuracy: 0.820312\n",
      "Epoch  4, Batch 320 -Loss:   509.3270 Validation Accuracy: 0.828125\n",
      "Epoch  4, Batch 384 -Loss:   292.0300 Validation Accuracy: 0.832031\n",
      "Epoch  5, Batch  64 -Loss:   285.3006 Validation Accuracy: 0.828125\n",
      "Epoch  5, Batch 128 -Loss:   372.2653 Validation Accuracy: 0.824219\n",
      "Epoch  5, Batch 192 -Loss:   316.1923 Validation Accuracy: 0.816406\n",
      "Epoch  5, Batch 256 -Loss:   255.8815 Validation Accuracy: 0.820312\n",
      "Epoch  5, Batch 320 -Loss:   245.9036 Validation Accuracy: 0.835938\n",
      "Epoch  5, Batch 384 -Loss:   329.9839 Validation Accuracy: 0.820312\n",
      "Epoch  6, Batch  64 -Loss:   426.8849 Validation Accuracy: 0.835938\n",
      "Epoch  6, Batch 128 -Loss:   249.4955 Validation Accuracy: 0.824219\n",
      "Epoch  6, Batch 192 -Loss:   376.7419 Validation Accuracy: 0.839844\n",
      "Epoch  6, Batch 256 -Loss:   330.5397 Validation Accuracy: 0.839844\n",
      "Epoch  6, Batch 320 -Loss:   183.2710 Validation Accuracy: 0.832031\n",
      "Epoch  6, Batch 384 -Loss:   344.8059 Validation Accuracy: 0.835938\n",
      "Epoch  7, Batch  64 -Loss:   399.8449 Validation Accuracy: 0.839844\n",
      "Epoch  7, Batch 128 -Loss:   238.6413 Validation Accuracy: 0.839844\n",
      "Epoch  7, Batch 192 -Loss:   234.4294 Validation Accuracy: 0.847656\n",
      "Epoch  7, Batch 256 -Loss:   354.6571 Validation Accuracy: 0.847656\n",
      "Epoch  7, Batch 320 -Loss:   227.7283 Validation Accuracy: 0.843750\n",
      "Epoch  7, Batch 384 -Loss:   212.4884 Validation Accuracy: 0.855469\n",
      "Epoch  8, Batch  64 -Loss:   283.3430 Validation Accuracy: 0.847656\n",
      "Epoch  8, Batch 128 -Loss:   308.2243 Validation Accuracy: 0.843750\n",
      "Epoch  8, Batch 192 -Loss:   345.6595 Validation Accuracy: 0.839844\n",
      "Epoch  8, Batch 256 -Loss:   239.5110 Validation Accuracy: 0.847656\n",
      "Epoch  8, Batch 320 -Loss:   285.7240 Validation Accuracy: 0.847656\n",
      "Epoch  8, Batch 384 -Loss:   201.2977 Validation Accuracy: 0.851562\n",
      "Epoch  9, Batch  64 -Loss:   235.2978 Validation Accuracy: 0.843750\n",
      "Epoch  9, Batch 128 -Loss:   225.8169 Validation Accuracy: 0.843750\n",
      "Epoch  9, Batch 192 -Loss:   324.2181 Validation Accuracy: 0.843750\n",
      "Epoch  9, Batch 256 -Loss:   148.0956 Validation Accuracy: 0.859375\n",
      "Epoch  9, Batch 320 -Loss:   166.6896 Validation Accuracy: 0.855469\n",
      "Epoch  9, Batch 384 -Loss:   180.0452 Validation Accuracy: 0.851562\n",
      "Epoch 10, Batch  64 -Loss:   227.3715 Validation Accuracy: 0.847656\n",
      "Epoch 10, Batch 128 -Loss:   247.6140 Validation Accuracy: 0.851562\n",
      "Epoch 10, Batch 192 -Loss:   227.2445 Validation Accuracy: 0.855469\n",
      "Epoch 10, Batch 256 -Loss:   230.9216 Validation Accuracy: 0.855469\n",
      "Epoch 10, Batch 320 -Loss:   137.8932 Validation Accuracy: 0.847656\n",
      "Epoch 10, Batch 384 -Loss:   241.4028 Validation Accuracy: 0.851562\n",
      "Testing Accuracy: 0.875\n"
     ]
    }
   ],
   "source": [
    "# tf Graph input\n",
    "x = tf.placeholder(tf.float32, [None, 28, 28, 1])\n",
    "y = tf.placeholder(tf.float32, [None, n_classes])\n",
    "keep_prob = tf.placeholder(tf.float32)\n",
    "\n",
    "# Model\n",
    "logits = conv_net(x, weights, biases, keep_prob)\n",
    "\n",
    "# Define loss and optimizer\n",
    "cost = tf.reduce_mean(tf.nn.softmax_cross_entropy_with_logits(logits=logits, labels=y))\n",
    "optimizer = tf.train.GradientDescentOptimizer(learning_rate=learning_rate).minimize(cost)\n",
    "\n",
    "# Accuracy\n",
    "correct_pred = tf.equal(tf.argmax(logits, 1), tf.argmax(y, 1))\n",
    "accuracy = tf.reduce_mean(tf.cast(correct_pred, tf.float32))\n",
    "\n",
    "# Initializing the variables\n",
    "init = tf. global_variables_initializer()\n",
    "\n",
    "# Launch the graph\n",
    "with tf.Session() as sess:\n",
    "    sess.run(init)\n",
    "\n",
    "    for epoch in range(epochs):\n",
    "        for batch in range(mnist.train.num_examples//batch_size):\n",
    "            batch_x, batch_y = mnist.train.next_batch(batch_size)\n",
    "            sess.run(optimizer, feed_dict={\n",
    "                x: batch_x,\n",
    "                y: batch_y,\n",
    "                keep_prob: dropout})\n",
    "\n",
    "            # Calculate batch loss and accuracy\n",
    "            loss = sess.run(cost, feed_dict={\n",
    "                x: batch_x,\n",
    "                y: batch_y,\n",
    "                keep_prob: 1.})\n",
    "            valid_acc = sess.run(accuracy, feed_dict={\n",
    "                x: mnist.validation.images[:test_valid_size],\n",
    "                y: mnist.validation.labels[:test_valid_size],\n",
    "                keep_prob: 1.})\n",
    "\n",
    "            if (batch+1) % 64 == 0:\n",
    "                print('Epoch {:>2}, Batch {:>3} -'\n",
    "                      'Loss: {:>10.4f} Validation Accuracy: {:.6f}'.format(\n",
    "                    epoch + 1,\n",
    "                    batch + 1,\n",
    "                    loss,\n",
    "                    valid_acc))\n",
    "\n",
    "    # Calculate Test Accuracy\n",
    "    test_acc = sess.run(accuracy, feed_dict={\n",
    "        x: mnist.test.images[:test_valid_size],\n",
    "        y: mnist.test.labels[:test_valid_size],\n",
    "        keep_prob: 1.})\n",
    "    print('Testing Accuracy: {}'.format(test_acc))"
   ]
  },
  {
   "cell_type": "code",
   "execution_count": null,
   "metadata": {
    "collapsed": true
   },
   "outputs": [],
   "source": []
  }
 ],
 "metadata": {
  "anaconda-cloud": {},
  "kernelspec": {
   "display_name": "Python [conda env:tensorflow]",
   "language": "python",
   "name": "conda-env-tensorflow-py"
  },
  "language_info": {
   "codemirror_mode": {
    "name": "ipython",
    "version": 3
   },
   "file_extension": ".py",
   "mimetype": "text/x-python",
   "name": "python",
   "nbconvert_exporter": "python",
   "pygments_lexer": "ipython3",
   "version": "3.5.2"
  }
 },
 "nbformat": 4,
 "nbformat_minor": 2
}
